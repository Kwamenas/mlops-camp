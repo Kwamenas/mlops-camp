{
 "cells": [
  {
   "cell_type": "code",
   "execution_count": 2,
   "id": "e65ea6d6",
   "metadata": {},
   "outputs": [],
   "source": [
    "import pandas as pd\n",
    "import numpy as np\n",
    "from pandas import DataFrame,Series\n",
    "import seaborn as sns \n",
    "import matplotlib as plt\n",
    "from sklearn.feature_extraction import DictVectorizer\n",
    "from sklearn.linear_model import LinearRegression,Lasso,Ridge\n",
    "from sklearn.metrics import root_mean_squared_error,mean_squared_error\n",
    "import pickle\n",
    "from sklearn.ensemble import RandomForestRegressor,GradientBoostingRegressor\n",
    "\n",
    "\n"
   ]
  },
  {
   "cell_type": "markdown",
   "id": "8209071b",
   "metadata": {},
   "source": [
    "# Load the Data"
   ]
  },
  {
   "cell_type": "code",
   "execution_count": 3,
   "id": "236f3907",
   "metadata": {},
   "outputs": [],
   "source": [
    "Jan_df=pd.read_parquet('https://d37ci6vzurychx.cloudfront.net/trip-data/green_tripdata_2024-01.parquet')\n",
    "Feb_df=pd.read_parquet('https://d37ci6vzurychx.cloudfront.net/trip-data/green_tripdata_2024-02.parquet')"
   ]
  },
  {
   "cell_type": "code",
   "execution_count": 4,
   "id": "2845e99e",
   "metadata": {},
   "outputs": [],
   "source": [
    "import os \n",
    "os.makedirs('data',exist_ok=True)\n",
    "\n",
    "Jan_df.to_csv('data/train_data.csv',index=False)\n",
    "Feb_df.to_csv('data/valid_data.csv',index=False)"
   ]
  },
  {
   "cell_type": "markdown",
   "id": "e7f66ad5",
   "metadata": {},
   "source": [
    "# Initially Explore Data"
   ]
  },
  {
   "cell_type": "code",
   "execution_count": 5,
   "id": "6ff48d0c",
   "metadata": {},
   "outputs": [
    {
     "data": {
      "text/html": [
       "<div>\n",
       "<style scoped>\n",
       "    .dataframe tbody tr th:only-of-type {\n",
       "        vertical-align: middle;\n",
       "    }\n",
       "\n",
       "    .dataframe tbody tr th {\n",
       "        vertical-align: top;\n",
       "    }\n",
       "\n",
       "    .dataframe thead th {\n",
       "        text-align: right;\n",
       "    }\n",
       "</style>\n",
       "<table border=\"1\" class=\"dataframe\">\n",
       "  <thead>\n",
       "    <tr style=\"text-align: right;\">\n",
       "      <th></th>\n",
       "      <th>VendorID</th>\n",
       "      <th>lpep_pickup_datetime</th>\n",
       "      <th>lpep_dropoff_datetime</th>\n",
       "      <th>store_and_fwd_flag</th>\n",
       "      <th>RatecodeID</th>\n",
       "      <th>PULocationID</th>\n",
       "      <th>DOLocationID</th>\n",
       "      <th>passenger_count</th>\n",
       "      <th>trip_distance</th>\n",
       "      <th>fare_amount</th>\n",
       "      <th>extra</th>\n",
       "      <th>mta_tax</th>\n",
       "      <th>tip_amount</th>\n",
       "      <th>tolls_amount</th>\n",
       "      <th>ehail_fee</th>\n",
       "      <th>improvement_surcharge</th>\n",
       "      <th>total_amount</th>\n",
       "      <th>payment_type</th>\n",
       "      <th>trip_type</th>\n",
       "      <th>congestion_surcharge</th>\n",
       "    </tr>\n",
       "  </thead>\n",
       "  <tbody>\n",
       "    <tr>\n",
       "      <th>0</th>\n",
       "      <td>2</td>\n",
       "      <td>2024-01-01 00:46:55</td>\n",
       "      <td>2024-01-01 00:58:25</td>\n",
       "      <td>N</td>\n",
       "      <td>1.0</td>\n",
       "      <td>236</td>\n",
       "      <td>239</td>\n",
       "      <td>1.0</td>\n",
       "      <td>1.98</td>\n",
       "      <td>12.8</td>\n",
       "      <td>1.0</td>\n",
       "      <td>0.5</td>\n",
       "      <td>3.61</td>\n",
       "      <td>0.0</td>\n",
       "      <td>NaN</td>\n",
       "      <td>1.0</td>\n",
       "      <td>21.66</td>\n",
       "      <td>1.0</td>\n",
       "      <td>1.0</td>\n",
       "      <td>2.75</td>\n",
       "    </tr>\n",
       "    <tr>\n",
       "      <th>1</th>\n",
       "      <td>2</td>\n",
       "      <td>2024-01-01 00:31:42</td>\n",
       "      <td>2024-01-01 00:52:34</td>\n",
       "      <td>N</td>\n",
       "      <td>1.0</td>\n",
       "      <td>65</td>\n",
       "      <td>170</td>\n",
       "      <td>5.0</td>\n",
       "      <td>6.54</td>\n",
       "      <td>30.3</td>\n",
       "      <td>1.0</td>\n",
       "      <td>0.5</td>\n",
       "      <td>7.11</td>\n",
       "      <td>0.0</td>\n",
       "      <td>NaN</td>\n",
       "      <td>1.0</td>\n",
       "      <td>42.66</td>\n",
       "      <td>1.0</td>\n",
       "      <td>1.0</td>\n",
       "      <td>2.75</td>\n",
       "    </tr>\n",
       "    <tr>\n",
       "      <th>2</th>\n",
       "      <td>2</td>\n",
       "      <td>2024-01-01 00:30:21</td>\n",
       "      <td>2024-01-01 00:49:23</td>\n",
       "      <td>N</td>\n",
       "      <td>1.0</td>\n",
       "      <td>74</td>\n",
       "      <td>262</td>\n",
       "      <td>1.0</td>\n",
       "      <td>3.08</td>\n",
       "      <td>19.8</td>\n",
       "      <td>1.0</td>\n",
       "      <td>0.5</td>\n",
       "      <td>3.00</td>\n",
       "      <td>0.0</td>\n",
       "      <td>NaN</td>\n",
       "      <td>1.0</td>\n",
       "      <td>28.05</td>\n",
       "      <td>1.0</td>\n",
       "      <td>1.0</td>\n",
       "      <td>2.75</td>\n",
       "    </tr>\n",
       "    <tr>\n",
       "      <th>3</th>\n",
       "      <td>1</td>\n",
       "      <td>2024-01-01 00:30:20</td>\n",
       "      <td>2024-01-01 00:42:12</td>\n",
       "      <td>N</td>\n",
       "      <td>1.0</td>\n",
       "      <td>74</td>\n",
       "      <td>116</td>\n",
       "      <td>1.0</td>\n",
       "      <td>2.40</td>\n",
       "      <td>14.2</td>\n",
       "      <td>1.0</td>\n",
       "      <td>1.5</td>\n",
       "      <td>0.00</td>\n",
       "      <td>0.0</td>\n",
       "      <td>NaN</td>\n",
       "      <td>1.0</td>\n",
       "      <td>16.70</td>\n",
       "      <td>2.0</td>\n",
       "      <td>1.0</td>\n",
       "      <td>0.00</td>\n",
       "    </tr>\n",
       "    <tr>\n",
       "      <th>4</th>\n",
       "      <td>2</td>\n",
       "      <td>2024-01-01 00:32:38</td>\n",
       "      <td>2024-01-01 00:43:37</td>\n",
       "      <td>N</td>\n",
       "      <td>1.0</td>\n",
       "      <td>74</td>\n",
       "      <td>243</td>\n",
       "      <td>1.0</td>\n",
       "      <td>5.14</td>\n",
       "      <td>22.6</td>\n",
       "      <td>1.0</td>\n",
       "      <td>0.5</td>\n",
       "      <td>6.28</td>\n",
       "      <td>0.0</td>\n",
       "      <td>NaN</td>\n",
       "      <td>1.0</td>\n",
       "      <td>31.38</td>\n",
       "      <td>1.0</td>\n",
       "      <td>1.0</td>\n",
       "      <td>0.00</td>\n",
       "    </tr>\n",
       "  </tbody>\n",
       "</table>\n",
       "</div>"
      ],
      "text/plain": [
       "   VendorID lpep_pickup_datetime lpep_dropoff_datetime store_and_fwd_flag  \\\n",
       "0         2  2024-01-01 00:46:55   2024-01-01 00:58:25                  N   \n",
       "1         2  2024-01-01 00:31:42   2024-01-01 00:52:34                  N   \n",
       "2         2  2024-01-01 00:30:21   2024-01-01 00:49:23                  N   \n",
       "3         1  2024-01-01 00:30:20   2024-01-01 00:42:12                  N   \n",
       "4         2  2024-01-01 00:32:38   2024-01-01 00:43:37                  N   \n",
       "\n",
       "   RatecodeID  PULocationID  DOLocationID  passenger_count  trip_distance  \\\n",
       "0         1.0           236           239              1.0           1.98   \n",
       "1         1.0            65           170              5.0           6.54   \n",
       "2         1.0            74           262              1.0           3.08   \n",
       "3         1.0            74           116              1.0           2.40   \n",
       "4         1.0            74           243              1.0           5.14   \n",
       "\n",
       "   fare_amount  extra  mta_tax  tip_amount  tolls_amount  ehail_fee  \\\n",
       "0         12.8    1.0      0.5        3.61           0.0        NaN   \n",
       "1         30.3    1.0      0.5        7.11           0.0        NaN   \n",
       "2         19.8    1.0      0.5        3.00           0.0        NaN   \n",
       "3         14.2    1.0      1.5        0.00           0.0        NaN   \n",
       "4         22.6    1.0      0.5        6.28           0.0        NaN   \n",
       "\n",
       "   improvement_surcharge  total_amount  payment_type  trip_type  \\\n",
       "0                    1.0         21.66           1.0        1.0   \n",
       "1                    1.0         42.66           1.0        1.0   \n",
       "2                    1.0         28.05           1.0        1.0   \n",
       "3                    1.0         16.70           2.0        1.0   \n",
       "4                    1.0         31.38           1.0        1.0   \n",
       "\n",
       "   congestion_surcharge  \n",
       "0                  2.75  \n",
       "1                  2.75  \n",
       "2                  2.75  \n",
       "3                  0.00  \n",
       "4                  0.00  "
      ]
     },
     "execution_count": 5,
     "metadata": {},
     "output_type": "execute_result"
    }
   ],
   "source": [
    "Jan_df.head()\n"
   ]
  },
  {
   "cell_type": "code",
   "execution_count": 6,
   "id": "553a3964",
   "metadata": {},
   "outputs": [
    {
     "data": {
      "text/html": [
       "<div>\n",
       "<style scoped>\n",
       "    .dataframe tbody tr th:only-of-type {\n",
       "        vertical-align: middle;\n",
       "    }\n",
       "\n",
       "    .dataframe tbody tr th {\n",
       "        vertical-align: top;\n",
       "    }\n",
       "\n",
       "    .dataframe thead th {\n",
       "        text-align: right;\n",
       "    }\n",
       "</style>\n",
       "<table border=\"1\" class=\"dataframe\">\n",
       "  <thead>\n",
       "    <tr style=\"text-align: right;\">\n",
       "      <th></th>\n",
       "      <th>VendorID</th>\n",
       "      <th>lpep_pickup_datetime</th>\n",
       "      <th>lpep_dropoff_datetime</th>\n",
       "      <th>store_and_fwd_flag</th>\n",
       "      <th>RatecodeID</th>\n",
       "      <th>PULocationID</th>\n",
       "      <th>DOLocationID</th>\n",
       "      <th>passenger_count</th>\n",
       "      <th>trip_distance</th>\n",
       "      <th>fare_amount</th>\n",
       "      <th>extra</th>\n",
       "      <th>mta_tax</th>\n",
       "      <th>tip_amount</th>\n",
       "      <th>tolls_amount</th>\n",
       "      <th>ehail_fee</th>\n",
       "      <th>improvement_surcharge</th>\n",
       "      <th>total_amount</th>\n",
       "      <th>payment_type</th>\n",
       "      <th>trip_type</th>\n",
       "      <th>congestion_surcharge</th>\n",
       "    </tr>\n",
       "  </thead>\n",
       "  <tbody>\n",
       "    <tr>\n",
       "      <th>0</th>\n",
       "      <td>2</td>\n",
       "      <td>2024-02-01 00:15:53</td>\n",
       "      <td>2024-02-01 00:24:20</td>\n",
       "      <td>N</td>\n",
       "      <td>1.0</td>\n",
       "      <td>75</td>\n",
       "      <td>161</td>\n",
       "      <td>1.0</td>\n",
       "      <td>2.77</td>\n",
       "      <td>13.5</td>\n",
       "      <td>1.0</td>\n",
       "      <td>0.5</td>\n",
       "      <td>3.75</td>\n",
       "      <td>0.0</td>\n",
       "      <td>NaN</td>\n",
       "      <td>1.0</td>\n",
       "      <td>22.50</td>\n",
       "      <td>1.0</td>\n",
       "      <td>1.0</td>\n",
       "      <td>2.75</td>\n",
       "    </tr>\n",
       "    <tr>\n",
       "      <th>1</th>\n",
       "      <td>2</td>\n",
       "      <td>2024-01-31 22:59:22</td>\n",
       "      <td>2024-01-31 23:27:14</td>\n",
       "      <td>N</td>\n",
       "      <td>1.0</td>\n",
       "      <td>43</td>\n",
       "      <td>242</td>\n",
       "      <td>1.0</td>\n",
       "      <td>7.76</td>\n",
       "      <td>36.6</td>\n",
       "      <td>1.0</td>\n",
       "      <td>0.5</td>\n",
       "      <td>0.00</td>\n",
       "      <td>0.0</td>\n",
       "      <td>NaN</td>\n",
       "      <td>1.0</td>\n",
       "      <td>39.10</td>\n",
       "      <td>2.0</td>\n",
       "      <td>1.0</td>\n",
       "      <td>0.00</td>\n",
       "    </tr>\n",
       "    <tr>\n",
       "      <th>2</th>\n",
       "      <td>2</td>\n",
       "      <td>2024-02-01 00:30:29</td>\n",
       "      <td>2024-02-01 00:35:32</td>\n",
       "      <td>N</td>\n",
       "      <td>1.0</td>\n",
       "      <td>75</td>\n",
       "      <td>238</td>\n",
       "      <td>1.0</td>\n",
       "      <td>1.03</td>\n",
       "      <td>7.9</td>\n",
       "      <td>1.0</td>\n",
       "      <td>0.5</td>\n",
       "      <td>2.60</td>\n",
       "      <td>0.0</td>\n",
       "      <td>NaN</td>\n",
       "      <td>1.0</td>\n",
       "      <td>13.00</td>\n",
       "      <td>1.0</td>\n",
       "      <td>1.0</td>\n",
       "      <td>0.00</td>\n",
       "    </tr>\n",
       "    <tr>\n",
       "      <th>3</th>\n",
       "      <td>2</td>\n",
       "      <td>2024-01-31 23:56:42</td>\n",
       "      <td>2024-02-01 00:06:53</td>\n",
       "      <td>N</td>\n",
       "      <td>1.0</td>\n",
       "      <td>80</td>\n",
       "      <td>17</td>\n",
       "      <td>2.0</td>\n",
       "      <td>1.36</td>\n",
       "      <td>11.4</td>\n",
       "      <td>1.0</td>\n",
       "      <td>0.5</td>\n",
       "      <td>4.17</td>\n",
       "      <td>0.0</td>\n",
       "      <td>NaN</td>\n",
       "      <td>1.0</td>\n",
       "      <td>18.07</td>\n",
       "      <td>1.0</td>\n",
       "      <td>1.0</td>\n",
       "      <td>0.00</td>\n",
       "    </tr>\n",
       "    <tr>\n",
       "      <th>4</th>\n",
       "      <td>2</td>\n",
       "      <td>2024-02-01 00:31:14</td>\n",
       "      <td>2024-02-01 00:31:16</td>\n",
       "      <td>N</td>\n",
       "      <td>5.0</td>\n",
       "      <td>95</td>\n",
       "      <td>264</td>\n",
       "      <td>1.0</td>\n",
       "      <td>0.00</td>\n",
       "      <td>50.0</td>\n",
       "      <td>0.0</td>\n",
       "      <td>0.0</td>\n",
       "      <td>1.00</td>\n",
       "      <td>0.0</td>\n",
       "      <td>NaN</td>\n",
       "      <td>1.0</td>\n",
       "      <td>52.00</td>\n",
       "      <td>1.0</td>\n",
       "      <td>2.0</td>\n",
       "      <td>0.00</td>\n",
       "    </tr>\n",
       "  </tbody>\n",
       "</table>\n",
       "</div>"
      ],
      "text/plain": [
       "   VendorID lpep_pickup_datetime lpep_dropoff_datetime store_and_fwd_flag  \\\n",
       "0         2  2024-02-01 00:15:53   2024-02-01 00:24:20                  N   \n",
       "1         2  2024-01-31 22:59:22   2024-01-31 23:27:14                  N   \n",
       "2         2  2024-02-01 00:30:29   2024-02-01 00:35:32                  N   \n",
       "3         2  2024-01-31 23:56:42   2024-02-01 00:06:53                  N   \n",
       "4         2  2024-02-01 00:31:14   2024-02-01 00:31:16                  N   \n",
       "\n",
       "   RatecodeID  PULocationID  DOLocationID  passenger_count  trip_distance  \\\n",
       "0         1.0            75           161              1.0           2.77   \n",
       "1         1.0            43           242              1.0           7.76   \n",
       "2         1.0            75           238              1.0           1.03   \n",
       "3         1.0            80            17              2.0           1.36   \n",
       "4         5.0            95           264              1.0           0.00   \n",
       "\n",
       "   fare_amount  extra  mta_tax  tip_amount  tolls_amount  ehail_fee  \\\n",
       "0         13.5    1.0      0.5        3.75           0.0        NaN   \n",
       "1         36.6    1.0      0.5        0.00           0.0        NaN   \n",
       "2          7.9    1.0      0.5        2.60           0.0        NaN   \n",
       "3         11.4    1.0      0.5        4.17           0.0        NaN   \n",
       "4         50.0    0.0      0.0        1.00           0.0        NaN   \n",
       "\n",
       "   improvement_surcharge  total_amount  payment_type  trip_type  \\\n",
       "0                    1.0         22.50           1.0        1.0   \n",
       "1                    1.0         39.10           2.0        1.0   \n",
       "2                    1.0         13.00           1.0        1.0   \n",
       "3                    1.0         18.07           1.0        1.0   \n",
       "4                    1.0         52.00           1.0        2.0   \n",
       "\n",
       "   congestion_surcharge  \n",
       "0                  2.75  \n",
       "1                  0.00  \n",
       "2                  0.00  \n",
       "3                  0.00  \n",
       "4                  0.00  "
      ]
     },
     "execution_count": 6,
     "metadata": {},
     "output_type": "execute_result"
    }
   ],
   "source": [
    "Feb_df.head()"
   ]
  },
  {
   "cell_type": "code",
   "execution_count": 7,
   "id": "f5561bb4",
   "metadata": {},
   "outputs": [
    {
     "name": "stdout",
     "output_type": "stream",
     "text": [
      "<class 'pandas.core.frame.DataFrame'>\n",
      "RangeIndex: 56551 entries, 0 to 56550\n",
      "Data columns (total 20 columns):\n",
      " #   Column                 Non-Null Count  Dtype         \n",
      "---  ------                 --------------  -----         \n",
      " 0   VendorID               56551 non-null  int32         \n",
      " 1   lpep_pickup_datetime   56551 non-null  datetime64[us]\n",
      " 2   lpep_dropoff_datetime  56551 non-null  datetime64[us]\n",
      " 3   store_and_fwd_flag     53136 non-null  object        \n",
      " 4   RatecodeID             53136 non-null  float64       \n",
      " 5   PULocationID           56551 non-null  int32         \n",
      " 6   DOLocationID           56551 non-null  int32         \n",
      " 7   passenger_count        53136 non-null  float64       \n",
      " 8   trip_distance          56551 non-null  float64       \n",
      " 9   fare_amount            56551 non-null  float64       \n",
      " 10  extra                  56551 non-null  float64       \n",
      " 11  mta_tax                56551 non-null  float64       \n",
      " 12  tip_amount             56551 non-null  float64       \n",
      " 13  tolls_amount           56551 non-null  float64       \n",
      " 14  ehail_fee              0 non-null      float64       \n",
      " 15  improvement_surcharge  56551 non-null  float64       \n",
      " 16  total_amount           56551 non-null  float64       \n",
      " 17  payment_type           53136 non-null  float64       \n",
      " 18  trip_type              53133 non-null  float64       \n",
      " 19  congestion_surcharge   53136 non-null  float64       \n",
      "dtypes: datetime64[us](2), float64(14), int32(3), object(1)\n",
      "memory usage: 8.0+ MB\n"
     ]
    }
   ],
   "source": [
    "Jan_df.info()"
   ]
  },
  {
   "cell_type": "code",
   "execution_count": 8,
   "id": "2d8297b1",
   "metadata": {},
   "outputs": [
    {
     "data": {
      "text/plain": [
       "VendorID                     0\n",
       "lpep_pickup_datetime         0\n",
       "lpep_dropoff_datetime        0\n",
       "store_and_fwd_flag        3415\n",
       "RatecodeID                3415\n",
       "PULocationID                 0\n",
       "DOLocationID                 0\n",
       "passenger_count           3415\n",
       "trip_distance                0\n",
       "fare_amount                  0\n",
       "extra                        0\n",
       "mta_tax                      0\n",
       "tip_amount                   0\n",
       "tolls_amount                 0\n",
       "ehail_fee                56551\n",
       "improvement_surcharge        0\n",
       "total_amount                 0\n",
       "payment_type              3415\n",
       "trip_type                 3418\n",
       "congestion_surcharge      3415\n",
       "dtype: int64"
      ]
     },
     "execution_count": 8,
     "metadata": {},
     "output_type": "execute_result"
    }
   ],
   "source": [
    "Jan_df.isnull().sum()"
   ]
  },
  {
   "cell_type": "markdown",
   "id": "0b7a415a",
   "metadata": {},
   "source": []
  },
  {
   "cell_type": "markdown",
   "id": "f1678ef8",
   "metadata": {},
   "source": [
    "# Feature Engineering\n",
    "\n",
    "#### we are going to use the tpep_pickup_datetime  and tpep_dropoff_datetime to get the trip duration \n"
   ]
  },
  {
   "cell_type": "code",
   "execution_count": 9,
   "id": "bdf7f567",
   "metadata": {},
   "outputs": [],
   "source": [
    "Jan_df['trip_duration_min']=(Jan_df['lpep_dropoff_datetime']-Jan_df['lpep_pickup_datetime']).dt.total_seconds()/60"
   ]
  },
  {
   "cell_type": "code",
   "execution_count": 10,
   "id": "be2aa9e5",
   "metadata": {},
   "outputs": [
    {
     "data": {
      "text/html": [
       "<div>\n",
       "<style scoped>\n",
       "    .dataframe tbody tr th:only-of-type {\n",
       "        vertical-align: middle;\n",
       "    }\n",
       "\n",
       "    .dataframe tbody tr th {\n",
       "        vertical-align: top;\n",
       "    }\n",
       "\n",
       "    .dataframe thead th {\n",
       "        text-align: right;\n",
       "    }\n",
       "</style>\n",
       "<table border=\"1\" class=\"dataframe\">\n",
       "  <thead>\n",
       "    <tr style=\"text-align: right;\">\n",
       "      <th></th>\n",
       "      <th>VendorID</th>\n",
       "      <th>lpep_pickup_datetime</th>\n",
       "      <th>lpep_dropoff_datetime</th>\n",
       "      <th>store_and_fwd_flag</th>\n",
       "      <th>RatecodeID</th>\n",
       "      <th>PULocationID</th>\n",
       "      <th>DOLocationID</th>\n",
       "      <th>passenger_count</th>\n",
       "      <th>trip_distance</th>\n",
       "      <th>fare_amount</th>\n",
       "      <th>...</th>\n",
       "      <th>mta_tax</th>\n",
       "      <th>tip_amount</th>\n",
       "      <th>tolls_amount</th>\n",
       "      <th>ehail_fee</th>\n",
       "      <th>improvement_surcharge</th>\n",
       "      <th>total_amount</th>\n",
       "      <th>payment_type</th>\n",
       "      <th>trip_type</th>\n",
       "      <th>congestion_surcharge</th>\n",
       "      <th>trip_duration_min</th>\n",
       "    </tr>\n",
       "  </thead>\n",
       "  <tbody>\n",
       "    <tr>\n",
       "      <th>0</th>\n",
       "      <td>2</td>\n",
       "      <td>2024-01-01 00:46:55</td>\n",
       "      <td>2024-01-01 00:58:25</td>\n",
       "      <td>N</td>\n",
       "      <td>1.0</td>\n",
       "      <td>236</td>\n",
       "      <td>239</td>\n",
       "      <td>1.0</td>\n",
       "      <td>1.98</td>\n",
       "      <td>12.80</td>\n",
       "      <td>...</td>\n",
       "      <td>0.5</td>\n",
       "      <td>3.61</td>\n",
       "      <td>0.0</td>\n",
       "      <td>NaN</td>\n",
       "      <td>1.0</td>\n",
       "      <td>21.66</td>\n",
       "      <td>1.0</td>\n",
       "      <td>1.0</td>\n",
       "      <td>2.75</td>\n",
       "      <td>11.500000</td>\n",
       "    </tr>\n",
       "    <tr>\n",
       "      <th>1</th>\n",
       "      <td>2</td>\n",
       "      <td>2024-01-01 00:31:42</td>\n",
       "      <td>2024-01-01 00:52:34</td>\n",
       "      <td>N</td>\n",
       "      <td>1.0</td>\n",
       "      <td>65</td>\n",
       "      <td>170</td>\n",
       "      <td>5.0</td>\n",
       "      <td>6.54</td>\n",
       "      <td>30.30</td>\n",
       "      <td>...</td>\n",
       "      <td>0.5</td>\n",
       "      <td>7.11</td>\n",
       "      <td>0.0</td>\n",
       "      <td>NaN</td>\n",
       "      <td>1.0</td>\n",
       "      <td>42.66</td>\n",
       "      <td>1.0</td>\n",
       "      <td>1.0</td>\n",
       "      <td>2.75</td>\n",
       "      <td>20.866667</td>\n",
       "    </tr>\n",
       "    <tr>\n",
       "      <th>2</th>\n",
       "      <td>2</td>\n",
       "      <td>2024-01-01 00:30:21</td>\n",
       "      <td>2024-01-01 00:49:23</td>\n",
       "      <td>N</td>\n",
       "      <td>1.0</td>\n",
       "      <td>74</td>\n",
       "      <td>262</td>\n",
       "      <td>1.0</td>\n",
       "      <td>3.08</td>\n",
       "      <td>19.80</td>\n",
       "      <td>...</td>\n",
       "      <td>0.5</td>\n",
       "      <td>3.00</td>\n",
       "      <td>0.0</td>\n",
       "      <td>NaN</td>\n",
       "      <td>1.0</td>\n",
       "      <td>28.05</td>\n",
       "      <td>1.0</td>\n",
       "      <td>1.0</td>\n",
       "      <td>2.75</td>\n",
       "      <td>19.033333</td>\n",
       "    </tr>\n",
       "    <tr>\n",
       "      <th>3</th>\n",
       "      <td>1</td>\n",
       "      <td>2024-01-01 00:30:20</td>\n",
       "      <td>2024-01-01 00:42:12</td>\n",
       "      <td>N</td>\n",
       "      <td>1.0</td>\n",
       "      <td>74</td>\n",
       "      <td>116</td>\n",
       "      <td>1.0</td>\n",
       "      <td>2.40</td>\n",
       "      <td>14.20</td>\n",
       "      <td>...</td>\n",
       "      <td>1.5</td>\n",
       "      <td>0.00</td>\n",
       "      <td>0.0</td>\n",
       "      <td>NaN</td>\n",
       "      <td>1.0</td>\n",
       "      <td>16.70</td>\n",
       "      <td>2.0</td>\n",
       "      <td>1.0</td>\n",
       "      <td>0.00</td>\n",
       "      <td>11.866667</td>\n",
       "    </tr>\n",
       "    <tr>\n",
       "      <th>4</th>\n",
       "      <td>2</td>\n",
       "      <td>2024-01-01 00:32:38</td>\n",
       "      <td>2024-01-01 00:43:37</td>\n",
       "      <td>N</td>\n",
       "      <td>1.0</td>\n",
       "      <td>74</td>\n",
       "      <td>243</td>\n",
       "      <td>1.0</td>\n",
       "      <td>5.14</td>\n",
       "      <td>22.60</td>\n",
       "      <td>...</td>\n",
       "      <td>0.5</td>\n",
       "      <td>6.28</td>\n",
       "      <td>0.0</td>\n",
       "      <td>NaN</td>\n",
       "      <td>1.0</td>\n",
       "      <td>31.38</td>\n",
       "      <td>1.0</td>\n",
       "      <td>1.0</td>\n",
       "      <td>0.00</td>\n",
       "      <td>10.983333</td>\n",
       "    </tr>\n",
       "    <tr>\n",
       "      <th>...</th>\n",
       "      <td>...</td>\n",
       "      <td>...</td>\n",
       "      <td>...</td>\n",
       "      <td>...</td>\n",
       "      <td>...</td>\n",
       "      <td>...</td>\n",
       "      <td>...</td>\n",
       "      <td>...</td>\n",
       "      <td>...</td>\n",
       "      <td>...</td>\n",
       "      <td>...</td>\n",
       "      <td>...</td>\n",
       "      <td>...</td>\n",
       "      <td>...</td>\n",
       "      <td>...</td>\n",
       "      <td>...</td>\n",
       "      <td>...</td>\n",
       "      <td>...</td>\n",
       "      <td>...</td>\n",
       "      <td>...</td>\n",
       "      <td>...</td>\n",
       "    </tr>\n",
       "    <tr>\n",
       "      <th>56546</th>\n",
       "      <td>2</td>\n",
       "      <td>2024-01-31 20:46:00</td>\n",
       "      <td>2024-01-31 20:55:00</td>\n",
       "      <td>None</td>\n",
       "      <td>NaN</td>\n",
       "      <td>33</td>\n",
       "      <td>25</td>\n",
       "      <td>NaN</td>\n",
       "      <td>0.00</td>\n",
       "      <td>11.58</td>\n",
       "      <td>...</td>\n",
       "      <td>0.0</td>\n",
       "      <td>3.14</td>\n",
       "      <td>0.0</td>\n",
       "      <td>NaN</td>\n",
       "      <td>1.0</td>\n",
       "      <td>15.72</td>\n",
       "      <td>NaN</td>\n",
       "      <td>NaN</td>\n",
       "      <td>NaN</td>\n",
       "      <td>9.000000</td>\n",
       "    </tr>\n",
       "    <tr>\n",
       "      <th>56547</th>\n",
       "      <td>2</td>\n",
       "      <td>2024-01-31 21:06:00</td>\n",
       "      <td>2024-01-31 21:11:00</td>\n",
       "      <td>None</td>\n",
       "      <td>NaN</td>\n",
       "      <td>72</td>\n",
       "      <td>72</td>\n",
       "      <td>NaN</td>\n",
       "      <td>0.49</td>\n",
       "      <td>11.58</td>\n",
       "      <td>...</td>\n",
       "      <td>0.0</td>\n",
       "      <td>0.00</td>\n",
       "      <td>0.0</td>\n",
       "      <td>NaN</td>\n",
       "      <td>1.0</td>\n",
       "      <td>12.58</td>\n",
       "      <td>NaN</td>\n",
       "      <td>NaN</td>\n",
       "      <td>NaN</td>\n",
       "      <td>5.000000</td>\n",
       "    </tr>\n",
       "    <tr>\n",
       "      <th>56548</th>\n",
       "      <td>2</td>\n",
       "      <td>2024-01-31 21:36:00</td>\n",
       "      <td>2024-01-31 21:40:00</td>\n",
       "      <td>None</td>\n",
       "      <td>NaN</td>\n",
       "      <td>72</td>\n",
       "      <td>72</td>\n",
       "      <td>NaN</td>\n",
       "      <td>0.52</td>\n",
       "      <td>11.58</td>\n",
       "      <td>...</td>\n",
       "      <td>0.0</td>\n",
       "      <td>2.52</td>\n",
       "      <td>0.0</td>\n",
       "      <td>NaN</td>\n",
       "      <td>1.0</td>\n",
       "      <td>15.10</td>\n",
       "      <td>NaN</td>\n",
       "      <td>NaN</td>\n",
       "      <td>NaN</td>\n",
       "      <td>4.000000</td>\n",
       "    </tr>\n",
       "    <tr>\n",
       "      <th>56549</th>\n",
       "      <td>2</td>\n",
       "      <td>2024-01-31 22:45:00</td>\n",
       "      <td>2024-01-31 22:51:00</td>\n",
       "      <td>None</td>\n",
       "      <td>NaN</td>\n",
       "      <td>41</td>\n",
       "      <td>42</td>\n",
       "      <td>NaN</td>\n",
       "      <td>1.17</td>\n",
       "      <td>14.22</td>\n",
       "      <td>...</td>\n",
       "      <td>0.0</td>\n",
       "      <td>0.00</td>\n",
       "      <td>0.0</td>\n",
       "      <td>NaN</td>\n",
       "      <td>1.0</td>\n",
       "      <td>15.22</td>\n",
       "      <td>NaN</td>\n",
       "      <td>NaN</td>\n",
       "      <td>NaN</td>\n",
       "      <td>6.000000</td>\n",
       "    </tr>\n",
       "    <tr>\n",
       "      <th>56550</th>\n",
       "      <td>2</td>\n",
       "      <td>2024-01-31 22:28:00</td>\n",
       "      <td>2024-01-31 22:59:00</td>\n",
       "      <td>None</td>\n",
       "      <td>NaN</td>\n",
       "      <td>33</td>\n",
       "      <td>91</td>\n",
       "      <td>NaN</td>\n",
       "      <td>9.27</td>\n",
       "      <td>44.62</td>\n",
       "      <td>...</td>\n",
       "      <td>0.0</td>\n",
       "      <td>4.56</td>\n",
       "      <td>0.0</td>\n",
       "      <td>NaN</td>\n",
       "      <td>1.0</td>\n",
       "      <td>50.18</td>\n",
       "      <td>NaN</td>\n",
       "      <td>NaN</td>\n",
       "      <td>NaN</td>\n",
       "      <td>31.000000</td>\n",
       "    </tr>\n",
       "  </tbody>\n",
       "</table>\n",
       "<p>56551 rows × 21 columns</p>\n",
       "</div>"
      ],
      "text/plain": [
       "       VendorID lpep_pickup_datetime lpep_dropoff_datetime store_and_fwd_flag  \\\n",
       "0             2  2024-01-01 00:46:55   2024-01-01 00:58:25                  N   \n",
       "1             2  2024-01-01 00:31:42   2024-01-01 00:52:34                  N   \n",
       "2             2  2024-01-01 00:30:21   2024-01-01 00:49:23                  N   \n",
       "3             1  2024-01-01 00:30:20   2024-01-01 00:42:12                  N   \n",
       "4             2  2024-01-01 00:32:38   2024-01-01 00:43:37                  N   \n",
       "...         ...                  ...                   ...                ...   \n",
       "56546         2  2024-01-31 20:46:00   2024-01-31 20:55:00               None   \n",
       "56547         2  2024-01-31 21:06:00   2024-01-31 21:11:00               None   \n",
       "56548         2  2024-01-31 21:36:00   2024-01-31 21:40:00               None   \n",
       "56549         2  2024-01-31 22:45:00   2024-01-31 22:51:00               None   \n",
       "56550         2  2024-01-31 22:28:00   2024-01-31 22:59:00               None   \n",
       "\n",
       "       RatecodeID  PULocationID  DOLocationID  passenger_count  trip_distance  \\\n",
       "0             1.0           236           239              1.0           1.98   \n",
       "1             1.0            65           170              5.0           6.54   \n",
       "2             1.0            74           262              1.0           3.08   \n",
       "3             1.0            74           116              1.0           2.40   \n",
       "4             1.0            74           243              1.0           5.14   \n",
       "...           ...           ...           ...              ...            ...   \n",
       "56546         NaN            33            25              NaN           0.00   \n",
       "56547         NaN            72            72              NaN           0.49   \n",
       "56548         NaN            72            72              NaN           0.52   \n",
       "56549         NaN            41            42              NaN           1.17   \n",
       "56550         NaN            33            91              NaN           9.27   \n",
       "\n",
       "       fare_amount  ...  mta_tax  tip_amount  tolls_amount  ehail_fee  \\\n",
       "0            12.80  ...      0.5        3.61           0.0        NaN   \n",
       "1            30.30  ...      0.5        7.11           0.0        NaN   \n",
       "2            19.80  ...      0.5        3.00           0.0        NaN   \n",
       "3            14.20  ...      1.5        0.00           0.0        NaN   \n",
       "4            22.60  ...      0.5        6.28           0.0        NaN   \n",
       "...            ...  ...      ...         ...           ...        ...   \n",
       "56546        11.58  ...      0.0        3.14           0.0        NaN   \n",
       "56547        11.58  ...      0.0        0.00           0.0        NaN   \n",
       "56548        11.58  ...      0.0        2.52           0.0        NaN   \n",
       "56549        14.22  ...      0.0        0.00           0.0        NaN   \n",
       "56550        44.62  ...      0.0        4.56           0.0        NaN   \n",
       "\n",
       "       improvement_surcharge  total_amount  payment_type  trip_type  \\\n",
       "0                        1.0         21.66           1.0        1.0   \n",
       "1                        1.0         42.66           1.0        1.0   \n",
       "2                        1.0         28.05           1.0        1.0   \n",
       "3                        1.0         16.70           2.0        1.0   \n",
       "4                        1.0         31.38           1.0        1.0   \n",
       "...                      ...           ...           ...        ...   \n",
       "56546                    1.0         15.72           NaN        NaN   \n",
       "56547                    1.0         12.58           NaN        NaN   \n",
       "56548                    1.0         15.10           NaN        NaN   \n",
       "56549                    1.0         15.22           NaN        NaN   \n",
       "56550                    1.0         50.18           NaN        NaN   \n",
       "\n",
       "       congestion_surcharge  trip_duration_min  \n",
       "0                      2.75          11.500000  \n",
       "1                      2.75          20.866667  \n",
       "2                      2.75          19.033333  \n",
       "3                      0.00          11.866667  \n",
       "4                      0.00          10.983333  \n",
       "...                     ...                ...  \n",
       "56546                   NaN           9.000000  \n",
       "56547                   NaN           5.000000  \n",
       "56548                   NaN           4.000000  \n",
       "56549                   NaN           6.000000  \n",
       "56550                   NaN          31.000000  \n",
       "\n",
       "[56551 rows x 21 columns]"
      ]
     },
     "execution_count": 10,
     "metadata": {},
     "output_type": "execute_result"
    }
   ],
   "source": [
    "Jan_df"
   ]
  },
  {
   "cell_type": "code",
   "execution_count": 11,
   "id": "881c920d",
   "metadata": {},
   "outputs": [
    {
     "data": {
      "text/plain": [
       "<Axes: xlabel='trip_duration_min', ylabel='Count'>"
      ]
     },
     "execution_count": 11,
     "metadata": {},
     "output_type": "execute_result"
    },
    {
     "data": {
      "image/png": "[encoded data removed]",
      "text/plain": [
       "<Figure size 640x480 with 1 Axes>"
      ]
     },
     "metadata": {},
     "output_type": "display_data"
    }
   ],
   "source": [
    "sns.histplot(Jan_df['trip_duration_min'], kde=True)"
   ]
  },
  {
   "cell_type": "code",
   "execution_count": 12,
   "id": "63b3267d",
   "metadata": {},
   "outputs": [
    {
     "data": {
      "text/plain": [
       "count    56551.000000\n",
       "mean        18.171379\n",
       "std         75.464751\n",
       "min          0.000000\n",
       "50%         11.400000\n",
       "95%         33.683333\n",
       "98%         46.816667\n",
       "99%         59.825000\n",
       "max       1438.983333\n",
       "Name: trip_duration_min, dtype: float64"
      ]
     },
     "execution_count": 12,
     "metadata": {},
     "output_type": "execute_result"
    }
   ],
   "source": [
    "Jan_df['trip_duration_min'].describe(percentiles=[0.95,0.98,0.99])"
   ]
  },
  {
   "cell_type": "code",
   "execution_count": 13,
   "id": "d318fabd",
   "metadata": {},
   "outputs": [],
   "source": [
    "Jan_df_2=Jan_df[(Jan_df['trip_duration_min'] >=1)&(Jan_df['trip_duration_min'] <=60)]"
   ]
  },
  {
   "cell_type": "code",
   "execution_count": 14,
   "id": "5269e59d",
   "metadata": {},
   "outputs": [
    {
     "data": {
      "text/html": [
       "<div>\n",
       "<style scoped>\n",
       "    .dataframe tbody tr th:only-of-type {\n",
       "        vertical-align: middle;\n",
       "    }\n",
       "\n",
       "    .dataframe tbody tr th {\n",
       "        vertical-align: top;\n",
       "    }\n",
       "\n",
       "    .dataframe thead th {\n",
       "        text-align: right;\n",
       "    }\n",
       "</style>\n",
       "<table border=\"1\" class=\"dataframe\">\n",
       "  <thead>\n",
       "    <tr style=\"text-align: right;\">\n",
       "      <th></th>\n",
       "      <th>VendorID</th>\n",
       "      <th>lpep_pickup_datetime</th>\n",
       "      <th>lpep_dropoff_datetime</th>\n",
       "      <th>store_and_fwd_flag</th>\n",
       "      <th>RatecodeID</th>\n",
       "      <th>PULocationID</th>\n",
       "      <th>DOLocationID</th>\n",
       "      <th>passenger_count</th>\n",
       "      <th>trip_distance</th>\n",
       "      <th>fare_amount</th>\n",
       "      <th>...</th>\n",
       "      <th>mta_tax</th>\n",
       "      <th>tip_amount</th>\n",
       "      <th>tolls_amount</th>\n",
       "      <th>ehail_fee</th>\n",
       "      <th>improvement_surcharge</th>\n",
       "      <th>total_amount</th>\n",
       "      <th>payment_type</th>\n",
       "      <th>trip_type</th>\n",
       "      <th>congestion_surcharge</th>\n",
       "      <th>trip_duration_min</th>\n",
       "    </tr>\n",
       "  </thead>\n",
       "  <tbody>\n",
       "    <tr>\n",
       "      <th>0</th>\n",
       "      <td>2</td>\n",
       "      <td>2024-01-01 00:46:55</td>\n",
       "      <td>2024-01-01 00:58:25</td>\n",
       "      <td>N</td>\n",
       "      <td>1.0</td>\n",
       "      <td>236</td>\n",
       "      <td>239</td>\n",
       "      <td>1.0</td>\n",
       "      <td>1.98</td>\n",
       "      <td>12.8</td>\n",
       "      <td>...</td>\n",
       "      <td>0.5</td>\n",
       "      <td>3.61</td>\n",
       "      <td>0.0</td>\n",
       "      <td>NaN</td>\n",
       "      <td>1.0</td>\n",
       "      <td>21.66</td>\n",
       "      <td>1.0</td>\n",
       "      <td>1.0</td>\n",
       "      <td>2.75</td>\n",
       "      <td>11.500000</td>\n",
       "    </tr>\n",
       "    <tr>\n",
       "      <th>1</th>\n",
       "      <td>2</td>\n",
       "      <td>2024-01-01 00:31:42</td>\n",
       "      <td>2024-01-01 00:52:34</td>\n",
       "      <td>N</td>\n",
       "      <td>1.0</td>\n",
       "      <td>65</td>\n",
       "      <td>170</td>\n",
       "      <td>5.0</td>\n",
       "      <td>6.54</td>\n",
       "      <td>30.3</td>\n",
       "      <td>...</td>\n",
       "      <td>0.5</td>\n",
       "      <td>7.11</td>\n",
       "      <td>0.0</td>\n",
       "      <td>NaN</td>\n",
       "      <td>1.0</td>\n",
       "      <td>42.66</td>\n",
       "      <td>1.0</td>\n",
       "      <td>1.0</td>\n",
       "      <td>2.75</td>\n",
       "      <td>20.866667</td>\n",
       "    </tr>\n",
       "    <tr>\n",
       "      <th>2</th>\n",
       "      <td>2</td>\n",
       "      <td>2024-01-01 00:30:21</td>\n",
       "      <td>2024-01-01 00:49:23</td>\n",
       "      <td>N</td>\n",
       "      <td>1.0</td>\n",
       "      <td>74</td>\n",
       "      <td>262</td>\n",
       "      <td>1.0</td>\n",
       "      <td>3.08</td>\n",
       "      <td>19.8</td>\n",
       "      <td>...</td>\n",
       "      <td>0.5</td>\n",
       "      <td>3.00</td>\n",
       "      <td>0.0</td>\n",
       "      <td>NaN</td>\n",
       "      <td>1.0</td>\n",
       "      <td>28.05</td>\n",
       "      <td>1.0</td>\n",
       "      <td>1.0</td>\n",
       "      <td>2.75</td>\n",
       "      <td>19.033333</td>\n",
       "    </tr>\n",
       "    <tr>\n",
       "      <th>3</th>\n",
       "      <td>1</td>\n",
       "      <td>2024-01-01 00:30:20</td>\n",
       "      <td>2024-01-01 00:42:12</td>\n",
       "      <td>N</td>\n",
       "      <td>1.0</td>\n",
       "      <td>74</td>\n",
       "      <td>116</td>\n",
       "      <td>1.0</td>\n",
       "      <td>2.40</td>\n",
       "      <td>14.2</td>\n",
       "      <td>...</td>\n",
       "      <td>1.5</td>\n",
       "      <td>0.00</td>\n",
       "      <td>0.0</td>\n",
       "      <td>NaN</td>\n",
       "      <td>1.0</td>\n",
       "      <td>16.70</td>\n",
       "      <td>2.0</td>\n",
       "      <td>1.0</td>\n",
       "      <td>0.00</td>\n",
       "      <td>11.866667</td>\n",
       "    </tr>\n",
       "    <tr>\n",
       "      <th>4</th>\n",
       "      <td>2</td>\n",
       "      <td>2024-01-01 00:32:38</td>\n",
       "      <td>2024-01-01 00:43:37</td>\n",
       "      <td>N</td>\n",
       "      <td>1.0</td>\n",
       "      <td>74</td>\n",
       "      <td>243</td>\n",
       "      <td>1.0</td>\n",
       "      <td>5.14</td>\n",
       "      <td>22.6</td>\n",
       "      <td>...</td>\n",
       "      <td>0.5</td>\n",
       "      <td>6.28</td>\n",
       "      <td>0.0</td>\n",
       "      <td>NaN</td>\n",
       "      <td>1.0</td>\n",
       "      <td>31.38</td>\n",
       "      <td>1.0</td>\n",
       "      <td>1.0</td>\n",
       "      <td>0.00</td>\n",
       "      <td>10.983333</td>\n",
       "    </tr>\n",
       "  </tbody>\n",
       "</table>\n",
       "<p>5 rows × 21 columns</p>\n",
       "</div>"
      ],
      "text/plain": [
       "   VendorID lpep_pickup_datetime lpep_dropoff_datetime store_and_fwd_flag  \\\n",
       "0         2  2024-01-01 00:46:55   2024-01-01 00:58:25                  N   \n",
       "1         2  2024-01-01 00:31:42   2024-01-01 00:52:34                  N   \n",
       "2         2  2024-01-01 00:30:21   2024-01-01 00:49:23                  N   \n",
       "3         1  2024-01-01 00:30:20   2024-01-01 00:42:12                  N   \n",
       "4         2  2024-01-01 00:32:38   2024-01-01 00:43:37                  N   \n",
       "\n",
       "   RatecodeID  PULocationID  DOLocationID  passenger_count  trip_distance  \\\n",
       "0         1.0           236           239              1.0           1.98   \n",
       "1         1.0            65           170              5.0           6.54   \n",
       "2         1.0            74           262              1.0           3.08   \n",
       "3         1.0            74           116              1.0           2.40   \n",
       "4         1.0            74           243              1.0           5.14   \n",
       "\n",
       "   fare_amount  ...  mta_tax  tip_amount  tolls_amount  ehail_fee  \\\n",
       "0         12.8  ...      0.5        3.61           0.0        NaN   \n",
       "1         30.3  ...      0.5        7.11           0.0        NaN   \n",
       "2         19.8  ...      0.5        3.00           0.0        NaN   \n",
       "3         14.2  ...      1.5        0.00           0.0        NaN   \n",
       "4         22.6  ...      0.5        6.28           0.0        NaN   \n",
       "\n",
       "   improvement_surcharge  total_amount  payment_type  trip_type  \\\n",
       "0                    1.0         21.66           1.0        1.0   \n",
       "1                    1.0         42.66           1.0        1.0   \n",
       "2                    1.0         28.05           1.0        1.0   \n",
       "3                    1.0         16.70           2.0        1.0   \n",
       "4                    1.0         31.38           1.0        1.0   \n",
       "\n",
       "   congestion_surcharge  trip_duration_min  \n",
       "0                  2.75          11.500000  \n",
       "1                  2.75          20.866667  \n",
       "2                  2.75          19.033333  \n",
       "3                  0.00          11.866667  \n",
       "4                  0.00          10.983333  \n",
       "\n",
       "[5 rows x 21 columns]"
      ]
     },
     "execution_count": 14,
     "metadata": {},
     "output_type": "execute_result"
    }
   ],
   "source": [
    "Jan_df_2.head()"
   ]
  },
  {
   "cell_type": "code",
   "execution_count": 15,
   "id": "e2cb7eac",
   "metadata": {},
   "outputs": [
    {
     "name": "stderr",
     "output_type": "stream",
     "text": [
      "C:\\Users\\HP\\AppData\\Local\\Temp\\ipykernel_7484\\2021245415.py:4: SettingWithCopyWarning: \n",
      "A value is trying to be set on a copy of a slice from a DataFrame.\n",
      "Try using .loc[row_indexer,col_indexer] = value instead\n",
      "\n",
      "See the caveats in the documentation: https://pandas.pydata.org/pandas-docs/stable/user_guide/indexing.html#returning-a-view-versus-a-copy\n",
      "  Jan_df_2[categorical]=Jan_df_2[categorical].astype('category')\n"
     ]
    }
   ],
   "source": [
    "categorical=['PULocationID','DOLocationID']\n",
    "numerical=['trip_distance']\n",
    "\n",
    "Jan_df_2[categorical]=Jan_df_2[categorical].astype('category')"
   ]
  },
  {
   "cell_type": "code",
   "execution_count": 16,
   "id": "b0f13f3b",
   "metadata": {},
   "outputs": [
    {
     "name": "stdout",
     "output_type": "stream",
     "text": [
      "<class 'pandas.core.frame.DataFrame'>\n",
      "Index: 54373 entries, 0 to 56550\n",
      "Data columns (total 21 columns):\n",
      " #   Column                 Non-Null Count  Dtype         \n",
      "---  ------                 --------------  -----         \n",
      " 0   VendorID               54373 non-null  int32         \n",
      " 1   lpep_pickup_datetime   54373 non-null  datetime64[us]\n",
      " 2   lpep_dropoff_datetime  54373 non-null  datetime64[us]\n",
      " 3   store_and_fwd_flag     51062 non-null  object        \n",
      " 4   RatecodeID             51062 non-null  float64       \n",
      " 5   PULocationID           54373 non-null  category      \n",
      " 6   DOLocationID           54373 non-null  category      \n",
      " 7   passenger_count        51062 non-null  float64       \n",
      " 8   trip_distance          54373 non-null  float64       \n",
      " 9   fare_amount            54373 non-null  float64       \n",
      " 10  extra                  54373 non-null  float64       \n",
      " 11  mta_tax                54373 non-null  float64       \n",
      " 12  tip_amount             54373 non-null  float64       \n",
      " 13  tolls_amount           54373 non-null  float64       \n",
      " 14  ehail_fee              0 non-null      float64       \n",
      " 15  improvement_surcharge  54373 non-null  float64       \n",
      " 16  total_amount           54373 non-null  float64       \n",
      " 17  payment_type           51062 non-null  float64       \n",
      " 18  trip_type              51061 non-null  float64       \n",
      " 19  congestion_surcharge   51062 non-null  float64       \n",
      " 20  trip_duration_min      54373 non-null  float64       \n",
      "dtypes: category(2), datetime64[us](2), float64(15), int32(1), object(1)\n",
      "memory usage: 8.3+ MB\n"
     ]
    }
   ],
   "source": [
    "Jan_df_2.info()"
   ]
  },
  {
   "cell_type": "code",
   "execution_count": 17,
   "id": "d972cb26",
   "metadata": {},
   "outputs": [],
   "source": [
    "train_dic=Jan_df_2[numerical+categorical].to_dict(orient='records')\n"
   ]
  },
  {
   "cell_type": "code",
   "execution_count": 18,
   "id": "eb335270",
   "metadata": {},
   "outputs": [],
   "source": [
    "dv=DictVectorizer()\n",
    "X_train=dv.fit_transform(train_dic)"
   ]
  },
  {
   "cell_type": "code",
   "execution_count": 19,
   "id": "f2c64d57",
   "metadata": {},
   "outputs": [
    {
     "data": {
      "text/plain": [
       "<Compressed Sparse Row sparse matrix of dtype 'float64'\n",
       "\twith 163119 stored elements and shape (54373, 3)>"
      ]
     },
     "execution_count": 19,
     "metadata": {},
     "output_type": "execute_result"
    }
   ],
   "source": [
    "X_train"
   ]
  },
  {
   "cell_type": "code",
   "execution_count": 20,
   "id": "f53fe0e8",
   "metadata": {},
   "outputs": [],
   "source": [
    "target='trip_duration_min'\n",
    "y_train=Jan_df_2[target].values"
   ]
  },
  {
   "cell_type": "markdown",
   "id": "d995bf30",
   "metadata": {},
   "source": [
    "# Train model"
   ]
  },
  {
   "cell_type": "code",
   "execution_count": 21,
   "id": "f893bab5",
   "metadata": {},
   "outputs": [
    {
     "data": {
      "text/html": [
       "<style>#sk-container-id-1 {\n",
       "  /* Definition of color scheme common for light and dark mode */\n",
       "  --sklearn-color-text: #000;\n",
       "  --sklearn-color-text-muted: #666;\n",
       "  --sklearn-color-line: gray;\n",
       "  /* Definition of color scheme for unfitted estimators */\n",
       "  --sklearn-color-unfitted-level-0: #fff5e6;\n",
       "  --sklearn-color-unfitted-level-1: #f6e4d2;\n",
       "  --sklearn-color-unfitted-level-2: #ffe0b3;\n",
       "  --sklearn-color-unfitted-level-3: chocolate;\n",
       "  /* Definition of color scheme for fitted estimators */\n",
       "  --sklearn-color-fitted-level-0: #f0f8ff;\n",
       "  --sklearn-color-fitted-level-1: #d4ebff;\n",
       "  --sklearn-color-fitted-level-2: #b3dbfd;\n",
       "  --sklearn-color-fitted-level-3: cornflowerblue;\n",
       "\n",
       "  /* Specific color for light theme */\n",
       "  --sklearn-color-text-on-default-background: var(--sg-text-color, var(--theme-code-foreground, var(--jp-content-font-color1, black)));\n",
       "  --sklearn-color-background: var(--sg-background-color, var(--theme-background, var(--jp-layout-color0, white)));\n",
       "  --sklearn-color-border-box: var(--sg-text-color, var(--theme-code-foreground, var(--jp-content-font-color1, black)));\n",
       "  --sklearn-color-icon: #696969;\n",
       "\n",
       "  @media (prefers-color-scheme: dark) {\n",
       "    /* Redefinition of color scheme for dark theme */\n",
       "    --sklearn-color-text-on-default-background: var(--sg-text-color, var(--theme-code-foreground, var(--jp-content-font-color1, white)));\n",
       "    --sklearn-color-background: var(--sg-background-color, var(--theme-background, var(--jp-layout-color0, #111)));\n",
       "    --sklearn-color-border-box: var(--sg-text-color, var(--theme-code-foreground, var(--jp-content-font-color1, white)));\n",
       "    --sklearn-color-icon: #878787;\n",
       "  }\n",
       "}\n",
       "\n",
       "#sk-container-id-1 {\n",
       "  color: var(--sklearn-color-text);\n",
       "}\n",
       "\n",
       "#sk-container-id-1 pre {\n",
       "  padding: 0;\n",
       "}\n",
       "\n",
       "#sk-container-id-1 input.sk-hidden--visually {\n",
       "  border: 0;\n",
       "  clip: rect(1px 1px 1px 1px);\n",
       "  clip: rect(1px, 1px, 1px, 1px);\n",
       "  height: 1px;\n",
       "  margin: -1px;\n",
       "  overflow: hidden;\n",
       "  padding: 0;\n",
       "  position: absolute;\n",
       "  width: 1px;\n",
       "}\n",
       "\n",
       "#sk-container-id-1 div.sk-dashed-wrapped {\n",
       "  border: 1px dashed var(--sklearn-color-line);\n",
       "  margin: 0 0.4em 0.5em 0.4em;\n",
       "  box-sizing: border-box;\n",
       "  padding-bottom: 0.4em;\n",
       "  background-color: var(--sklearn-color-background);\n",
       "}\n",
       "\n",
       "#sk-container-id-1 div.sk-container {\n",
       "  /* jupyter's `normalize.less` sets `[hidden] { display: none; }`\n",
       "     but bootstrap.min.css set `[hidden] { display: none !important; }`\n",
       "     so we also need the `!important` here to be able to override the\n",
       "     default hidden behavior on the sphinx rendered scikit-learn.org.\n",
       "     See: https://github.com/scikit-learn/scikit-learn/issues/21755 */\n",
       "  display: inline-block !important;\n",
       "  position: relative;\n",
       "}\n",
       "\n",
       "#sk-container-id-1 div.sk-text-repr-fallback {\n",
       "  display: none;\n",
       "}\n",
       "\n",
       "div.sk-parallel-item,\n",
       "div.sk-serial,\n",
       "div.sk-item {\n",
       "  /* draw centered vertical line to link estimators */\n",
       "  background-image: linear-gradient(var(--sklearn-color-text-on-default-background), var(--sklearn-color-text-on-default-background));\n",
       "  background-size: 2px 100%;\n",
       "  background-repeat: no-repeat;\n",
       "  background-position: center center;\n",
       "}\n",
       "\n",
       "/* Parallel-specific style estimator block */\n",
       "\n",
       "#sk-container-id-1 div.sk-parallel-item::after {\n",
       "  content: \"\";\n",
       "  width: 100%;\n",
       "  border-bottom: 2px solid var(--sklearn-color-text-on-default-background);\n",
       "  flex-grow: 1;\n",
       "}\n",
       "\n",
       "#sk-container-id-1 div.sk-parallel {\n",
       "  display: flex;\n",
       "  align-items: stretch;\n",
       "  justify-content: center;\n",
       "  background-color: var(--sklearn-color-background);\n",
       "  position: relative;\n",
       "}\n",
       "\n",
       "#sk-container-id-1 div.sk-parallel-item {\n",
       "  display: flex;\n",
       "  flex-direction: column;\n",
       "}\n",
       "\n",
       "#sk-container-id-1 div.sk-parallel-item:first-child::after {\n",
       "  align-self: flex-end;\n",
       "  width: 50%;\n",
       "}\n",
       "\n",
       "#sk-container-id-1 div.sk-parallel-item:last-child::after {\n",
       "  align-self: flex-start;\n",
       "  width: 50%;\n",
       "}\n",
       "\n",
       "#sk-container-id-1 div.sk-parallel-item:only-child::after {\n",
       "  width: 0;\n",
       "}\n",
       "\n",
       "/* Serial-specific style estimator block */\n",
       "\n",
       "#sk-container-id-1 div.sk-serial {\n",
       "  display: flex;\n",
       "  flex-direction: column;\n",
       "  align-items: center;\n",
       "  background-color: var(--sklearn-color-background);\n",
       "  padding-right: 1em;\n",
       "  padding-left: 1em;\n",
       "}\n",
       "\n",
       "\n",
       "/* Toggleable style: style used for estimator/Pipeline/ColumnTransformer box that is\n",
       "clickable and can be expanded/collapsed.\n",
       "- Pipeline and ColumnTransformer use this feature and define the default style\n",
       "- Estimators will overwrite some part of the style using the `sk-estimator` class\n",
       "*/\n",
       "\n",
       "/* Pipeline and ColumnTransformer style (default) */\n",
       "\n",
       "#sk-container-id-1 div.sk-toggleable {\n",
       "  /* Default theme specific background. It is overwritten whether we have a\n",
       "  specific estimator or a Pipeline/ColumnTransformer */\n",
       "  background-color: var(--sklearn-color-background);\n",
       "}\n",
       "\n",
       "/* Toggleable label */\n",
       "#sk-container-id-1 label.sk-toggleable__label {\n",
       "  cursor: pointer;\n",
       "  display: flex;\n",
       "  width: 100%;\n",
       "  margin-bottom: 0;\n",
       "  padding: 0.5em;\n",
       "  box-sizing: border-box;\n",
       "  text-align: center;\n",
       "  align-items: start;\n",
       "  justify-content: space-between;\n",
       "  gap: 0.5em;\n",
       "}\n",
       "\n",
       "#sk-container-id-1 label.sk-toggleable__label .caption {\n",
       "  font-size: 0.6rem;\n",
       "  font-weight: lighter;\n",
       "  color: var(--sklearn-color-text-muted);\n",
       "}\n",
       "\n",
       "#sk-container-id-1 label.sk-toggleable__label-arrow:before {\n",
       "  /* Arrow on the left of the label */\n",
       "  content: \"▸\";\n",
       "  float: left;\n",
       "  margin-right: 0.25em;\n",
       "  color: var(--sklearn-color-icon);\n",
       "}\n",
       "\n",
       "#sk-container-id-1 label.sk-toggleable__label-arrow:hover:before {\n",
       "  color: var(--sklearn-color-text);\n",
       "}\n",
       "\n",
       "/* Toggleable content - dropdown */\n",
       "\n",
       "#sk-container-id-1 div.sk-toggleable__content {\n",
       "  max-height: 0;\n",
       "  max-width: 0;\n",
       "  overflow: hidden;\n",
       "  text-align: left;\n",
       "  /* unfitted */\n",
       "  background-color: var(--sklearn-color-unfitted-level-0);\n",
       "}\n",
       "\n",
       "#sk-container-id-1 div.sk-toggleable__content.fitted {\n",
       "  /* fitted */\n",
       "  background-color: var(--sklearn-color-fitted-level-0);\n",
       "}\n",
       "\n",
       "#sk-container-id-1 div.sk-toggleable__content pre {\n",
       "  margin: 0.2em;\n",
       "  border-radius: 0.25em;\n",
       "  color: var(--sklearn-color-text);\n",
       "  /* unfitted */\n",
       "  background-color: var(--sklearn-color-unfitted-level-0);\n",
       "}\n",
       "\n",
       "#sk-container-id-1 div.sk-toggleable__content.fitted pre {\n",
       "  /* unfitted */\n",
       "  background-color: var(--sklearn-color-fitted-level-0);\n",
       "}\n",
       "\n",
       "#sk-container-id-1 input.sk-toggleable__control:checked~div.sk-toggleable__content {\n",
       "  /* Expand drop-down */\n",
       "  max-height: 200px;\n",
       "  max-width: 100%;\n",
       "  overflow: auto;\n",
       "}\n",
       "\n",
       "#sk-container-id-1 input.sk-toggleable__control:checked~label.sk-toggleable__label-arrow:before {\n",
       "  content: \"▾\";\n",
       "}\n",
       "\n",
       "/* Pipeline/ColumnTransformer-specific style */\n",
       "\n",
       "#sk-container-id-1 div.sk-label input.sk-toggleable__control:checked~label.sk-toggleable__label {\n",
       "  color: var(--sklearn-color-text);\n",
       "  background-color: var(--sklearn-color-unfitted-level-2);\n",
       "}\n",
       "\n",
       "#sk-container-id-1 div.sk-label.fitted input.sk-toggleable__control:checked~label.sk-toggleable__label {\n",
       "  background-color: var(--sklearn-color-fitted-level-2);\n",
       "}\n",
       "\n",
       "/* Estimator-specific style */\n",
       "\n",
       "/* Colorize estimator box */\n",
       "#sk-container-id-1 div.sk-estimator input.sk-toggleable__control:checked~label.sk-toggleable__label {\n",
       "  /* unfitted */\n",
       "  background-color: var(--sklearn-color-unfitted-level-2);\n",
       "}\n",
       "\n",
       "#sk-container-id-1 div.sk-estimator.fitted input.sk-toggleable__control:checked~label.sk-toggleable__label {\n",
       "  /* fitted */\n",
       "  background-color: var(--sklearn-color-fitted-level-2);\n",
       "}\n",
       "\n",
       "#sk-container-id-1 div.sk-label label.sk-toggleable__label,\n",
       "#sk-container-id-1 div.sk-label label {\n",
       "  /* The background is the default theme color */\n",
       "  color: var(--sklearn-color-text-on-default-background);\n",
       "}\n",
       "\n",
       "/* On hover, darken the color of the background */\n",
       "#sk-container-id-1 div.sk-label:hover label.sk-toggleable__label {\n",
       "  color: var(--sklearn-color-text);\n",
       "  background-color: var(--sklearn-color-unfitted-level-2);\n",
       "}\n",
       "\n",
       "/* Label box, darken color on hover, fitted */\n",
       "#sk-container-id-1 div.sk-label.fitted:hover label.sk-toggleable__label.fitted {\n",
       "  color: var(--sklearn-color-text);\n",
       "  background-color: var(--sklearn-color-fitted-level-2);\n",
       "}\n",
       "\n",
       "/* Estimator label */\n",
       "\n",
       "#sk-container-id-1 div.sk-label label {\n",
       "  font-family: monospace;\n",
       "  font-weight: bold;\n",
       "  display: inline-block;\n",
       "  line-height: 1.2em;\n",
       "}\n",
       "\n",
       "#sk-container-id-1 div.sk-label-container {\n",
       "  text-align: center;\n",
       "}\n",
       "\n",
       "/* Estimator-specific */\n",
       "#sk-container-id-1 div.sk-estimator {\n",
       "  font-family: monospace;\n",
       "  border: 1px dotted var(--sklearn-color-border-box);\n",
       "  border-radius: 0.25em;\n",
       "  box-sizing: border-box;\n",
       "  margin-bottom: 0.5em;\n",
       "  /* unfitted */\n",
       "  background-color: var(--sklearn-color-unfitted-level-0);\n",
       "}\n",
       "\n",
       "#sk-container-id-1 div.sk-estimator.fitted {\n",
       "  /* fitted */\n",
       "  background-color: var(--sklearn-color-fitted-level-0);\n",
       "}\n",
       "\n",
       "/* on hover */\n",
       "#sk-container-id-1 div.sk-estimator:hover {\n",
       "  /* unfitted */\n",
       "  background-color: var(--sklearn-color-unfitted-level-2);\n",
       "}\n",
       "\n",
       "#sk-container-id-1 div.sk-estimator.fitted:hover {\n",
       "  /* fitted */\n",
       "  background-color: var(--sklearn-color-fitted-level-2);\n",
       "}\n",
       "\n",
       "/* Specification for estimator info (e.g. \"i\" and \"?\") */\n",
       "\n",
       "/* Common style for \"i\" and \"?\" */\n",
       "\n",
       ".sk-estimator-doc-link,\n",
       "a:link.sk-estimator-doc-link,\n",
       "a:visited.sk-estimator-doc-link {\n",
       "  float: right;\n",
       "  font-size: smaller;\n",
       "  line-height: 1em;\n",
       "  font-family: monospace;\n",
       "  background-color: var(--sklearn-color-background);\n",
       "  border-radius: 1em;\n",
       "  height: 1em;\n",
       "  width: 1em;\n",
       "  text-decoration: none !important;\n",
       "  margin-left: 0.5em;\n",
       "  text-align: center;\n",
       "  /* unfitted */\n",
       "  border: var(--sklearn-color-unfitted-level-1) 1pt solid;\n",
       "  color: var(--sklearn-color-unfitted-level-1);\n",
       "}\n",
       "\n",
       ".sk-estimator-doc-link.fitted,\n",
       "a:link.sk-estimator-doc-link.fitted,\n",
       "a:visited.sk-estimator-doc-link.fitted {\n",
       "  /* fitted */\n",
       "  border: var(--sklearn-color-fitted-level-1) 1pt solid;\n",
       "  color: var(--sklearn-color-fitted-level-1);\n",
       "}\n",
       "\n",
       "/* On hover */\n",
       "div.sk-estimator:hover .sk-estimator-doc-link:hover,\n",
       ".sk-estimator-doc-link:hover,\n",
       "div.sk-label-container:hover .sk-estimator-doc-link:hover,\n",
       ".sk-estimator-doc-link:hover {\n",
       "  /* unfitted */\n",
       "  background-color: var(--sklearn-color-unfitted-level-3);\n",
       "  color: var(--sklearn-color-background);\n",
       "  text-decoration: none;\n",
       "}\n",
       "\n",
       "div.sk-estimator.fitted:hover .sk-estimator-doc-link.fitted:hover,\n",
       ".sk-estimator-doc-link.fitted:hover,\n",
       "div.sk-label-container:hover .sk-estimator-doc-link.fitted:hover,\n",
       ".sk-estimator-doc-link.fitted:hover {\n",
       "  /* fitted */\n",
       "  background-color: var(--sklearn-color-fitted-level-3);\n",
       "  color: var(--sklearn-color-background);\n",
       "  text-decoration: none;\n",
       "}\n",
       "\n",
       "/* Span, style for the box shown on hovering the info icon */\n",
       ".sk-estimator-doc-link span {\n",
       "  display: none;\n",
       "  z-index: 9999;\n",
       "  position: relative;\n",
       "  font-weight: normal;\n",
       "  right: .2ex;\n",
       "  padding: .5ex;\n",
       "  margin: .5ex;\n",
       "  width: min-content;\n",
       "  min-width: 20ex;\n",
       "  max-width: 50ex;\n",
       "  color: var(--sklearn-color-text);\n",
       "  box-shadow: 2pt 2pt 4pt #999;\n",
       "  /* unfitted */\n",
       "  background: var(--sklearn-color-unfitted-level-0);\n",
       "  border: .5pt solid var(--sklearn-color-unfitted-level-3);\n",
       "}\n",
       "\n",
       ".sk-estimator-doc-link.fitted span {\n",
       "  /* fitted */\n",
       "  background: var(--sklearn-color-fitted-level-0);\n",
       "  border: var(--sklearn-color-fitted-level-3);\n",
       "}\n",
       "\n",
       ".sk-estimator-doc-link:hover span {\n",
       "  display: block;\n",
       "}\n",
       "\n",
       "/* \"?\"-specific style due to the `<a>` HTML tag */\n",
       "\n",
       "#sk-container-id-1 a.estimator_doc_link {\n",
       "  float: right;\n",
       "  font-size: 1rem;\n",
       "  line-height: 1em;\n",
       "  font-family: monospace;\n",
       "  background-color: var(--sklearn-color-background);\n",
       "  border-radius: 1rem;\n",
       "  height: 1rem;\n",
       "  width: 1rem;\n",
       "  text-decoration: none;\n",
       "  /* unfitted */\n",
       "  color: var(--sklearn-color-unfitted-level-1);\n",
       "  border: var(--sklearn-color-unfitted-level-1) 1pt solid;\n",
       "}\n",
       "\n",
       "#sk-container-id-1 a.estimator_doc_link.fitted {\n",
       "  /* fitted */\n",
       "  border: var(--sklearn-color-fitted-level-1) 1pt solid;\n",
       "  color: var(--sklearn-color-fitted-level-1);\n",
       "}\n",
       "\n",
       "/* On hover */\n",
       "#sk-container-id-1 a.estimator_doc_link:hover {\n",
       "  /* unfitted */\n",
       "  background-color: var(--sklearn-color-unfitted-level-3);\n",
       "  color: var(--sklearn-color-background);\n",
       "  text-decoration: none;\n",
       "}\n",
       "\n",
       "#sk-container-id-1 a.estimator_doc_link.fitted:hover {\n",
       "  /* fitted */\n",
       "  background-color: var(--sklearn-color-fitted-level-3);\n",
       "}\n",
       "</style><div id=\"sk-container-id-1\" class=\"sk-top-container\"><div class=\"sk-text-repr-fallback\"><pre>LinearRegression()</pre><b>In a Jupyter environment, please rerun this cell to show the HTML representation or trust the notebook. <br />On GitHub, the HTML representation is unable to render, please try loading this page with nbviewer.org.</b></div><div class=\"sk-container\" hidden><div class=\"sk-item\"><div class=\"sk-estimator fitted sk-toggleable\"><input class=\"sk-toggleable__control sk-hidden--visually\" id=\"sk-estimator-id-1\" type=\"checkbox\" checked><label for=\"sk-estimator-id-1\" class=\"sk-toggleable__label fitted sk-toggleable__label-arrow\"><div><div>LinearRegression</div></div><div><a class=\"sk-estimator-doc-link fitted\" rel=\"noreferrer\" target=\"_blank\" href=\"https://scikit-learn.org/1.6/modules/generated/sklearn.linear_model.LinearRegression.html\">?<span>Documentation for LinearRegression</span></a><span class=\"sk-estimator-doc-link fitted\">i<span>Fitted</span></span></div></label><div class=\"sk-toggleable__content fitted\"><pre>LinearRegression()</pre></div> </div></div></div></div>"
      ],
      "text/plain": [
       "LinearRegression()"
      ]
     },
     "execution_count": 21,
     "metadata": {},
     "output_type": "execute_result"
    }
   ],
   "source": [
    "Lr= LinearRegression()\n",
    "Lr.fit(X_train,y_train)\n"
   ]
  },
  {
   "cell_type": "markdown",
   "id": "f8be3294",
   "metadata": {},
   "source": [
    "##### predicting on the train is not ideal as it exposes the model\n",
    "##### but for learnnig purpose lets use it "
   ]
  },
  {
   "cell_type": "code",
   "execution_count": 22,
   "id": "2f03c2e8",
   "metadata": {},
   "outputs": [
    {
     "data": {
      "text/plain": [
       "np.float64(8.944081902346614)"
      ]
     },
     "execution_count": 22,
     "metadata": {},
     "output_type": "execute_result"
    }
   ],
   "source": [
    "y_pred=Lr.predict(X_train)\n",
    "\n",
    "mse=mean_squared_error(y_train,y_pred)\n",
    "rmse=np.sqrt(mse)\n",
    "\n",
    "rmse"
   ]
  },
  {
   "cell_type": "code",
   "execution_count": 23,
   "id": "d8e30929",
   "metadata": {},
   "outputs": [
    {
     "data": {
      "image/png": "[encoded data removed]",
      "text/plain": [
       "<Figure size 1000x600 with 1 Axes>"
      ]
     },
     "metadata": {},
     "output_type": "display_data"
    }
   ],
   "source": [
    "import matplotlib.pyplot as plt\n",
    "import seaborn as sns\n",
    "\n",
    "plt.figure(figsize=(10, 6))  # Set figure size\n",
    "\n",
    "sns.histplot(y_pred, label='Prediction', kde=True, color='blue')\n",
    "sns.histplot(y_train, label='Actual', kde=True, color='orange')\n",
    "\n",
    "plt.legend()\n",
    "plt.title('Prediction vs Actual Distribution')\n",
    "plt.xlabel('Target Value')\n",
    "plt.ylabel('Frequency')\n",
    "plt.show()"
   ]
  },
  {
   "cell_type": "markdown",
   "id": "6062e45b",
   "metadata": {},
   "source": [
    "# Let's put the preprocessing in a function"
   ]
  },
  {
   "cell_type": "code",
   "execution_count": 24,
   "id": "9ba511e5",
   "metadata": {},
   "outputs": [],
   "source": [
    "def read_and_preprocess(filename):\n",
    "    df=pd.read_parquet(filename)\n",
    "    df['trip_duration_min']=(df['lpep_dropoff_datetime']-df['lpep_pickup_datetime']).dt.total_seconds()/60\n",
    "    df=df[(df['trip_duration_min'] >=1)&(df['trip_duration_min'] <=60)]\n",
    "\n",
    "    categorical=['PULocationID','DOLocationID']\n",
    "    #numerical=['trip_distance']\n",
    "\n",
    "    df[categorical]=df[categorical].astype('category')\n",
    "    return df\n",
    "\n"
   ]
  },
  {
   "cell_type": "code",
   "execution_count": 25,
   "id": "f8b7d05b",
   "metadata": {},
   "outputs": [],
   "source": [
    "df_train=read_and_preprocess('https://d37ci6vzurychx.cloudfront.net/trip-data/green_tripdata_2024-01.parquet')\n",
    "df_valid=read_and_preprocess('https://d37ci6vzurychx.cloudfront.net/trip-data/green_tripdata_2024-02.parquet')"
   ]
  },
  {
   "cell_type": "code",
   "execution_count": 26,
   "id": "b903f21c",
   "metadata": {},
   "outputs": [],
   "source": [
    "categorical=['PULocationID','DOLocationID']\n",
    "numerical=['trip_distance']\n",
    "\n",
    "\n",
    "dv=DictVectorizer()\n",
    "train_dic=df_train[numerical+categorical].to_dict(orient='records')\n",
    "X_train=dv.fit_transform(train_dic)\n",
    "\n",
    "val_dic=df_valid[numerical+categorical].to_dict(orient='records')\n",
    "X_val=dv.transform(val_dic)\n",
    "\n",
    "\n"
   ]
  },
  {
   "cell_type": "code",
   "execution_count": 27,
   "id": "88a0260e",
   "metadata": {},
   "outputs": [],
   "source": [
    "target='trip_duration_min'\n",
    "y_train=df_train[target].values\n",
    "\n",
    "y_valid=df_valid[target].values"
   ]
  },
  {
   "cell_type": "code",
   "execution_count": 28,
   "id": "649a002d",
   "metadata": {},
   "outputs": [
    {
     "data": {
      "text/plain": [
       "np.float64(9.02359102460649)"
      ]
     },
     "execution_count": 28,
     "metadata": {},
     "output_type": "execute_result"
    }
   ],
   "source": [
    "Lr= LinearRegression()\n",
    "Lr.fit(X_train,y_train)\n",
    "\n",
    "y_pred=Lr.predict(X_val)\n",
    "\n",
    "mse=mean_squared_error(y_valid,y_pred)\n",
    "rmse=np.sqrt(mse)\n",
    "\n",
    "rmse"
   ]
  },
  {
   "cell_type": "code",
   "execution_count": 29,
   "id": "18afe76e",
   "metadata": {},
   "outputs": [
    {
     "data": {
      "text/plain": [
       "np.float64(9.023594007015081)"
      ]
     },
     "execution_count": 29,
     "metadata": {},
     "output_type": "execute_result"
    }
   ],
   "source": [
    "\n",
    "params={'alpha':0.01}\n",
    "Ls= Lasso(**params)\n",
    "\n",
    "Ls.fit(X_train,y_train)\n",
    "\n",
    "y_pred=Ls.predict(X_val)\n",
    "\n",
    "mse=mean_squared_error(y_valid,y_pred)\n",
    "rmse=np.sqrt(mse)\n",
    "\n",
    "rmse"
   ]
  },
  {
   "cell_type": "code",
   "execution_count": 30,
   "id": "a161c948",
   "metadata": {},
   "outputs": [],
   "source": [
    "import os\n",
    "\n",
    "os.makedirs('models', exist_ok=True)  # Create folder if it doesn't exist\n",
    "\n",
    "with open('models/lin_reg.bin', 'wb') as f_out:\n",
    "    pickle.dump((dv, Lr), f_out)"
   ]
  },
  {
   "cell_type": "code",
   "execution_count": 31,
   "id": "6f6005db",
   "metadata": {},
   "outputs": [
    {
     "data": {
      "text/plain": [
       "<Experiment: artifact_location='mlflow-artifacts:/596310372276179798', creation_time=1747021585742, experiment_id='596310372276179798', last_update_time=1747021585742, lifecycle_stage='active', name='nyc-taxi-experiment', tags={}>"
      ]
     },
     "execution_count": 31,
     "metadata": {},
     "output_type": "execute_result"
    }
   ],
   "source": [
    "import mlflow\n",
    "\n",
    "mlflow.set_tracking_uri('http://127.0.0.1:5000')\n",
    "mlflow.set_experiment('nyc-taxi-experiment')\n"
   ]
  },
  {
   "cell_type": "code",
   "execution_count": 32,
   "id": "2b783540",
   "metadata": {},
   "outputs": [
    {
     "name": "stdout",
     "output_type": "stream",
     "text": [
      "🏃 View run exultant-ram-502 at: http://127.0.0.1:5000/#/experiments/596310372276179798/runs/e0430d6dc9944e598981b808680f5bfb\n",
      "🧪 View experiment at: http://127.0.0.1:5000/#/experiments/596310372276179798\n"
     ]
    }
   ],
   "source": [
    "import mlflow\n",
    "with mlflow.start_run():\n",
    "    \n",
    "    mlflow.log_params(params)\n",
    "    mlflow.log_param(\"train-data-path\",\"./data/train_data.csv\")\n",
    "    mlflow.log_param(\"valid-data-path\",\"data/valid_data.csv\")\n",
    "    mlflow.log_metric(\"root_mean_square_error\",rmse)\n",
    "    mlflow.set_tag(\"baseline_model\",\"Nii Sowah\")\n",
    "    ##mlflow.log_artifact(local_path='models/lin_reg.bin',artifact_path=\"model/pickle\")\n",
    "\n"
   ]
  },
  {
   "cell_type": "code",
   "execution_count": 35,
   "id": "64bd6104",
   "metadata": {},
   "outputs": [],
   "source": [
    "import xgboost as xgb\n",
    "from hyperopt import fmin,tpe,hp,STATUS_OK,Trials\n",
    "from hyperopt.pyll import scope\n",
    "\n",
    "\n",
    "dtrain=xgb.DMatrix(X_train,label=y_train)\n",
    "dvalid=xgb.DMatrix(X_val,label=y_valid)\n"
   ]
  },
  {
   "cell_type": "code",
   "execution_count": 36,
   "id": "41501a62",
   "metadata": {},
   "outputs": [],
   "source": [
    "def objective(params):\n",
    "\n",
    "    with mlflow.start_run():\n",
    "        mlflow.set_tag(\"model\",\"xgboost\")\n",
    "        mlflow.log_params(params)\n",
    "        booster=xgb.train(\n",
    "            params=params,\n",
    "            dtrain=dtrain,\n",
    "            num_boost_round=15,\n",
    "            evals=[(dvalid,\"validation\")],\n",
    "            early_stopping_rounds=10\n",
    "        )\n",
    "        y_pred=booster.predict(dvalid)\n",
    "        rmse=mean_squared_error(y_valid,y_pred)\n",
    "        rmse_=np.sqrt(rmse)\n",
    "        mlflow.log_metric(\"rmse\",rmse_)\n",
    "    \n",
    "    return {\"loss\":rmse_,'status':STATUS_OK}\n"
   ]
  },
  {
   "cell_type": "code",
   "execution_count": 38,
   "id": "7ee35df5",
   "metadata": {},
   "outputs": [
    {
     "name": "stdout",
     "output_type": "stream",
     "text": [
      "  0%|          | 0/50 [00:00<?, ?trial/s, best loss=?]"
     ]
    },
    {
     "name": "stdout",
     "output_type": "stream",
     "text": [
      "[0]\tvalidation-rmse:8.72498                           \n",
      "[1]\tvalidation-rmse:8.37853                           \n",
      "[2]\tvalidation-rmse:8.06576                           \n",
      "[3]\tvalidation-rmse:7.78655                           \n",
      "[4]\tvalidation-rmse:7.53579                           \n",
      "[5]\tvalidation-rmse:7.31298                           \n",
      "  0%|          | 0/50 [00:00<?, ?trial/s, best loss=?]"
     ]
    },
    {
     "name": "stderr",
     "output_type": "stream",
     "text": [
      "c:\\Users\\HP\\Desktop\\ML Projects\\ml zoomcap\\mlops-camp\\mlvenv\\Lib\\site-packages\\xgboost\\callback.py:386: UserWarning: [23:49:38] WARNING: C:\\actions-runner\\_work\\xgboost\\xgboost\\src\\objective\\regression_obj.cu:250: reg:linear is now deprecated in favor of reg:squarederror.\n",
      "  self.starting_round = model.num_boosted_rounds()\n",
      "\n"
     ]
    },
    {
     "name": "stdout",
     "output_type": "stream",
     "text": [
      "[6]\tvalidation-rmse:7.11268                           \n",
      "[7]\tvalidation-rmse:6.93690                           \n",
      "[8]\tvalidation-rmse:6.77851                           \n",
      "[9]\tvalidation-rmse:6.64022                           \n",
      "[10]\tvalidation-rmse:6.51542                          \n",
      "[11]\tvalidation-rmse:6.40617                          \n",
      "[12]\tvalidation-rmse:6.31080                          \n",
      "[13]\tvalidation-rmse:6.22643                          \n",
      "[14]\tvalidation-rmse:6.15056                          \n",
      "🏃 View run serious-loon-315 at: http://127.0.0.1:5000/#/experiments/596310372276179798/runs/071e028510994b43a55fb7e00a20336d\n",
      "\n",
      "🧪 View experiment at: http://127.0.0.1:5000/#/experiments/596310372276179798\n",
      "\n",
      "[0]\tvalidation-rmse:5.48843                                                    \n",
      "[1]\tvalidation-rmse:5.39556                                                    \n",
      "[2]\tvalidation-rmse:5.33947                                                    \n",
      "[3]\tvalidation-rmse:5.35378                                                    \n",
      "[4]\tvalidation-rmse:5.33074                                                    \n",
      "[5]\tvalidation-rmse:5.34017                                                    \n",
      "[6]\tvalidation-rmse:5.32576                                                    \n",
      "[7]\tvalidation-rmse:5.31757                                                    \n",
      "[8]\tvalidation-rmse:5.31959                                                    \n",
      "[9]\tvalidation-rmse:5.33303                                                    \n",
      "  2%|▏         | 1/50 [00:01<00:41,  1.19trial/s, best loss: 6.150564598226862]"
     ]
    },
    {
     "name": "stderr",
     "output_type": "stream",
     "text": [
      "c:\\Users\\HP\\Desktop\\ML Projects\\ml zoomcap\\mlops-camp\\mlvenv\\Lib\\site-packages\\xgboost\\callback.py:386: UserWarning: [23:49:39] WARNING: C:\\actions-runner\\_work\\xgboost\\xgboost\\src\\objective\\regression_obj.cu:250: reg:linear is now deprecated in favor of reg:squarederror.\n",
      "  self.starting_round = model.num_boosted_rounds()\n",
      "\n"
     ]
    },
    {
     "name": "stdout",
     "output_type": "stream",
     "text": [
      "[10]\tvalidation-rmse:5.32769                                                   \n",
      "[11]\tvalidation-rmse:5.32633                                                   \n",
      "[12]\tvalidation-rmse:5.33192                                                   \n",
      "[13]\tvalidation-rmse:5.34191                                                   \n",
      "[14]\tvalidation-rmse:5.34653                                                   \n",
      "🏃 View run bittersweet-fly-548 at: http://127.0.0.1:5000/#/experiments/596310372276179798/runs/afebd6bdfbb042b7bc39e47e9d11e431\n",
      "\n",
      "🧪 View experiment at: http://127.0.0.1:5000/#/experiments/596310372276179798  \n",
      "\n",
      "[0]\tvalidation-rmse:8.27975                                                    \n",
      "[1]\tvalidation-rmse:7.62122                                                    \n",
      "[2]\tvalidation-rmse:7.09883                                                    \n",
      "[3]\tvalidation-rmse:6.69477                                                    \n",
      "[4]\tvalidation-rmse:6.36886                                                    \n",
      "[5]\tvalidation-rmse:6.12647                                                    \n",
      "[6]\tvalidation-rmse:5.94179                                                    \n",
      "[7]\tvalidation-rmse:5.79269                                                    \n",
      "[8]\tvalidation-rmse:5.68126                                                    \n",
      "  4%|▍         | 2/50 [00:01<00:35,  1.34trial/s, best loss: 5.346525350295892]"
     ]
    },
    {
     "name": "stderr",
     "output_type": "stream",
     "text": [
      "c:\\Users\\HP\\Desktop\\ML Projects\\ml zoomcap\\mlops-camp\\mlvenv\\Lib\\site-packages\\xgboost\\callback.py:386: UserWarning: [23:49:39] WARNING: C:\\actions-runner\\_work\\xgboost\\xgboost\\src\\objective\\regression_obj.cu:250: reg:linear is now deprecated in favor of reg:squarederror.\n",
      "  self.starting_round = model.num_boosted_rounds()\n",
      "\n"
     ]
    },
    {
     "name": "stdout",
     "output_type": "stream",
     "text": [
      "[9]\tvalidation-rmse:5.59613                                                    \n",
      "[10]\tvalidation-rmse:5.51632                                                   \n",
      "[11]\tvalidation-rmse:5.46227                                                   \n",
      "[12]\tvalidation-rmse:5.42247                                                   \n",
      "[13]\tvalidation-rmse:5.38328                                                   \n",
      "[14]\tvalidation-rmse:5.35340                                                   \n",
      "🏃 View run zealous-fly-23 at: http://127.0.0.1:5000/#/experiments/596310372276179798/runs/28d2b391bf52452d858984ea35b8000b\n",
      "\n",
      "🧪 View experiment at: http://127.0.0.1:5000/#/experiments/596310372276179798  \n",
      "\n",
      "[0]\tvalidation-rmse:8.29337                                                    \n",
      "[1]\tvalidation-rmse:7.63787                                                    \n",
      "[2]\tvalidation-rmse:7.11763                                                    \n",
      "[3]\tvalidation-rmse:6.70073                                                    \n",
      "[4]\tvalidation-rmse:6.37404                                                    \n",
      "[5]\tvalidation-rmse:6.12154                                                    \n",
      "[6]\tvalidation-rmse:5.90900                                                    \n",
      "[7]\tvalidation-rmse:5.75097                                                    \n",
      "[8]\tvalidation-rmse:5.63576                                                    \n",
      "[9]\tvalidation-rmse:5.53674                                                    \n",
      "  6%|▌         | 3/50 [00:02<00:32,  1.46trial/s, best loss: 5.346525350295892]"
     ]
    },
    {
     "name": "stderr",
     "output_type": "stream",
     "text": [
      "c:\\Users\\HP\\Desktop\\ML Projects\\ml zoomcap\\mlops-camp\\mlvenv\\Lib\\site-packages\\xgboost\\callback.py:386: UserWarning: [23:49:40] WARNING: C:\\actions-runner\\_work\\xgboost\\xgboost\\src\\objective\\regression_obj.cu:250: reg:linear is now deprecated in favor of reg:squarederror.\n",
      "  self.starting_round = model.num_boosted_rounds()\n",
      "\n"
     ]
    },
    {
     "name": "stdout",
     "output_type": "stream",
     "text": [
      "[10]\tvalidation-rmse:5.46581                                                   \n",
      "[11]\tvalidation-rmse:5.40280                                                   \n",
      "[12]\tvalidation-rmse:5.35374                                                   \n",
      "[13]\tvalidation-rmse:5.31870                                                   \n",
      "[14]\tvalidation-rmse:5.29065                                                   \n",
      "🏃 View run calm-lynx-832 at: http://127.0.0.1:5000/#/experiments/596310372276179798/runs/9f1e3c09096d44a5a35986a708319422\n",
      "\n",
      "🧪 View experiment at: http://127.0.0.1:5000/#/experiments/596310372276179798  \n",
      "\n",
      "[0]\tvalidation-rmse:8.72986                                                    \n",
      "[1]\tvalidation-rmse:8.38491                                                    \n",
      "[2]\tvalidation-rmse:8.07362                                                    \n",
      "[3]\tvalidation-rmse:7.79155                                                    \n",
      "[4]\tvalidation-rmse:7.53791                                                    \n",
      "[5]\tvalidation-rmse:7.31056                                                    \n",
      "[6]\tvalidation-rmse:7.10511                                                    \n",
      "[7]\tvalidation-rmse:6.91924                                                    \n",
      "[8]\tvalidation-rmse:6.75288                                                    \n",
      "[9]\tvalidation-rmse:6.60252                                                    \n",
      "[10]\tvalidation-rmse:6.47161                                                   \n",
      "[11]\tvalidation-rmse:6.35336                                                   \n",
      "[12]\tvalidation-rmse:6.24870                                                   \n",
      "                                                                               "
     ]
    },
    {
     "name": "stderr",
     "output_type": "stream",
     "text": [
      "c:\\Users\\HP\\Desktop\\ML Projects\\ml zoomcap\\mlops-camp\\mlvenv\\Lib\\site-packages\\xgboost\\callback.py:386: UserWarning: [23:49:41] WARNING: C:\\actions-runner\\_work\\xgboost\\xgboost\\src\\objective\\regression_obj.cu:250: reg:linear is now deprecated in favor of reg:squarederror.\n",
      "  self.starting_round = model.num_boosted_rounds()\n",
      "\n"
     ]
    },
    {
     "name": "stdout",
     "output_type": "stream",
     "text": [
      "[13]\tvalidation-rmse:6.15084\n",
      "[14]\tvalidation-rmse:6.06624                                                   \n",
      "🏃 View run bouncy-mink-932 at: http://127.0.0.1:5000/#/experiments/596310372276179798/runs/f562ff10a8f746c99db6c19bc2808153\n",
      "\n",
      "🧪 View experiment at: http://127.0.0.1:5000/#/experiments/596310372276179798  \n",
      "\n",
      "[0]\tvalidation-rmse:7.01686                                                    \n",
      "[1]\tvalidation-rmse:6.16010                                                    \n",
      "[2]\tvalidation-rmse:5.82869                                                    \n",
      "[3]\tvalidation-rmse:5.64151                                                    \n",
      "[4]\tvalidation-rmse:5.58207                                                    \n",
      "[5]\tvalidation-rmse:5.51278                                                    \n",
      "[6]\tvalidation-rmse:5.48426                                                    \n",
      "[7]\tvalidation-rmse:5.44154                                                    \n",
      "[8]\tvalidation-rmse:5.42451                                                    \n",
      "[9]\tvalidation-rmse:5.40544                                                    \n",
      "[10]\tvalidation-rmse:5.40213                                                   \n",
      "[11]\tvalidation-rmse:5.38007                                                   \n",
      "[12]\tvalidation-rmse:5.36290                                                   \n",
      " 10%|█         | 5/50 [00:03<00:28,  1.60trial/s, best loss: 5.290648458569233]"
     ]
    },
    {
     "name": "stderr",
     "output_type": "stream",
     "text": [
      "c:\\Users\\HP\\Desktop\\ML Projects\\ml zoomcap\\mlops-camp\\mlvenv\\Lib\\site-packages\\xgboost\\callback.py:386: UserWarning: [23:49:41] WARNING: C:\\actions-runner\\_work\\xgboost\\xgboost\\src\\objective\\regression_obj.cu:250: reg:linear is now deprecated in favor of reg:squarederror.\n",
      "  self.starting_round = model.num_boosted_rounds()\n",
      "\n"
     ]
    },
    {
     "name": "stdout",
     "output_type": "stream",
     "text": [
      "[13]\tvalidation-rmse:5.35330                                                   \n",
      "[14]\tvalidation-rmse:5.34409                                                   \n",
      "🏃 View run nosy-fowl-102 at: http://127.0.0.1:5000/#/experiments/596310372276179798/runs/da37dc23e2484b1ea2ab7dc56a7eed8f\n",
      "\n",
      "🧪 View experiment at: http://127.0.0.1:5000/#/experiments/596310372276179798  \n",
      "\n",
      "[0]\tvalidation-rmse:7.55873                                                    \n",
      "[1]\tvalidation-rmse:6.59607                                                    \n",
      "[2]\tvalidation-rmse:6.01858                                                    \n",
      "[3]\tvalidation-rmse:5.64952                                                    \n",
      "[4]\tvalidation-rmse:5.43953                                                    \n",
      "[5]\tvalidation-rmse:5.32119                                                    \n",
      "[6]\tvalidation-rmse:5.24913                                                    \n",
      " 12%|█▏        | 6/50 [00:04<00:26,  1.64trial/s, best loss: 5.290648458569233]"
     ]
    },
    {
     "name": "stderr",
     "output_type": "stream",
     "text": [
      "c:\\Users\\HP\\Desktop\\ML Projects\\ml zoomcap\\mlops-camp\\mlvenv\\Lib\\site-packages\\xgboost\\callback.py:386: UserWarning: [23:49:42] WARNING: C:\\actions-runner\\_work\\xgboost\\xgboost\\src\\objective\\regression_obj.cu:250: reg:linear is now deprecated in favor of reg:squarederror.\n",
      "  self.starting_round = model.num_boosted_rounds()\n",
      "\n"
     ]
    },
    {
     "name": "stdout",
     "output_type": "stream",
     "text": [
      "[7]\tvalidation-rmse:5.20807                                                    \n",
      "[8]\tvalidation-rmse:5.17491                                                    \n",
      "[9]\tvalidation-rmse:5.15266                                                    \n",
      "[10]\tvalidation-rmse:5.12663                                                   \n",
      "[11]\tvalidation-rmse:5.11680                                                   \n",
      "[12]\tvalidation-rmse:5.10971                                                   \n",
      "[13]\tvalidation-rmse:5.10578                                                   \n",
      "[14]\tvalidation-rmse:5.09381                                                   \n",
      "🏃 View run spiffy-ram-466 at: http://127.0.0.1:5000/#/experiments/596310372276179798/runs/9def88e17d474cae914699f0f5c3e454\n",
      "\n",
      "🧪 View experiment at: http://127.0.0.1:5000/#/experiments/596310372276179798  \n",
      "\n",
      "[0]\tvalidation-rmse:6.93122                                                    \n",
      "[1]\tvalidation-rmse:6.00041                                                    \n",
      "[2]\tvalidation-rmse:5.61709                                                    \n",
      "[3]\tvalidation-rmse:5.42659                                                    \n",
      "[4]\tvalidation-rmse:5.33792                                                    \n",
      "[5]\tvalidation-rmse:5.28187                                                    \n",
      "[6]\tvalidation-rmse:5.24682                                                    \n",
      "[7]\tvalidation-rmse:5.21799                                                    \n",
      "[8]\tvalidation-rmse:5.19994                                                    \n",
      "[9]\tvalidation-rmse:5.17495                                                    \n",
      "[10]\tvalidation-rmse:5.17016                                                   \n",
      "[11]\tvalidation-rmse:5.16407                                                   \n",
      "[12]\tvalidation-rmse:5.15130                                                   \n",
      "                                                                               \r"
     ]
    },
    {
     "name": "stderr",
     "output_type": "stream",
     "text": [
      "c:\\Users\\HP\\Desktop\\ML Projects\\ml zoomcap\\mlops-camp\\mlvenv\\Lib\\site-packages\\xgboost\\callback.py:386: UserWarning: [23:49:42] WARNING: C:\\actions-runner\\_work\\xgboost\\xgboost\\src\\objective\\regression_obj.cu:250: reg:linear is now deprecated in favor of reg:squarederror.\n",
      "  self.starting_round = model.num_boosted_rounds()\n",
      "\n"
     ]
    },
    {
     "name": "stdout",
     "output_type": "stream",
     "text": [
      "[13]\tvalidation-rmse:5.15444\n",
      "[14]\tvalidation-rmse:5.14703                                                   \n",
      "🏃 View run tasteful-auk-669 at: http://127.0.0.1:5000/#/experiments/596310372276179798/runs/bdf00a4a0d004ed989b7a1e83b286bc7\n",
      "\n",
      "🧪 View experiment at: http://127.0.0.1:5000/#/experiments/596310372276179798  \n",
      "\n",
      "[0]\tvalidation-rmse:8.68553                                                    \n",
      "[1]\tvalidation-rmse:8.30816                                                    \n",
      "[2]\tvalidation-rmse:7.97235                                                    \n",
      "[3]\tvalidation-rmse:7.67443                                                    \n",
      "[4]\tvalidation-rmse:7.41142                                                    \n",
      "[5]\tvalidation-rmse:7.18181                                                    \n",
      "[6]\tvalidation-rmse:6.97936                                                    \n",
      "[7]\tvalidation-rmse:6.79955                                                    \n",
      "[8]\tvalidation-rmse:6.64340                                                    \n",
      "[9]\tvalidation-rmse:6.50723                                                    \n",
      "[10]\tvalidation-rmse:6.38811                                                   \n",
      "[11]\tvalidation-rmse:6.28428                                                   \n",
      "[12]\tvalidation-rmse:6.19281                                                   \n",
      "[13]\tvalidation-rmse:6.10949                                                   \n",
      "[14]\tvalidation-rmse:6.03657                                                   \n",
      " 16%|█▌        | 8/50 [00:05<00:24,  1.73trial/s, best loss: 5.093812380196987]"
     ]
    },
    {
     "name": "stderr",
     "output_type": "stream",
     "text": [
      "c:\\Users\\HP\\Desktop\\ML Projects\\ml zoomcap\\mlops-camp\\mlvenv\\Lib\\site-packages\\xgboost\\callback.py:386: UserWarning: [23:49:43] WARNING: C:\\actions-runner\\_work\\xgboost\\xgboost\\src\\objective\\regression_obj.cu:250: reg:linear is now deprecated in favor of reg:squarederror.\n",
      "  self.starting_round = model.num_boosted_rounds()\n",
      "\n"
     ]
    },
    {
     "name": "stdout",
     "output_type": "stream",
     "text": [
      "🏃 View run handsome-hound-953 at: http://127.0.0.1:5000/#/experiments/596310372276179798/runs/1d4edafbe7bc4e758e62d386154f3ae6\n",
      "\n",
      "🧪 View experiment at: http://127.0.0.1:5000/#/experiments/596310372276179798  \n",
      "\n",
      "[0]\tvalidation-rmse:7.32725                                                    \n",
      "[1]\tvalidation-rmse:6.37601                                                    \n",
      "[2]\tvalidation-rmse:5.90018                                                    \n",
      "[3]\tvalidation-rmse:5.64245                                                    \n",
      "[4]\tvalidation-rmse:5.50807                                                    \n",
      "[5]\tvalidation-rmse:5.42421                                                    \n",
      "[6]\tvalidation-rmse:5.38301                                                    \n",
      "[7]\tvalidation-rmse:5.33780                                                    \n",
      "[8]\tvalidation-rmse:5.29869                                                    \n",
      "[9]\tvalidation-rmse:5.26856                                                    \n",
      "[10]\tvalidation-rmse:5.26216                                                   \n",
      " 18%|█▊        | 9/50 [00:05<00:21,  1.87trial/s, best loss: 5.093812380196987]"
     ]
    },
    {
     "name": "stderr",
     "output_type": "stream",
     "text": [
      "c:\\Users\\HP\\Desktop\\ML Projects\\ml zoomcap\\mlops-camp\\mlvenv\\Lib\\site-packages\\xgboost\\callback.py:386: UserWarning: [23:49:43] WARNING: C:\\actions-runner\\_work\\xgboost\\xgboost\\src\\objective\\regression_obj.cu:250: reg:linear is now deprecated in favor of reg:squarederror.\n",
      "  self.starting_round = model.num_boosted_rounds()\n",
      "\n"
     ]
    },
    {
     "name": "stdout",
     "output_type": "stream",
     "text": [
      "[11]\tvalidation-rmse:5.25647                                                   \n",
      "[12]\tvalidation-rmse:5.24707                                                   \n",
      "[13]\tvalidation-rmse:5.23471                                                   \n",
      "[14]\tvalidation-rmse:5.22566                                                   \n",
      "🏃 View run upbeat-hen-529 at: http://127.0.0.1:5000/#/experiments/596310372276179798/runs/5f12bed91ff84ca38ad745ee39a2b837\n",
      "\n",
      "🧪 View experiment at: http://127.0.0.1:5000/#/experiments/596310372276179798  \n",
      "\n",
      "[0]\tvalidation-rmse:5.77461                                                     \n",
      "[1]\tvalidation-rmse:5.34023                                                     \n",
      "[2]\tvalidation-rmse:5.27026                                                     \n",
      "[3]\tvalidation-rmse:5.22462                                                     \n",
      "[4]\tvalidation-rmse:5.19371                                                     \n",
      "[5]\tvalidation-rmse:5.19200                                                     \n",
      "[6]\tvalidation-rmse:5.17549                                                     \n",
      "[7]\tvalidation-rmse:5.18240                                                     \n",
      "[8]\tvalidation-rmse:5.18733                                                     \n",
      "[9]\tvalidation-rmse:5.18946                                                     \n",
      "[10]\tvalidation-rmse:5.19266                                                    \n",
      "                                                                                \r"
     ]
    },
    {
     "name": "stderr",
     "output_type": "stream",
     "text": [
      "c:\\Users\\HP\\Desktop\\ML Projects\\ml zoomcap\\mlops-camp\\mlvenv\\Lib\\site-packages\\xgboost\\callback.py:386: UserWarning: [23:49:44] WARNING: C:\\actions-runner\\_work\\xgboost\\xgboost\\src\\objective\\regression_obj.cu:250: reg:linear is now deprecated in favor of reg:squarederror.\n",
      "  self.starting_round = model.num_boosted_rounds()\n",
      "\n"
     ]
    },
    {
     "name": "stdout",
     "output_type": "stream",
     "text": [
      "[11]\tvalidation-rmse:5.18849\n",
      "[12]\tvalidation-rmse:5.19277                                                    \n",
      "[13]\tvalidation-rmse:5.20161                                                    \n",
      "[14]\tvalidation-rmse:5.19965                                                    \n",
      "🏃 View run bemused-fly-590 at: http://127.0.0.1:5000/#/experiments/596310372276179798/runs/9a60edd5395948768c06fd1433beb9d2\n",
      "\n",
      "🧪 View experiment at: http://127.0.0.1:5000/#/experiments/596310372276179798   \n",
      "\n",
      "[0]\tvalidation-rmse:5.46442                                                     \n",
      "[1]\tvalidation-rmse:5.35167                                                     \n",
      "[2]\tvalidation-rmse:5.35334                                                     \n",
      "[3]\tvalidation-rmse:5.32439                                                     \n",
      "[4]\tvalidation-rmse:5.33578                                                     \n",
      "[5]\tvalidation-rmse:5.32778                                                     \n",
      "[6]\tvalidation-rmse:5.33090                                                     \n",
      " 22%|██▏       | 11/50 [00:06<00:21,  1.84trial/s, best loss: 5.093812380196987]"
     ]
    },
    {
     "name": "stderr",
     "output_type": "stream",
     "text": [
      "c:\\Users\\HP\\Desktop\\ML Projects\\ml zoomcap\\mlops-camp\\mlvenv\\Lib\\site-packages\\xgboost\\callback.py:386: UserWarning: [23:49:44] WARNING: C:\\actions-runner\\_work\\xgboost\\xgboost\\src\\objective\\regression_obj.cu:250: reg:linear is now deprecated in favor of reg:squarederror.\n",
      "  self.starting_round = model.num_boosted_rounds()\n",
      "\n"
     ]
    },
    {
     "name": "stdout",
     "output_type": "stream",
     "text": [
      "[7]\tvalidation-rmse:5.34097                                                     \n",
      "[8]\tvalidation-rmse:5.34395                                                     \n",
      "[9]\tvalidation-rmse:5.35922                                                     \n",
      "[10]\tvalidation-rmse:5.35696                                                    \n",
      "[11]\tvalidation-rmse:5.35309                                                    \n",
      "[12]\tvalidation-rmse:5.36037                                                    \n",
      "[13]\tvalidation-rmse:5.36667                                                    \n",
      "🏃 View run likeable-midge-445 at: http://127.0.0.1:5000/#/experiments/596310372276179798/runs/f2a45b44bd1d462ca6182550918f5cee\n",
      "\n",
      "🧪 View experiment at: http://127.0.0.1:5000/#/experiments/596310372276179798   \n",
      "\n",
      "[0]\tvalidation-rmse:7.98016                                                     \n",
      "[1]\tvalidation-rmse:7.18355                                                     \n",
      "[2]\tvalidation-rmse:6.63743                                                     \n",
      "[3]\tvalidation-rmse:6.26183                                                     \n",
      "[4]\tvalidation-rmse:5.98940                                                     \n",
      "[5]\tvalidation-rmse:5.81357                                                     \n",
      "[6]\tvalidation-rmse:5.69409                                                     \n",
      "[7]\tvalidation-rmse:5.61213                                                     \n",
      "[8]\tvalidation-rmse:5.55374                                                     \n",
      "[9]\tvalidation-rmse:5.51347                                                     \n",
      "[10]\tvalidation-rmse:5.47394                                                    \n",
      "[11]\tvalidation-rmse:5.45333                                                    \n",
      " 24%|██▍       | 12/50 [00:07<00:21,  1.77trial/s, best loss: 5.093812380196987]"
     ]
    },
    {
     "name": "stderr",
     "output_type": "stream",
     "text": [
      "c:\\Users\\HP\\Desktop\\ML Projects\\ml zoomcap\\mlops-camp\\mlvenv\\Lib\\site-packages\\xgboost\\callback.py:386: UserWarning: [23:49:45] WARNING: C:\\actions-runner\\_work\\xgboost\\xgboost\\src\\objective\\regression_obj.cu:250: reg:linear is now deprecated in favor of reg:squarederror.\n",
      "  self.starting_round = model.num_boosted_rounds()\n",
      "\n"
     ]
    },
    {
     "name": "stdout",
     "output_type": "stream",
     "text": [
      "[12]\tvalidation-rmse:5.42900                                                    \n",
      "[13]\tvalidation-rmse:5.40853                                                    \n",
      "[14]\tvalidation-rmse:5.38242                                                    \n",
      "🏃 View run mysterious-quail-965 at: http://127.0.0.1:5000/#/experiments/596310372276179798/runs/c7d9e01044fb40b9a36919999a36545a\n",
      "\n",
      "🧪 View experiment at: http://127.0.0.1:5000/#/experiments/596310372276179798   \n",
      "\n",
      "[0]\tvalidation-rmse:8.39083                                                     \n",
      "[1]\tvalidation-rmse:7.80446                                                     \n",
      "[2]\tvalidation-rmse:7.32747                                                     \n",
      "[3]\tvalidation-rmse:6.94878                                                     \n",
      "[4]\tvalidation-rmse:6.64084                                                     \n",
      "[5]\tvalidation-rmse:6.39088                                                     \n",
      "[6]\tvalidation-rmse:6.19376                                                     \n",
      "[7]\tvalidation-rmse:6.03678                                                     \n",
      "[8]\tvalidation-rmse:5.91697                                                     \n",
      "[9]\tvalidation-rmse:5.81666                                                     \n",
      "                                                                                "
     ]
    },
    {
     "name": "stderr",
     "output_type": "stream",
     "text": [
      "c:\\Users\\HP\\Desktop\\ML Projects\\ml zoomcap\\mlops-camp\\mlvenv\\Lib\\site-packages\\xgboost\\callback.py:386: UserWarning: [23:49:46] WARNING: C:\\actions-runner\\_work\\xgboost\\xgboost\\src\\objective\\regression_obj.cu:250: reg:linear is now deprecated in favor of reg:squarederror.\n",
      "  self.starting_round = model.num_boosted_rounds()\n",
      "\n"
     ]
    },
    {
     "name": "stdout",
     "output_type": "stream",
     "text": [
      "[10]\tvalidation-rmse:5.74150\n",
      "[11]\tvalidation-rmse:5.67855                                                    \n",
      "[12]\tvalidation-rmse:5.63078                                                    \n",
      "[13]\tvalidation-rmse:5.58592                                                    \n",
      "[14]\tvalidation-rmse:5.55154                                                    \n",
      "🏃 View run selective-midge-449 at: http://127.0.0.1:5000/#/experiments/596310372276179798/runs/d255eafc6d054ab98fab2f5cf5b79c69\n",
      "\n",
      "🧪 View experiment at: http://127.0.0.1:5000/#/experiments/596310372276179798   \n",
      "\n",
      "[0]\tvalidation-rmse:7.39165                                                     \n",
      "[1]\tvalidation-rmse:6.43075                                                     \n",
      "[2]\tvalidation-rmse:5.90178                                                     \n",
      "[3]\tvalidation-rmse:5.61458                                                     \n",
      "[4]\tvalidation-rmse:5.46961                                                     \n",
      "[5]\tvalidation-rmse:5.36897                                                     \n",
      "[6]\tvalidation-rmse:5.30624                                                     \n",
      "[7]\tvalidation-rmse:5.27621                                                     \n",
      "[8]\tvalidation-rmse:5.24791                                                     \n",
      "[9]\tvalidation-rmse:5.22780                                                     \n",
      "[10]\tvalidation-rmse:5.20794                                                    \n",
      "[11]\tvalidation-rmse:5.19970                                                    \n",
      "[12]\tvalidation-rmse:5.19027                                                    \n",
      "[13]\tvalidation-rmse:5.18439                                                    \n",
      " 28%|██▊       | 14/50 [00:08<00:21,  1.68trial/s, best loss: 5.093812380196987]"
     ]
    },
    {
     "name": "stderr",
     "output_type": "stream",
     "text": [
      "c:\\Users\\HP\\Desktop\\ML Projects\\ml zoomcap\\mlops-camp\\mlvenv\\Lib\\site-packages\\xgboost\\callback.py:386: UserWarning: [23:49:46] WARNING: C:\\actions-runner\\_work\\xgboost\\xgboost\\src\\objective\\regression_obj.cu:250: reg:linear is now deprecated in favor of reg:squarederror.\n",
      "  self.starting_round = model.num_boosted_rounds()\n",
      "\n"
     ]
    },
    {
     "name": "stdout",
     "output_type": "stream",
     "text": [
      "[14]\tvalidation-rmse:5.17169                                                    \n",
      "🏃 View run skittish-fawn-227 at: http://127.0.0.1:5000/#/experiments/596310372276179798/runs/be7a1db6ec2d4902a60cc5ea7258fec3\n",
      "\n",
      "🧪 View experiment at: http://127.0.0.1:5000/#/experiments/596310372276179798   \n",
      "\n",
      "[0]\tvalidation-rmse:7.06636                                                     \n",
      "[1]\tvalidation-rmse:6.19919                                                     \n",
      "[2]\tvalidation-rmse:5.84973                                                     \n",
      "[3]\tvalidation-rmse:5.68015                                                     \n",
      "[4]\tvalidation-rmse:5.60998                                                     \n",
      "[5]\tvalidation-rmse:5.55935                                                     \n",
      "[6]\tvalidation-rmse:5.48854                                                     \n",
      "[7]\tvalidation-rmse:5.46947                                                     \n",
      "[8]\tvalidation-rmse:5.44549                                                     \n",
      "[9]\tvalidation-rmse:5.42519                                                     \n",
      "[10]\tvalidation-rmse:5.40826                                                    \n",
      "[11]\tvalidation-rmse:5.38727                                                    \n",
      "[12]\tvalidation-rmse:5.36798                                                    \n",
      "[13]\tvalidation-rmse:5.36226                                                    \n",
      "[14]\tvalidation-rmse:5.36176                                                    \n",
      " 30%|███       | 15/50 [00:09<00:19,  1.77trial/s, best loss: 5.093812380196987]"
     ]
    },
    {
     "name": "stderr",
     "output_type": "stream",
     "text": [
      "c:\\Users\\HP\\Desktop\\ML Projects\\ml zoomcap\\mlops-camp\\mlvenv\\Lib\\site-packages\\xgboost\\callback.py:386: UserWarning: [23:49:47] WARNING: C:\\actions-runner\\_work\\xgboost\\xgboost\\src\\objective\\regression_obj.cu:250: reg:linear is now deprecated in favor of reg:squarederror.\n",
      "  self.starting_round = model.num_boosted_rounds()\n",
      "\n"
     ]
    },
    {
     "name": "stdout",
     "output_type": "stream",
     "text": [
      "🏃 View run flawless-loon-852 at: http://127.0.0.1:5000/#/experiments/596310372276179798/runs/9b58742f41c54803b0de57fbc9c57f0d\n",
      "\n",
      "🧪 View experiment at: http://127.0.0.1:5000/#/experiments/596310372276179798   \n",
      "\n",
      "[0]\tvalidation-rmse:5.94357                                                     \n",
      "[1]\tvalidation-rmse:5.40048                                                     \n",
      "[2]\tvalidation-rmse:5.28134                                                     \n",
      "[3]\tvalidation-rmse:5.23921                                                     \n",
      "[4]\tvalidation-rmse:5.21787                                                     \n",
      "[5]\tvalidation-rmse:5.18872                                                     \n",
      "[6]\tvalidation-rmse:5.18133                                                     \n",
      "[7]\tvalidation-rmse:5.15586                                                     \n",
      "[8]\tvalidation-rmse:5.15458                                                     \n",
      "[9]\tvalidation-rmse:5.15375                                                     \n",
      "[10]\tvalidation-rmse:5.15487                                                    \n",
      " 32%|███▏      | 16/50 [00:09<00:18,  1.87trial/s, best loss: 5.093812380196987]"
     ]
    },
    {
     "name": "stderr",
     "output_type": "stream",
     "text": [
      "c:\\Users\\HP\\Desktop\\ML Projects\\ml zoomcap\\mlops-camp\\mlvenv\\Lib\\site-packages\\xgboost\\callback.py:386: UserWarning: [23:49:47] WARNING: C:\\actions-runner\\_work\\xgboost\\xgboost\\src\\objective\\regression_obj.cu:250: reg:linear is now deprecated in favor of reg:squarederror.\n",
      "  self.starting_round = model.num_boosted_rounds()\n",
      "\n"
     ]
    },
    {
     "name": "stdout",
     "output_type": "stream",
     "text": [
      "[11]\tvalidation-rmse:5.15484                                                    \n",
      "[12]\tvalidation-rmse:5.14935                                                    \n",
      "[13]\tvalidation-rmse:5.14777                                                    \n",
      "[14]\tvalidation-rmse:5.14992                                                    \n",
      "🏃 View run judicious-midge-350 at: http://127.0.0.1:5000/#/experiments/596310372276179798/runs/68f76429402145aaa1a7e2a744030f02\n",
      "\n",
      "🧪 View experiment at: http://127.0.0.1:5000/#/experiments/596310372276179798   \n",
      "\n",
      "[0]\tvalidation-rmse:7.60964                                                     \n",
      "[1]\tvalidation-rmse:6.74717                                                     \n",
      "[2]\tvalidation-rmse:6.29228                                                     \n",
      "[3]\tvalidation-rmse:6.01813                                                     \n",
      "[4]\tvalidation-rmse:5.86596                                                     \n",
      "[5]\tvalidation-rmse:5.77867                                                     \n",
      "[6]\tvalidation-rmse:5.72056                                                     \n",
      "[7]\tvalidation-rmse:5.68853                                                     \n",
      "[8]\tvalidation-rmse:5.65534                                                     \n",
      "[9]\tvalidation-rmse:5.60853                                                     \n",
      "[10]\tvalidation-rmse:5.58897                                                    \n",
      "[11]\tvalidation-rmse:5.56721                                                    \n",
      "[12]\tvalidation-rmse:5.55607                                                    \n",
      "[13]\tvalidation-rmse:5.53781                                                    \n",
      "[14]\tvalidation-rmse:5.51781                                                    \n",
      " 34%|███▍      | 17/50 [00:10<00:17,  1.88trial/s, best loss: 5.093812380196987]"
     ]
    },
    {
     "name": "stderr",
     "output_type": "stream",
     "text": [
      "c:\\Users\\HP\\Desktop\\ML Projects\\ml zoomcap\\mlops-camp\\mlvenv\\Lib\\site-packages\\xgboost\\callback.py:386: UserWarning: [23:49:48] WARNING: C:\\actions-runner\\_work\\xgboost\\xgboost\\src\\objective\\regression_obj.cu:250: reg:linear is now deprecated in favor of reg:squarederror.\n",
      "  self.starting_round = model.num_boosted_rounds()\n",
      "\n"
     ]
    },
    {
     "name": "stdout",
     "output_type": "stream",
     "text": [
      "🏃 View run nebulous-sponge-820 at: http://127.0.0.1:5000/#/experiments/596310372276179798/runs/0acd4c358844475ea8df1a776fb77419\n",
      "\n",
      "🧪 View experiment at: http://127.0.0.1:5000/#/experiments/596310372276179798   \n",
      "\n",
      "[0]\tvalidation-rmse:8.17401                                                     \n",
      "[1]\tvalidation-rmse:7.46192                                                     \n",
      "[2]\tvalidation-rmse:6.92220                                                     \n",
      "[3]\tvalidation-rmse:6.51309                                                     \n",
      "[4]\tvalidation-rmse:6.21569                                                     \n",
      "[5]\tvalidation-rmse:5.99296                                                     \n",
      "[6]\tvalidation-rmse:5.83015                                                     \n",
      "[7]\tvalidation-rmse:5.71036                                                     \n",
      " 36%|███▌      | 18/50 [00:10<00:16,  1.88trial/s, best loss: 5.093812380196987]"
     ]
    },
    {
     "name": "stderr",
     "output_type": "stream",
     "text": [
      "c:\\Users\\HP\\Desktop\\ML Projects\\ml zoomcap\\mlops-camp\\mlvenv\\Lib\\site-packages\\xgboost\\callback.py:386: UserWarning: [23:49:48] WARNING: C:\\actions-runner\\_work\\xgboost\\xgboost\\src\\objective\\regression_obj.cu:250: reg:linear is now deprecated in favor of reg:squarederror.\n",
      "  self.starting_round = model.num_boosted_rounds()\n",
      "\n"
     ]
    },
    {
     "name": "stdout",
     "output_type": "stream",
     "text": [
      "[8]\tvalidation-rmse:5.62150                                                     \n",
      "[9]\tvalidation-rmse:5.55211                                                     \n",
      "[10]\tvalidation-rmse:5.49821                                                    \n",
      "[11]\tvalidation-rmse:5.45289                                                    \n",
      "[12]\tvalidation-rmse:5.42025                                                    \n",
      "[13]\tvalidation-rmse:5.38956                                                    \n",
      "[14]\tvalidation-rmse:5.37022                                                    \n",
      "🏃 View run wistful-goose-310 at: http://127.0.0.1:5000/#/experiments/596310372276179798/runs/d76fa82a2b9444e69262130a42715062\n",
      "\n",
      "🧪 View experiment at: http://127.0.0.1:5000/#/experiments/596310372276179798   \n",
      "\n",
      "[0]\tvalidation-rmse:8.76833                                                     \n",
      "[1]\tvalidation-rmse:8.45683                                                     \n",
      "[2]\tvalidation-rmse:8.17219                                                     \n",
      "[3]\tvalidation-rmse:7.91398                                                     \n",
      "[4]\tvalidation-rmse:7.67956                                                     \n",
      "[5]\tvalidation-rmse:7.46718                                                     \n",
      "[6]\tvalidation-rmse:7.27591                                                     \n",
      "[7]\tvalidation-rmse:7.10211                                                     \n",
      "[8]\tvalidation-rmse:6.94647                                                     \n",
      "[9]\tvalidation-rmse:6.80539                                                     \n",
      "[10]\tvalidation-rmse:6.67959                                                    \n",
      "[11]\tvalidation-rmse:6.56509                                                    \n",
      "[12]\tvalidation-rmse:6.46385                                                    \n",
      "[13]\tvalidation-rmse:6.37221                                                    \n",
      "[14]\tvalidation-rmse:6.29059                                                    \n",
      " 38%|███▊      | 19/50 [00:11<00:18,  1.71trial/s, best loss: 5.093812380196987]"
     ]
    },
    {
     "name": "stderr",
     "output_type": "stream",
     "text": [
      "c:\\Users\\HP\\Desktop\\ML Projects\\ml zoomcap\\mlops-camp\\mlvenv\\Lib\\site-packages\\xgboost\\callback.py:386: UserWarning: [23:49:49] WARNING: C:\\actions-runner\\_work\\xgboost\\xgboost\\src\\objective\\regression_obj.cu:250: reg:linear is now deprecated in favor of reg:squarederror.\n",
      "  self.starting_round = model.num_boosted_rounds()\n",
      "\n"
     ]
    },
    {
     "name": "stdout",
     "output_type": "stream",
     "text": [
      "🏃 View run delicate-stag-212 at: http://127.0.0.1:5000/#/experiments/596310372276179798/runs/68fda734f9fe4d00beedb8d676a5da38\n",
      "\n",
      "🧪 View experiment at: http://127.0.0.1:5000/#/experiments/596310372276179798   \n",
      "\n",
      "[0]\tvalidation-rmse:6.36863                                                     \n",
      "[1]\tvalidation-rmse:5.58666                                                     \n",
      "[2]\tvalidation-rmse:5.37438                                                     \n",
      "[3]\tvalidation-rmse:5.29305                                                     \n",
      "[4]\tvalidation-rmse:5.25881                                                     \n",
      "[5]\tvalidation-rmse:5.23429                                                     \n",
      "[6]\tvalidation-rmse:5.22034                                                     \n",
      "[7]\tvalidation-rmse:5.21540                                                     \n",
      "[8]\tvalidation-rmse:5.20228                                                     \n",
      "[9]\tvalidation-rmse:5.20874                                                     \n",
      "[10]\tvalidation-rmse:5.20459                                                    \n",
      "[11]\tvalidation-rmse:5.20890                                                    \n",
      " 40%|████      | 20/50 [00:12<00:17,  1.72trial/s, best loss: 5.093812380196987]"
     ]
    },
    {
     "name": "stderr",
     "output_type": "stream",
     "text": [
      "c:\\Users\\HP\\Desktop\\ML Projects\\ml zoomcap\\mlops-camp\\mlvenv\\Lib\\site-packages\\xgboost\\callback.py:386: UserWarning: [23:49:50] WARNING: C:\\actions-runner\\_work\\xgboost\\xgboost\\src\\objective\\regression_obj.cu:250: reg:linear is now deprecated in favor of reg:squarederror.\n",
      "  self.starting_round = model.num_boosted_rounds()\n",
      "\n"
     ]
    },
    {
     "name": "stdout",
     "output_type": "stream",
     "text": [
      "[12]\tvalidation-rmse:5.19569                                                    \n",
      "[13]\tvalidation-rmse:5.18424                                                    \n",
      "[14]\tvalidation-rmse:5.18374                                                    \n",
      "🏃 View run merciful-zebra-500 at: http://127.0.0.1:5000/#/experiments/596310372276179798/runs/c95f35f5f7114597a8bc94756eab28be\n",
      "\n",
      "🧪 View experiment at: http://127.0.0.1:5000/#/experiments/596310372276179798   \n",
      "\n",
      "[0]\tvalidation-rmse:7.73671                                                     \n",
      "[1]\tvalidation-rmse:6.82250                                                     \n",
      "[2]\tvalidation-rmse:6.22341                                                     \n",
      "[3]\tvalidation-rmse:5.82150                                                     \n",
      "[4]\tvalidation-rmse:5.58716                                                     \n",
      "[5]\tvalidation-rmse:5.43671                                                     \n",
      "[6]\tvalidation-rmse:5.34338                                                     \n",
      "[7]\tvalidation-rmse:5.28153                                                     \n",
      "                                                                                "
     ]
    },
    {
     "name": "stderr",
     "output_type": "stream",
     "text": [
      "c:\\Users\\HP\\Desktop\\ML Projects\\ml zoomcap\\mlops-camp\\mlvenv\\Lib\\site-packages\\xgboost\\callback.py:386: UserWarning: [23:49:50] WARNING: C:\\actions-runner\\_work\\xgboost\\xgboost\\src\\objective\\regression_obj.cu:250: reg:linear is now deprecated in favor of reg:squarederror.\n",
      "  self.starting_round = model.num_boosted_rounds()\n",
      "\n"
     ]
    },
    {
     "name": "stdout",
     "output_type": "stream",
     "text": [
      "[8]\tvalidation-rmse:5.23819\n",
      "[9]\tvalidation-rmse:5.20521                                                     \n",
      "[10]\tvalidation-rmse:5.18546                                                    \n",
      "[11]\tvalidation-rmse:5.17296                                                    \n",
      "[12]\tvalidation-rmse:5.15803                                                    \n",
      "[13]\tvalidation-rmse:5.14521                                                    \n",
      "[14]\tvalidation-rmse:5.13014                                                    \n",
      "🏃 View run colorful-snail-824 at: http://127.0.0.1:5000/#/experiments/596310372276179798/runs/67f0ff0d99d84fd1bf82b913836c6814\n",
      "\n",
      "🧪 View experiment at: http://127.0.0.1:5000/#/experiments/596310372276179798   \n",
      "\n",
      "[0]\tvalidation-rmse:8.54022                                                     \n",
      "[1]\tvalidation-rmse:8.04615                                                     \n",
      "[2]\tvalidation-rmse:7.62154                                                     \n",
      "[3]\tvalidation-rmse:7.25791                                                     \n",
      "[4]\tvalidation-rmse:6.94555                                                     \n",
      "[5]\tvalidation-rmse:6.68080                                                     \n",
      "[6]\tvalidation-rmse:6.45729                                                     \n",
      "[7]\tvalidation-rmse:6.26749                                                     \n",
      "[8]\tvalidation-rmse:6.10590                                                     \n",
      "[9]\tvalidation-rmse:5.96560                                                     \n",
      "[10]\tvalidation-rmse:5.84733                                                    \n",
      "[11]\tvalidation-rmse:5.75305                                                    \n",
      " 44%|████▍     | 22/50 [00:13<00:16,  1.72trial/s, best loss: 5.093812380196987]"
     ]
    },
    {
     "name": "stderr",
     "output_type": "stream",
     "text": [
      "c:\\Users\\HP\\Desktop\\ML Projects\\ml zoomcap\\mlops-camp\\mlvenv\\Lib\\site-packages\\xgboost\\callback.py:386: UserWarning: [23:49:51] WARNING: C:\\actions-runner\\_work\\xgboost\\xgboost\\src\\objective\\regression_obj.cu:250: reg:linear is now deprecated in favor of reg:squarederror.\n",
      "  self.starting_round = model.num_boosted_rounds()\n",
      "\n"
     ]
    },
    {
     "name": "stdout",
     "output_type": "stream",
     "text": [
      "[12]\tvalidation-rmse:5.67143                                                    \n",
      "[13]\tvalidation-rmse:5.60605                                                    \n",
      "[14]\tvalidation-rmse:5.54934                                                    \n",
      "🏃 View run exultant-jay-421 at: http://127.0.0.1:5000/#/experiments/596310372276179798/runs/95aad00ba3214d3fb9890e01c2b1a5ea\n",
      "\n",
      "🧪 View experiment at: http://127.0.0.1:5000/#/experiments/596310372276179798   \n",
      "\n",
      "[0]\tvalidation-rmse:7.70861                                                     \n",
      "[1]\tvalidation-rmse:6.78381                                                     \n",
      "[2]\tvalidation-rmse:6.18946                                                     \n",
      "[3]\tvalidation-rmse:5.81233                                                     \n",
      "[4]\tvalidation-rmse:5.56017                                                     \n",
      "[5]\tvalidation-rmse:5.41806                                                     \n",
      "[6]\tvalidation-rmse:5.32669                                                     \n",
      "[7]\tvalidation-rmse:5.26162                                                     \n",
      "[8]\tvalidation-rmse:5.21973                                                     \n",
      "[9]\tvalidation-rmse:5.19439                                                     \n",
      " 46%|████▌     | 23/50 [00:13<00:15,  1.74trial/s, best loss: 5.093812380196987]"
     ]
    },
    {
     "name": "stderr",
     "output_type": "stream",
     "text": [
      "c:\\Users\\HP\\Desktop\\ML Projects\\ml zoomcap\\mlops-camp\\mlvenv\\Lib\\site-packages\\xgboost\\callback.py:386: UserWarning: [23:49:51] WARNING: C:\\actions-runner\\_work\\xgboost\\xgboost\\src\\objective\\regression_obj.cu:250: reg:linear is now deprecated in favor of reg:squarederror.\n",
      "  self.starting_round = model.num_boosted_rounds()\n",
      "\n"
     ]
    },
    {
     "name": "stdout",
     "output_type": "stream",
     "text": [
      "[10]\tvalidation-rmse:5.17263                                                    \n",
      "[11]\tvalidation-rmse:5.16160                                                    \n",
      "[12]\tvalidation-rmse:5.15269                                                    \n",
      "[13]\tvalidation-rmse:5.13423                                                    \n",
      "[14]\tvalidation-rmse:5.12765                                                    \n",
      "🏃 View run fortunate-hawk-939 at: http://127.0.0.1:5000/#/experiments/596310372276179798/runs/88bef6ae132b4a4c95c5c9054e8259b0\n",
      "\n",
      "🧪 View experiment at: http://127.0.0.1:5000/#/experiments/596310372276179798   \n",
      "\n",
      "[0]\tvalidation-rmse:7.80591                                                     \n",
      "[1]\tvalidation-rmse:6.90973                                                     \n",
      "[2]\tvalidation-rmse:6.31223                                                     \n",
      "[3]\tvalidation-rmse:5.91844                                                     \n",
      "[4]\tvalidation-rmse:5.64633                                                     \n",
      "[5]\tvalidation-rmse:5.48623                                                     \n",
      "                                                                                \r"
     ]
    },
    {
     "name": "stderr",
     "output_type": "stream",
     "text": [
      "c:\\Users\\HP\\Desktop\\ML Projects\\ml zoomcap\\mlops-camp\\mlvenv\\Lib\\site-packages\\xgboost\\callback.py:386: UserWarning: [23:49:52] WARNING: C:\\actions-runner\\_work\\xgboost\\xgboost\\src\\objective\\regression_obj.cu:250: reg:linear is now deprecated in favor of reg:squarederror.\n",
      "  self.starting_round = model.num_boosted_rounds()\n",
      "\n"
     ]
    },
    {
     "name": "stdout",
     "output_type": "stream",
     "text": [
      "[6]\tvalidation-rmse:5.37244\n",
      "[7]\tvalidation-rmse:5.29533                                                     \n",
      "[8]\tvalidation-rmse:5.24635                                                     \n",
      "[9]\tvalidation-rmse:5.21010                                                     \n",
      "[10]\tvalidation-rmse:5.18439                                                    \n",
      "[11]\tvalidation-rmse:5.16373                                                    \n",
      "[12]\tvalidation-rmse:5.14518                                                    \n",
      "[13]\tvalidation-rmse:5.13435                                                    \n",
      "[14]\tvalidation-rmse:5.12145                                                    \n",
      "🏃 View run delicate-cod-248 at: http://127.0.0.1:5000/#/experiments/596310372276179798/runs/09351a6513ee4e3290f8673beeb020f9\n",
      "\n",
      "🧪 View experiment at: http://127.0.0.1:5000/#/experiments/596310372276179798   \n",
      "\n",
      "[0]\tvalidation-rmse:7.95101                                                     \n",
      "[1]\tvalidation-rmse:7.11056                                                     \n",
      "[2]\tvalidation-rmse:6.51273                                                     \n",
      "[3]\tvalidation-rmse:6.09448                                                     \n",
      "[4]\tvalidation-rmse:5.80173                                                     \n",
      "[5]\tvalidation-rmse:5.58464                                                     \n",
      "[6]\tvalidation-rmse:5.45140                                                     \n",
      "[7]\tvalidation-rmse:5.36219                                                     \n",
      "[8]\tvalidation-rmse:5.29655                                                     \n",
      "[9]\tvalidation-rmse:5.24808                                                     \n",
      " 50%|█████     | 25/50 [00:15<00:15,  1.61trial/s, best loss: 5.093812380196987]"
     ]
    },
    {
     "name": "stderr",
     "output_type": "stream",
     "text": [
      "c:\\Users\\HP\\Desktop\\ML Projects\\ml zoomcap\\mlops-camp\\mlvenv\\Lib\\site-packages\\xgboost\\callback.py:386: UserWarning: [23:49:53] WARNING: C:\\actions-runner\\_work\\xgboost\\xgboost\\src\\objective\\regression_obj.cu:250: reg:linear is now deprecated in favor of reg:squarederror.\n",
      "  self.starting_round = model.num_boosted_rounds()\n",
      "\n"
     ]
    },
    {
     "name": "stdout",
     "output_type": "stream",
     "text": [
      "[10]\tvalidation-rmse:5.20266                                                    \n",
      "[11]\tvalidation-rmse:5.17364                                                    \n",
      "[12]\tvalidation-rmse:5.15665                                                    \n",
      "[13]\tvalidation-rmse:5.13471                                                    \n",
      "[14]\tvalidation-rmse:5.12474                                                    \n",
      "🏃 View run worried-hawk-486 at: http://127.0.0.1:5000/#/experiments/596310372276179798/runs/053829d61d45497184e30f6e3eece804\n",
      "\n",
      "🧪 View experiment at: http://127.0.0.1:5000/#/experiments/596310372276179798   \n",
      "\n",
      "[0]\tvalidation-rmse:8.53082                                                     \n",
      "[1]\tvalidation-rmse:8.02850                                                     \n",
      "[2]\tvalidation-rmse:7.59567                                                     \n",
      "[3]\tvalidation-rmse:7.22332                                                     \n",
      "[4]\tvalidation-rmse:6.90694                                                     \n",
      "[5]\tvalidation-rmse:6.63667                                                     \n",
      "[6]\tvalidation-rmse:6.40873                                                     \n",
      " 52%|█████▏    | 26/50 [00:15<00:15,  1.55trial/s, best loss: 5.093812380196987]"
     ]
    },
    {
     "name": "stderr",
     "output_type": "stream",
     "text": [
      "c:\\Users\\HP\\Desktop\\ML Projects\\ml zoomcap\\mlops-camp\\mlvenv\\Lib\\site-packages\\xgboost\\callback.py:386: UserWarning: [23:49:53] WARNING: C:\\actions-runner\\_work\\xgboost\\xgboost\\src\\objective\\regression_obj.cu:250: reg:linear is now deprecated in favor of reg:squarederror.\n",
      "  self.starting_round = model.num_boosted_rounds()\n",
      "\n"
     ]
    },
    {
     "name": "stdout",
     "output_type": "stream",
     "text": [
      "[7]\tvalidation-rmse:6.21203                                                     \n",
      "[8]\tvalidation-rmse:6.03677                                                     \n",
      "[9]\tvalidation-rmse:5.88991                                                     \n",
      "[10]\tvalidation-rmse:5.76730                                                    \n",
      "[11]\tvalidation-rmse:5.67019                                                    \n",
      "[12]\tvalidation-rmse:5.58373                                                    \n",
      "[13]\tvalidation-rmse:5.51416                                                    \n",
      "[14]\tvalidation-rmse:5.45711                                                    \n",
      "🏃 View run illustrious-colt-509 at: http://127.0.0.1:5000/#/experiments/596310372276179798/runs/1078bec636274be1bca9076307a7adc7\n",
      "\n",
      "🧪 View experiment at: http://127.0.0.1:5000/#/experiments/596310372276179798   \n",
      "\n",
      "[0]\tvalidation-rmse:8.81174                                                     \n",
      "[1]\tvalidation-rmse:8.53354                                                     \n",
      "[2]\tvalidation-rmse:8.27502                                                     \n",
      "[3]\tvalidation-rmse:8.03541                                                     \n",
      "[4]\tvalidation-rmse:7.81329                                                     \n",
      "[5]\tvalidation-rmse:7.60713                                                     \n",
      "[6]\tvalidation-rmse:7.41696                                                     \n",
      "[7]\tvalidation-rmse:7.24160                                                     \n",
      "[8]\tvalidation-rmse:7.07873                                                     \n",
      "[9]\tvalidation-rmse:6.92923                                                     \n",
      " 54%|█████▍    | 27/50 [00:16<00:15,  1.53trial/s, best loss: 5.093812380196987]"
     ]
    },
    {
     "name": "stderr",
     "output_type": "stream",
     "text": [
      "c:\\Users\\HP\\Desktop\\ML Projects\\ml zoomcap\\mlops-camp\\mlvenv\\Lib\\site-packages\\xgboost\\callback.py:386: UserWarning: [23:49:54] WARNING: C:\\actions-runner\\_work\\xgboost\\xgboost\\src\\objective\\regression_obj.cu:250: reg:linear is now deprecated in favor of reg:squarederror.\n",
      "  self.starting_round = model.num_boosted_rounds()\n",
      "\n"
     ]
    },
    {
     "name": "stdout",
     "output_type": "stream",
     "text": [
      "[10]\tvalidation-rmse:6.79185                                                    \n",
      "[11]\tvalidation-rmse:6.66316                                                    \n",
      "[12]\tvalidation-rmse:6.54509                                                    \n",
      "[13]\tvalidation-rmse:6.43821                                                    \n",
      "[14]\tvalidation-rmse:6.33812                                                    \n",
      "🏃 View run puzzled-mule-784 at: http://127.0.0.1:5000/#/experiments/596310372276179798/runs/523aac9852a441e991fd622423911d6e\n",
      "\n",
      "🧪 View experiment at: http://127.0.0.1:5000/#/experiments/596310372276179798   \n",
      "\n",
      "[0]\tvalidation-rmse:8.21051                                                     \n",
      "[1]\tvalidation-rmse:7.54433                                                     \n",
      "[2]\tvalidation-rmse:7.03658                                                     \n",
      "[3]\tvalidation-rmse:6.66692                                                     \n",
      "[4]\tvalidation-rmse:6.39707                                                     \n",
      "[5]\tvalidation-rmse:6.19582                                                     \n",
      "[6]\tvalidation-rmse:6.05143                                                     \n",
      "[7]\tvalidation-rmse:5.95470                                                     \n",
      "[8]\tvalidation-rmse:5.87666                                                     \n",
      "[9]\tvalidation-rmse:5.82024                                                     \n",
      "[10]\tvalidation-rmse:5.77658                                                    \n",
      "[11]\tvalidation-rmse:5.73981                                                    \n",
      "[12]\tvalidation-rmse:5.71186                                                    \n",
      "[13]\tvalidation-rmse:5.69497                                                    \n",
      "[14]\tvalidation-rmse:5.67685                                                    \n",
      " 56%|█████▌    | 28/50 [00:16<00:13,  1.59trial/s, best loss: 5.093812380196987]"
     ]
    },
    {
     "name": "stderr",
     "output_type": "stream",
     "text": [
      "c:\\Users\\HP\\Desktop\\ML Projects\\ml zoomcap\\mlops-camp\\mlvenv\\Lib\\site-packages\\xgboost\\callback.py:386: UserWarning: [23:49:55] WARNING: C:\\actions-runner\\_work\\xgboost\\xgboost\\src\\objective\\regression_obj.cu:250: reg:linear is now deprecated in favor of reg:squarederror.\n",
      "  self.starting_round = model.num_boosted_rounds()\n",
      "\n"
     ]
    },
    {
     "name": "stdout",
     "output_type": "stream",
     "text": [
      "🏃 View run valuable-lamb-140 at: http://127.0.0.1:5000/#/experiments/596310372276179798/runs/4b9c9860c15f4a14824db5c1c1458fb7\n",
      "\n",
      "🧪 View experiment at: http://127.0.0.1:5000/#/experiments/596310372276179798   \n",
      "\n",
      "[0]\tvalidation-rmse:8.52197                                                     \n",
      "[1]\tvalidation-rmse:8.02098                                                     \n",
      "[2]\tvalidation-rmse:7.59318                                                     \n",
      "[3]\tvalidation-rmse:7.23370                                                     \n",
      "[4]\tvalidation-rmse:6.93085                                                     \n",
      "[5]\tvalidation-rmse:6.67236                                                     \n",
      "[6]\tvalidation-rmse:6.45424                                                     \n",
      "[7]\tvalidation-rmse:6.27444                                                     \n",
      "[8]\tvalidation-rmse:6.12174                                                     \n",
      "[9]\tvalidation-rmse:5.99641                                                     \n",
      "[10]\tvalidation-rmse:5.89296                                                    \n",
      "[11]\tvalidation-rmse:5.80753                                                    \n",
      "[12]\tvalidation-rmse:5.73160                                                    \n",
      " 58%|█████▊    | 29/50 [00:17<00:11,  1.76trial/s, best loss: 5.093812380196987]"
     ]
    },
    {
     "name": "stderr",
     "output_type": "stream",
     "text": [
      "c:\\Users\\HP\\Desktop\\ML Projects\\ml zoomcap\\mlops-camp\\mlvenv\\Lib\\site-packages\\xgboost\\callback.py:386: UserWarning: [23:49:55] WARNING: C:\\actions-runner\\_work\\xgboost\\xgboost\\src\\objective\\regression_obj.cu:250: reg:linear is now deprecated in favor of reg:squarederror.\n",
      "  self.starting_round = model.num_boosted_rounds()\n",
      "\n"
     ]
    },
    {
     "name": "stdout",
     "output_type": "stream",
     "text": [
      "[13]\tvalidation-rmse:5.67457                                                    \n",
      "[14]\tvalidation-rmse:5.62173                                                    \n",
      "🏃 View run bedecked-shoat-36 at: http://127.0.0.1:5000/#/experiments/596310372276179798/runs/568fc43e96cc491fb32e532275053bed\n",
      "\n",
      "🧪 View experiment at: http://127.0.0.1:5000/#/experiments/596310372276179798   \n",
      "\n",
      "[0]\tvalidation-rmse:7.69484                                                     \n",
      "[1]\tvalidation-rmse:6.77855                                                     \n",
      " 60%|██████    | 30/50 [00:17<00:11,  1.76trial/s, best loss: 5.093812380196987]"
     ]
    },
    {
     "name": "stderr",
     "output_type": "stream",
     "text": [
      "c:\\Users\\HP\\Desktop\\ML Projects\\ml zoomcap\\mlops-camp\\mlvenv\\Lib\\site-packages\\xgboost\\callback.py:386: UserWarning: [23:49:56] WARNING: C:\\actions-runner\\_work\\xgboost\\xgboost\\src\\objective\\regression_obj.cu:250: reg:linear is now deprecated in favor of reg:squarederror.\n",
      "  self.starting_round = model.num_boosted_rounds()\n",
      "\n"
     ]
    },
    {
     "name": "stdout",
     "output_type": "stream",
     "text": [
      "[2]\tvalidation-rmse:6.19605                                                     \n",
      "[3]\tvalidation-rmse:5.82970                                                     \n",
      "[4]\tvalidation-rmse:5.60972                                                     \n",
      "[5]\tvalidation-rmse:5.44266                                                     \n",
      "[6]\tvalidation-rmse:5.35738                                                     \n",
      "[7]\tvalidation-rmse:5.30162                                                     \n",
      "[8]\tvalidation-rmse:5.25445                                                     \n",
      "[9]\tvalidation-rmse:5.21581                                                     \n",
      "[10]\tvalidation-rmse:5.19425                                                    \n",
      "[11]\tvalidation-rmse:5.17228                                                    \n",
      "[12]\tvalidation-rmse:5.16786                                                    \n",
      "[13]\tvalidation-rmse:5.15387                                                    \n",
      "[14]\tvalidation-rmse:5.15105                                                    \n",
      "🏃 View run invincible-snail-355 at: http://127.0.0.1:5000/#/experiments/596310372276179798/runs/ffdbb9d0cf5344c19ac230847068e321\n",
      "\n",
      "🧪 View experiment at: http://127.0.0.1:5000/#/experiments/596310372276179798   \n",
      "\n",
      "[0]\tvalidation-rmse:8.38878                                                     \n",
      "[1]\tvalidation-rmse:7.78764                                                     \n",
      "[2]\tvalidation-rmse:7.29244                                                     \n",
      " 62%|██████▏   | 31/50 [00:19<00:14,  1.34trial/s, best loss: 5.093812380196987]"
     ]
    },
    {
     "name": "stderr",
     "output_type": "stream",
     "text": [
      "c:\\Users\\HP\\Desktop\\ML Projects\\ml zoomcap\\mlops-camp\\mlvenv\\Lib\\site-packages\\xgboost\\callback.py:386: UserWarning: [23:49:57] WARNING: C:\\actions-runner\\_work\\xgboost\\xgboost\\src\\objective\\regression_obj.cu:250: reg:linear is now deprecated in favor of reg:squarederror.\n",
      "  self.starting_round = model.num_boosted_rounds()\n",
      "\n"
     ]
    },
    {
     "name": "stdout",
     "output_type": "stream",
     "text": [
      "[3]\tvalidation-rmse:6.88672                                                     \n",
      "[4]\tvalidation-rmse:6.55454                                                     \n",
      "[5]\tvalidation-rmse:6.28406                                                     \n",
      "[6]\tvalidation-rmse:6.06388                                                     \n",
      "[7]\tvalidation-rmse:5.87966                                                     \n",
      "[8]\tvalidation-rmse:5.73287                                                     \n",
      "[9]\tvalidation-rmse:5.61159                                                     \n",
      "[10]\tvalidation-rmse:5.52060                                                    \n",
      "[11]\tvalidation-rmse:5.44629                                                    \n",
      "[12]\tvalidation-rmse:5.38775                                                    \n",
      "[13]\tvalidation-rmse:5.33889                                                    \n",
      "[14]\tvalidation-rmse:5.30009                                                    \n",
      "🏃 View run bemused-gnu-170 at: http://127.0.0.1:5000/#/experiments/596310372276179798/runs/4195f3e00fd44f0fa99eb061739a1b7a\n",
      "\n",
      "🧪 View experiment at: http://127.0.0.1:5000/#/experiments/596310372276179798   \n",
      "\n",
      "[0]\tvalidation-rmse:6.51380                                                     \n",
      "[1]\tvalidation-rmse:5.66939                                                     \n",
      "[2]\tvalidation-rmse:5.39237                                                     \n",
      "[3]\tvalidation-rmse:5.29244                                                     \n",
      "[4]\tvalidation-rmse:5.25062                                                     \n",
      "[5]\tvalidation-rmse:5.21095                                                     \n",
      "[6]\tvalidation-rmse:5.19963                                                     \n",
      "[7]\tvalidation-rmse:5.18600                                                     \n",
      " 64%|██████▍   | 32/50 [00:20<00:15,  1.17trial/s, best loss: 5.093812380196987]"
     ]
    },
    {
     "name": "stderr",
     "output_type": "stream",
     "text": [
      "c:\\Users\\HP\\Desktop\\ML Projects\\ml zoomcap\\mlops-camp\\mlvenv\\Lib\\site-packages\\xgboost\\callback.py:386: UserWarning: [23:49:58] WARNING: C:\\actions-runner\\_work\\xgboost\\xgboost\\src\\objective\\regression_obj.cu:250: reg:linear is now deprecated in favor of reg:squarederror.\n",
      "  self.starting_round = model.num_boosted_rounds()\n",
      "\n"
     ]
    },
    {
     "name": "stdout",
     "output_type": "stream",
     "text": [
      "[8]\tvalidation-rmse:5.18564                                                     \n",
      "[9]\tvalidation-rmse:5.17568                                                     \n",
      "[10]\tvalidation-rmse:5.14119                                                    \n",
      "[11]\tvalidation-rmse:5.13306                                                    \n",
      "[12]\tvalidation-rmse:5.11777                                                    \n",
      "[13]\tvalidation-rmse:5.11605                                                    \n",
      "[14]\tvalidation-rmse:5.11559                                                    \n",
      "🏃 View run inquisitive-mink-27 at: http://127.0.0.1:5000/#/experiments/596310372276179798/runs/4b56071908d948d5b0d7285fe7460e1c\n",
      "\n",
      "🧪 View experiment at: http://127.0.0.1:5000/#/experiments/596310372276179798   \n",
      "\n",
      "[0]\tvalidation-rmse:6.44458                                                     \n",
      "[1]\tvalidation-rmse:5.63472                                                     \n",
      "[2]\tvalidation-rmse:5.39903                                                     \n",
      "[3]\tvalidation-rmse:5.27358                                                     \n",
      "[4]\tvalidation-rmse:5.22156                                                     \n",
      " 66%|██████▌   | 33/50 [00:20<00:13,  1.23trial/s, best loss: 5.093812380196987]"
     ]
    },
    {
     "name": "stderr",
     "output_type": "stream",
     "text": [
      "c:\\Users\\HP\\Desktop\\ML Projects\\ml zoomcap\\mlops-camp\\mlvenv\\Lib\\site-packages\\xgboost\\callback.py:386: UserWarning: [23:49:59] WARNING: C:\\actions-runner\\_work\\xgboost\\xgboost\\src\\objective\\regression_obj.cu:250: reg:linear is now deprecated in favor of reg:squarederror.\n",
      "  self.starting_round = model.num_boosted_rounds()\n",
      "\n"
     ]
    },
    {
     "name": "stdout",
     "output_type": "stream",
     "text": [
      "[5]\tvalidation-rmse:5.18867                                                     \n",
      "[6]\tvalidation-rmse:5.17838                                                     \n",
      "[7]\tvalidation-rmse:5.16827                                                     \n",
      "[8]\tvalidation-rmse:5.16843                                                     \n",
      "[9]\tvalidation-rmse:5.15678                                                     \n",
      "[10]\tvalidation-rmse:5.15278                                                    \n",
      "[11]\tvalidation-rmse:5.14168                                                    \n",
      "[12]\tvalidation-rmse:5.14167                                                    \n",
      "[13]\tvalidation-rmse:5.14464                                                    \n",
      "[14]\tvalidation-rmse:5.13655                                                    \n",
      "🏃 View run useful-bat-457 at: http://127.0.0.1:5000/#/experiments/596310372276179798/runs/32377967e2a0463ab6f1b3e6201d2b92\n",
      "\n",
      "🧪 View experiment at: http://127.0.0.1:5000/#/experiments/596310372276179798   \n",
      "\n",
      "[0]\tvalidation-rmse:5.48737                                                     \n",
      "[1]\tvalidation-rmse:5.43190                                                     \n",
      "[2]\tvalidation-rmse:5.37149                                                     \n",
      "[3]\tvalidation-rmse:5.37353                                                     \n",
      "[4]\tvalidation-rmse:5.34299                                                     \n",
      "[5]\tvalidation-rmse:5.33546                                                     \n",
      "[6]\tvalidation-rmse:5.33402                                                     \n",
      "[7]\tvalidation-rmse:5.34610                                                     \n",
      "[8]\tvalidation-rmse:5.34485                                                     \n",
      "[9]\tvalidation-rmse:5.32900                                                     \n",
      " 68%|██████▊   | 34/50 [00:21<00:12,  1.26trial/s, best loss: 5.093812380196987]"
     ]
    },
    {
     "name": "stderr",
     "output_type": "stream",
     "text": [
      "c:\\Users\\HP\\Desktop\\ML Projects\\ml zoomcap\\mlops-camp\\mlvenv\\Lib\\site-packages\\xgboost\\callback.py:386: UserWarning: [23:49:59] WARNING: C:\\actions-runner\\_work\\xgboost\\xgboost\\src\\objective\\regression_obj.cu:250: reg:linear is now deprecated in favor of reg:squarederror.\n",
      "  self.starting_round = model.num_boosted_rounds()\n",
      "\n"
     ]
    },
    {
     "name": "stdout",
     "output_type": "stream",
     "text": [
      "[10]\tvalidation-rmse:5.33620                                                    \n",
      "[11]\tvalidation-rmse:5.32919                                                    \n",
      "[12]\tvalidation-rmse:5.33086                                                    \n",
      "[13]\tvalidation-rmse:5.31405                                                    \n",
      "[14]\tvalidation-rmse:5.31350                                                    \n",
      "🏃 View run gaudy-fly-583 at: http://127.0.0.1:5000/#/experiments/596310372276179798/runs/f830377a82374e8b806e2481e1776b6d\n",
      "\n",
      "🧪 View experiment at: http://127.0.0.1:5000/#/experiments/596310372276179798   \n",
      "\n",
      "[0]\tvalidation-rmse:6.51123                                                     \n",
      "[1]\tvalidation-rmse:5.70036                                                     \n",
      "[2]\tvalidation-rmse:5.44752                                                     \n",
      "[3]\tvalidation-rmse:5.33810                                                     \n",
      "[4]\tvalidation-rmse:5.30396                                                     \n",
      "[5]\tvalidation-rmse:5.25900                                                     \n",
      "[6]\tvalidation-rmse:5.24616                                                     \n",
      "[7]\tvalidation-rmse:5.24098                                                     \n",
      " 70%|███████   | 35/50 [00:22<00:12,  1.25trial/s, best loss: 5.093812380196987]"
     ]
    },
    {
     "name": "stderr",
     "output_type": "stream",
     "text": [
      "c:\\Users\\HP\\Desktop\\ML Projects\\ml zoomcap\\mlops-camp\\mlvenv\\Lib\\site-packages\\xgboost\\callback.py:386: UserWarning: [23:50:00] WARNING: C:\\actions-runner\\_work\\xgboost\\xgboost\\src\\objective\\regression_obj.cu:250: reg:linear is now deprecated in favor of reg:squarederror.\n",
      "  self.starting_round = model.num_boosted_rounds()\n",
      "\n"
     ]
    },
    {
     "name": "stdout",
     "output_type": "stream",
     "text": [
      "[8]\tvalidation-rmse:5.23865                                                     \n",
      "[9]\tvalidation-rmse:5.20569                                                     \n",
      "[10]\tvalidation-rmse:5.19427                                                    \n",
      "[11]\tvalidation-rmse:5.17323                                                    \n",
      "[12]\tvalidation-rmse:5.17405                                                    \n",
      "[13]\tvalidation-rmse:5.15448                                                    \n",
      "[14]\tvalidation-rmse:5.14813                                                    \n",
      "🏃 View run adventurous-eel-561 at: http://127.0.0.1:5000/#/experiments/596310372276179798/runs/104904d877924f61a619ff54d6f1e126\n",
      "\n",
      "🧪 View experiment at: http://127.0.0.1:5000/#/experiments/596310372276179798   \n",
      "\n",
      "[0]\tvalidation-rmse:5.75063                                                     \n",
      "[1]\tvalidation-rmse:5.38706                                                     \n",
      "[2]\tvalidation-rmse:5.31580                                                     \n",
      "[3]\tvalidation-rmse:5.28629                                                     \n",
      "[4]\tvalidation-rmse:5.27268                                                     \n",
      "[5]\tvalidation-rmse:5.26566                                                     \n",
      "[6]\tvalidation-rmse:5.23895                                                     \n",
      "[7]\tvalidation-rmse:5.22833                                                     \n",
      "[8]\tvalidation-rmse:5.20067                                                     \n",
      "[9]\tvalidation-rmse:5.18014                                                     \n",
      "                                                                                "
     ]
    },
    {
     "name": "stderr",
     "output_type": "stream",
     "text": [
      "c:\\Users\\HP\\Desktop\\ML Projects\\ml zoomcap\\mlops-camp\\mlvenv\\Lib\\site-packages\\xgboost\\callback.py:386: UserWarning: [23:50:01] WARNING: C:\\actions-runner\\_work\\xgboost\\xgboost\\src\\objective\\regression_obj.cu:250: reg:linear is now deprecated in favor of reg:squarederror.\n",
      "  self.starting_round = model.num_boosted_rounds()\n",
      "\n"
     ]
    },
    {
     "name": "stdout",
     "output_type": "stream",
     "text": [
      "[10]\tvalidation-rmse:5.18183\n",
      "[11]\tvalidation-rmse:5.17764                                                    \n",
      "[12]\tvalidation-rmse:5.16964                                                    \n",
      "[13]\tvalidation-rmse:5.16246                                                    \n",
      "[14]\tvalidation-rmse:5.16656                                                    \n",
      "🏃 View run righteous-cub-836 at: http://127.0.0.1:5000/#/experiments/596310372276179798/runs/1114fdbbf5dc450c8ccb09e2f740f667\n",
      "\n",
      "🧪 View experiment at: http://127.0.0.1:5000/#/experiments/596310372276179798   \n",
      "\n",
      "[0]\tvalidation-rmse:7.18116                                                     \n",
      "[1]\tvalidation-rmse:6.20116                                                     \n",
      "[2]\tvalidation-rmse:5.71312                                                     \n",
      "[3]\tvalidation-rmse:5.48153                                                     \n",
      "[4]\tvalidation-rmse:5.36656                                                     \n",
      "[5]\tvalidation-rmse:5.29316                                                     \n",
      "[6]\tvalidation-rmse:5.25247                                                     \n",
      "[7]\tvalidation-rmse:5.22001                                                     \n",
      "[8]\tvalidation-rmse:5.19985                                                     \n",
      "[9]\tvalidation-rmse:5.17365                                                     \n",
      "[10]\tvalidation-rmse:5.15942                                                    \n",
      " 74%|███████▍  | 37/50 [00:24<00:10,  1.24trial/s, best loss: 5.093812380196987]"
     ]
    },
    {
     "name": "stderr",
     "output_type": "stream",
     "text": [
      "c:\\Users\\HP\\Desktop\\ML Projects\\ml zoomcap\\mlops-camp\\mlvenv\\Lib\\site-packages\\xgboost\\callback.py:386: UserWarning: [23:50:02] WARNING: C:\\actions-runner\\_work\\xgboost\\xgboost\\src\\objective\\regression_obj.cu:250: reg:linear is now deprecated in favor of reg:squarederror.\n",
      "  self.starting_round = model.num_boosted_rounds()\n",
      "\n"
     ]
    },
    {
     "name": "stdout",
     "output_type": "stream",
     "text": [
      "[11]\tvalidation-rmse:5.14092                                                    \n",
      "[12]\tvalidation-rmse:5.13680                                                    \n",
      "[13]\tvalidation-rmse:5.13043                                                    \n",
      "[14]\tvalidation-rmse:5.13018                                                    \n",
      "🏃 View run upbeat-fawn-946 at: http://127.0.0.1:5000/#/experiments/596310372276179798/runs/f24dd9c5215944069e0b58fd1da30952\n",
      "\n",
      "🧪 View experiment at: http://127.0.0.1:5000/#/experiments/596310372276179798   \n",
      "\n",
      "[0]\tvalidation-rmse:7.12012                                                     \n",
      "[1]\tvalidation-rmse:6.16214                                                     \n",
      "[2]\tvalidation-rmse:5.71236                                                     \n",
      "[3]\tvalidation-rmse:5.50953                                                     \n",
      "[4]\tvalidation-rmse:5.37779                                                     \n",
      "[5]\tvalidation-rmse:5.30047                                                     \n",
      "[6]\tvalidation-rmse:5.26776                                                     \n",
      "[7]\tvalidation-rmse:5.23645                                                     \n",
      "[8]\tvalidation-rmse:5.21788                                                     \n",
      "[9]\tvalidation-rmse:5.20140                                                     \n",
      "[10]\tvalidation-rmse:5.18663                                                    \n",
      "                                                                                \r"
     ]
    },
    {
     "name": "stderr",
     "output_type": "stream",
     "text": [
      "c:\\Users\\HP\\Desktop\\ML Projects\\ml zoomcap\\mlops-camp\\mlvenv\\Lib\\site-packages\\xgboost\\callback.py:386: UserWarning: [23:50:02] WARNING: C:\\actions-runner\\_work\\xgboost\\xgboost\\src\\objective\\regression_obj.cu:250: reg:linear is now deprecated in favor of reg:squarederror.\n",
      "  self.starting_round = model.num_boosted_rounds()\n",
      "\n"
     ]
    },
    {
     "name": "stdout",
     "output_type": "stream",
     "text": [
      "[11]\tvalidation-rmse:5.17857\n",
      "[12]\tvalidation-rmse:5.16003                                                    \n",
      "[13]\tvalidation-rmse:5.15821                                                    \n",
      "[14]\tvalidation-rmse:5.14829                                                    \n",
      "🏃 View run unruly-seal-257 at: http://127.0.0.1:5000/#/experiments/596310372276179798/runs/14339ea227a34b099de042ccee9d8c36\n",
      "\n",
      "🧪 View experiment at: http://127.0.0.1:5000/#/experiments/596310372276179798   \n",
      "\n",
      "[0]\tvalidation-rmse:6.61716                                                     \n",
      "[1]\tvalidation-rmse:5.71035                                                     \n",
      "[2]\tvalidation-rmse:5.41366                                                     \n",
      "[3]\tvalidation-rmse:5.28892                                                     \n",
      "[4]\tvalidation-rmse:5.22892                                                     \n",
      "[5]\tvalidation-rmse:5.19884                                                     \n",
      "[6]\tvalidation-rmse:5.15887                                                     \n",
      " 78%|███████▊  | 39/50 [00:25<00:08,  1.36trial/s, best loss: 5.093812380196987]"
     ]
    },
    {
     "name": "stderr",
     "output_type": "stream",
     "text": [
      "c:\\Users\\HP\\Desktop\\ML Projects\\ml zoomcap\\mlops-camp\\mlvenv\\Lib\\site-packages\\xgboost\\callback.py:386: UserWarning: [23:50:03] WARNING: C:\\actions-runner\\_work\\xgboost\\xgboost\\src\\objective\\regression_obj.cu:250: reg:linear is now deprecated in favor of reg:squarederror.\n",
      "  self.starting_round = model.num_boosted_rounds()\n",
      "\n"
     ]
    },
    {
     "name": "stdout",
     "output_type": "stream",
     "text": [
      "[7]\tvalidation-rmse:5.14891                                                     \n",
      "[8]\tvalidation-rmse:5.14759                                                     \n",
      "[9]\tvalidation-rmse:5.14125                                                     \n",
      "[10]\tvalidation-rmse:5.12125                                                    \n",
      "[11]\tvalidation-rmse:5.10966                                                    \n",
      "[12]\tvalidation-rmse:5.11300                                                    \n",
      "[13]\tvalidation-rmse:5.10783                                                    \n",
      "[14]\tvalidation-rmse:5.10648                                                    \n",
      "🏃 View run mercurial-auk-244 at: http://127.0.0.1:5000/#/experiments/596310372276179798/runs/2305aa13b62745e0ab3e3464e8c3984f\n",
      "\n",
      "🧪 View experiment at: http://127.0.0.1:5000/#/experiments/596310372276179798   \n",
      "\n",
      "[0]\tvalidation-rmse:7.53637                                                     \n",
      "[1]\tvalidation-rmse:6.62213                                                     \n",
      "[2]\tvalidation-rmse:6.10487                                                     \n",
      "[3]\tvalidation-rmse:5.81557                                                     \n",
      "[4]\tvalidation-rmse:5.64627                                                     \n",
      "[5]\tvalidation-rmse:5.55423                                                     \n",
      "[6]\tvalidation-rmse:5.50082                                                     \n",
      "[7]\tvalidation-rmse:5.46366                                                     \n",
      "[8]\tvalidation-rmse:5.43330                                                     \n",
      "                                                                                \r"
     ]
    },
    {
     "name": "stderr",
     "output_type": "stream",
     "text": [
      "c:\\Users\\HP\\Desktop\\ML Projects\\ml zoomcap\\mlops-camp\\mlvenv\\Lib\\site-packages\\xgboost\\callback.py:386: UserWarning: [23:50:04] WARNING: C:\\actions-runner\\_work\\xgboost\\xgboost\\src\\objective\\regression_obj.cu:250: reg:linear is now deprecated in favor of reg:squarederror.\n",
      "  self.starting_round = model.num_boosted_rounds()\n",
      "\n"
     ]
    },
    {
     "name": "stdout",
     "output_type": "stream",
     "text": [
      "[9]\tvalidation-rmse:5.39813\n",
      "[10]\tvalidation-rmse:5.37529                                                    \n",
      "[11]\tvalidation-rmse:5.36365                                                    \n",
      "[12]\tvalidation-rmse:5.35174                                                    \n",
      "[13]\tvalidation-rmse:5.33987                                                    \n",
      "[14]\tvalidation-rmse:5.33354                                                    \n",
      "🏃 View run capable-perch-700 at: http://127.0.0.1:5000/#/experiments/596310372276179798/runs/0055c80bc8b84093ad79ae108aa28e4f\n",
      "\n",
      "🧪 View experiment at: http://127.0.0.1:5000/#/experiments/596310372276179798   \n",
      "\n",
      "[0]\tvalidation-rmse:6.21555                                                     \n",
      "[1]\tvalidation-rmse:5.61146                                                     \n",
      "[2]\tvalidation-rmse:5.43569                                                     \n",
      "[3]\tvalidation-rmse:5.36082                                                     \n",
      "[4]\tvalidation-rmse:5.32958                                                     \n",
      "[5]\tvalidation-rmse:5.30606                                                     \n",
      "[6]\tvalidation-rmse:5.28527                                                     \n",
      "[7]\tvalidation-rmse:5.23297                                                     \n",
      "[8]\tvalidation-rmse:5.21464                                                     \n",
      "[9]\tvalidation-rmse:5.20182                                                     \n",
      "[10]\tvalidation-rmse:5.19363                                                    \n",
      "[11]\tvalidation-rmse:5.18649                                                    \n",
      "                                                                                "
     ]
    },
    {
     "name": "stderr",
     "output_type": "stream",
     "text": [
      "c:\\Users\\HP\\Desktop\\ML Projects\\ml zoomcap\\mlops-camp\\mlvenv\\Lib\\site-packages\\xgboost\\callback.py:386: UserWarning: [23:50:05] WARNING: C:\\actions-runner\\_work\\xgboost\\xgboost\\src\\objective\\regression_obj.cu:250: reg:linear is now deprecated in favor of reg:squarederror.\n",
      "  self.starting_round = model.num_boosted_rounds()\n",
      "\n"
     ]
    },
    {
     "name": "stdout",
     "output_type": "stream",
     "text": [
      "[12]\tvalidation-rmse:5.18838\n",
      "[13]\tvalidation-rmse:5.18101                                                    \n",
      "[14]\tvalidation-rmse:5.17951                                                    \n",
      "🏃 View run agreeable-bee-499 at: http://127.0.0.1:5000/#/experiments/596310372276179798/runs/c5a22fa24cbb4406939e10207f02bf80\n",
      "\n",
      "🧪 View experiment at: http://127.0.0.1:5000/#/experiments/596310372276179798   \n",
      "\n",
      "[0]\tvalidation-rmse:5.51121                                                     \n",
      "[1]\tvalidation-rmse:5.36793                                                     \n",
      "[2]\tvalidation-rmse:5.35420                                                     \n",
      "[3]\tvalidation-rmse:5.36695                                                     \n",
      "[4]\tvalidation-rmse:5.38210                                                     \n",
      " 84%|████████▍ | 42/50 [00:27<00:06,  1.31trial/s, best loss: 5.093812380196987]"
     ]
    },
    {
     "name": "stderr",
     "output_type": "stream",
     "text": [
      "c:\\Users\\HP\\Desktop\\ML Projects\\ml zoomcap\\mlops-camp\\mlvenv\\Lib\\site-packages\\xgboost\\callback.py:386: UserWarning: [23:50:06] WARNING: C:\\actions-runner\\_work\\xgboost\\xgboost\\src\\objective\\regression_obj.cu:250: reg:linear is now deprecated in favor of reg:squarederror.\n",
      "  self.starting_round = model.num_boosted_rounds()\n",
      "\n"
     ]
    },
    {
     "name": "stdout",
     "output_type": "stream",
     "text": [
      "[5]\tvalidation-rmse:5.36646                                                     \n",
      "[6]\tvalidation-rmse:5.36157                                                     \n",
      "[7]\tvalidation-rmse:5.36808                                                     \n",
      "[8]\tvalidation-rmse:5.38255                                                     \n",
      "[9]\tvalidation-rmse:5.39227                                                     \n",
      "[10]\tvalidation-rmse:5.39366                                                    \n",
      "[11]\tvalidation-rmse:5.39678                                                    \n",
      "[12]\tvalidation-rmse:5.39950                                                    \n",
      "🏃 View run abundant-gnat-151 at: http://127.0.0.1:5000/#/experiments/596310372276179798/runs/87764d8109e6487ea0664df8a32b3a7c\n",
      "\n",
      "🧪 View experiment at: http://127.0.0.1:5000/#/experiments/596310372276179798   \n",
      "\n",
      "[0]\tvalidation-rmse:7.53117                                                     \n",
      "[1]\tvalidation-rmse:6.56742                                                     \n",
      "[2]\tvalidation-rmse:5.98569                                                     \n",
      "[3]\tvalidation-rmse:5.66030                                                     \n",
      "[4]\tvalidation-rmse:5.47855                                                     \n",
      "[5]\tvalidation-rmse:5.35766                                                     \n",
      "[6]\tvalidation-rmse:5.28178                                                     \n",
      "[7]\tvalidation-rmse:5.24244                                                     \n",
      "[8]\tvalidation-rmse:5.21486                                                     \n",
      " 86%|████████▌ | 43/50 [00:28<00:05,  1.31trial/s, best loss: 5.093812380196987]"
     ]
    },
    {
     "name": "stderr",
     "output_type": "stream",
     "text": [
      "c:\\Users\\HP\\Desktop\\ML Projects\\ml zoomcap\\mlops-camp\\mlvenv\\Lib\\site-packages\\xgboost\\callback.py:386: UserWarning: [23:50:06] WARNING: C:\\actions-runner\\_work\\xgboost\\xgboost\\src\\objective\\regression_obj.cu:250: reg:linear is now deprecated in favor of reg:squarederror.\n",
      "  self.starting_round = model.num_boosted_rounds()\n",
      "\n"
     ]
    },
    {
     "name": "stdout",
     "output_type": "stream",
     "text": [
      "[9]\tvalidation-rmse:5.19765                                                     \n",
      "[10]\tvalidation-rmse:5.17525                                                    \n",
      "[11]\tvalidation-rmse:5.15982                                                    \n",
      "[12]\tvalidation-rmse:5.14810                                                    \n",
      "[13]\tvalidation-rmse:5.13768                                                    \n",
      "[14]\tvalidation-rmse:5.12627                                                    \n",
      "🏃 View run selective-elk-510 at: http://127.0.0.1:5000/#/experiments/596310372276179798/runs/017fb9394db24363a4f25eec64a0c83b\n",
      "\n",
      "🧪 View experiment at: http://127.0.0.1:5000/#/experiments/596310372276179798   \n",
      "\n",
      "[0]\tvalidation-rmse:8.11446                                                     \n",
      "[1]\tvalidation-rmse:7.36148                                                     \n",
      "[2]\tvalidation-rmse:6.79973                                                     \n",
      "[3]\tvalidation-rmse:6.37778                                                     \n",
      "                                                                                \r"
     ]
    },
    {
     "name": "stderr",
     "output_type": "stream",
     "text": [
      "c:\\Users\\HP\\Desktop\\ML Projects\\ml zoomcap\\mlops-camp\\mlvenv\\Lib\\site-packages\\xgboost\\callback.py:386: UserWarning: [23:50:07] WARNING: C:\\actions-runner\\_work\\xgboost\\xgboost\\src\\objective\\regression_obj.cu:250: reg:linear is now deprecated in favor of reg:squarederror.\n",
      "  self.starting_round = model.num_boosted_rounds()\n",
      "\n"
     ]
    },
    {
     "name": "stdout",
     "output_type": "stream",
     "text": [
      "[4]\tvalidation-rmse:6.06716\n",
      "[5]\tvalidation-rmse:5.82869                                                     \n",
      "[6]\tvalidation-rmse:5.66246                                                     \n",
      "[7]\tvalidation-rmse:5.54692                                                     \n",
      "[8]\tvalidation-rmse:5.46014                                                     \n",
      "[9]\tvalidation-rmse:5.39913                                                     \n",
      "[10]\tvalidation-rmse:5.34784                                                    \n",
      "[11]\tvalidation-rmse:5.30291                                                    \n",
      "[12]\tvalidation-rmse:5.28018                                                    \n",
      "[13]\tvalidation-rmse:5.25158                                                    \n",
      "[14]\tvalidation-rmse:5.23263                                                    \n",
      "🏃 View run agreeable-chimp-623 at: http://127.0.0.1:5000/#/experiments/596310372276179798/runs/51d8cc3d57294bba9f2fb67511b35f8f\n",
      "\n",
      "🧪 View experiment at: http://127.0.0.1:5000/#/experiments/596310372276179798   \n",
      "\n",
      "[0]\tvalidation-rmse:6.77181                                                     \n",
      "[1]\tvalidation-rmse:5.86129                                                     \n",
      "[2]\tvalidation-rmse:5.53470                                                     \n",
      "[3]\tvalidation-rmse:5.39200                                                     \n",
      "[4]\tvalidation-rmse:5.30901                                                     \n",
      "[5]\tvalidation-rmse:5.26201                                                     \n",
      " 90%|█████████ | 45/50 [00:30<00:03,  1.26trial/s, best loss: 5.093812380196987]"
     ]
    },
    {
     "name": "stderr",
     "output_type": "stream",
     "text": [
      "c:\\Users\\HP\\Desktop\\ML Projects\\ml zoomcap\\mlops-camp\\mlvenv\\Lib\\site-packages\\xgboost\\callback.py:386: UserWarning: [23:50:08] WARNING: C:\\actions-runner\\_work\\xgboost\\xgboost\\src\\objective\\regression_obj.cu:250: reg:linear is now deprecated in favor of reg:squarederror.\n",
      "  self.starting_round = model.num_boosted_rounds()\n",
      "\n"
     ]
    },
    {
     "name": "stdout",
     "output_type": "stream",
     "text": [
      "[6]\tvalidation-rmse:5.22597                                                     \n",
      "[7]\tvalidation-rmse:5.20750                                                     \n",
      "[8]\tvalidation-rmse:5.19159                                                     \n",
      "[9]\tvalidation-rmse:5.18086                                                     \n",
      "[10]\tvalidation-rmse:5.17348                                                    \n",
      "[11]\tvalidation-rmse:5.15562                                                    \n",
      "[12]\tvalidation-rmse:5.14376                                                    \n",
      "[13]\tvalidation-rmse:5.14214                                                    \n",
      "[14]\tvalidation-rmse:5.13554                                                    \n",
      "🏃 View run illustrious-boar-739 at: http://127.0.0.1:5000/#/experiments/596310372276179798/runs/4148b70acde84b96b5e1bb2a036cda89\n",
      "\n",
      "🧪 View experiment at: http://127.0.0.1:5000/#/experiments/596310372276179798   \n",
      "\n",
      "[0]\tvalidation-rmse:6.09288                                                     \n",
      "[1]\tvalidation-rmse:5.77759                                                     \n",
      "[2]\tvalidation-rmse:5.70242                                                     \n",
      "[3]\tvalidation-rmse:5.62736                                                     \n",
      "[4]\tvalidation-rmse:5.58113                                                     \n",
      "[5]\tvalidation-rmse:5.54300                                                     \n",
      " 92%|█████████▏| 46/50 [00:31<00:03,  1.21trial/s, best loss: 5.093812380196987]"
     ]
    },
    {
     "name": "stderr",
     "output_type": "stream",
     "text": [
      "c:\\Users\\HP\\Desktop\\ML Projects\\ml zoomcap\\mlops-camp\\mlvenv\\Lib\\site-packages\\xgboost\\callback.py:386: UserWarning: [23:50:09] WARNING: C:\\actions-runner\\_work\\xgboost\\xgboost\\src\\objective\\regression_obj.cu:250: reg:linear is now deprecated in favor of reg:squarederror.\n",
      "  self.starting_round = model.num_boosted_rounds()\n",
      "\n"
     ]
    },
    {
     "name": "stdout",
     "output_type": "stream",
     "text": [
      "[6]\tvalidation-rmse:5.52338                                                     \n",
      "[7]\tvalidation-rmse:5.50018                                                     \n",
      "[8]\tvalidation-rmse:5.49582                                                     \n",
      "[9]\tvalidation-rmse:5.48581                                                     \n",
      "[10]\tvalidation-rmse:5.47553                                                    \n",
      "[11]\tvalidation-rmse:5.45871                                                    \n",
      "[12]\tvalidation-rmse:5.44225                                                    \n",
      "[13]\tvalidation-rmse:5.43454                                                    \n",
      "[14]\tvalidation-rmse:5.43666                                                    \n",
      "🏃 View run resilient-stag-536 at: http://127.0.0.1:5000/#/experiments/596310372276179798/runs/5159065af6cf468b8ef62a80e849cdd9\n",
      "\n",
      "🧪 View experiment at: http://127.0.0.1:5000/#/experiments/596310372276179798   \n",
      "\n",
      "[0]\tvalidation-rmse:7.04079                                                     \n",
      "[1]\tvalidation-rmse:6.08806                                                     \n",
      "[2]\tvalidation-rmse:5.66127                                                     \n",
      "[3]\tvalidation-rmse:5.46555                                                     \n",
      "[4]\tvalidation-rmse:5.35505                                                     \n",
      "[5]\tvalidation-rmse:5.28565                                                     \n",
      "[6]\tvalidation-rmse:5.25391                                                     \n",
      "[7]\tvalidation-rmse:5.23027                                                     \n",
      "[8]\tvalidation-rmse:5.22617                                                     \n",
      " 94%|█████████▍| 47/50 [00:32<00:02,  1.19trial/s, best loss: 5.093812380196987]"
     ]
    },
    {
     "name": "stderr",
     "output_type": "stream",
     "text": [
      "c:\\Users\\HP\\Desktop\\ML Projects\\ml zoomcap\\mlops-camp\\mlvenv\\Lib\\site-packages\\xgboost\\callback.py:386: UserWarning: [23:50:10] WARNING: C:\\actions-runner\\_work\\xgboost\\xgboost\\src\\objective\\regression_obj.cu:250: reg:linear is now deprecated in favor of reg:squarederror.\n",
      "  self.starting_round = model.num_boosted_rounds()\n",
      "\n"
     ]
    },
    {
     "name": "stdout",
     "output_type": "stream",
     "text": [
      "[9]\tvalidation-rmse:5.21870                                                     \n",
      "[10]\tvalidation-rmse:5.19777                                                    \n",
      "[11]\tvalidation-rmse:5.19692                                                    \n",
      "[12]\tvalidation-rmse:5.19317                                                    \n",
      "[13]\tvalidation-rmse:5.17881                                                    \n",
      "[14]\tvalidation-rmse:5.17650                                                    \n",
      "🏃 View run delightful-stork-191 at: http://127.0.0.1:5000/#/experiments/596310372276179798/runs/5b7c999eeb21458c975739340434dcff\n",
      "\n",
      "🧪 View experiment at: http://127.0.0.1:5000/#/experiments/596310372276179798   \n",
      "\n",
      "[0]\tvalidation-rmse:8.30082                                                     \n",
      "[1]\tvalidation-rmse:7.66006                                                     \n",
      "[2]\tvalidation-rmse:7.15390                                                     \n",
      "[3]\tvalidation-rmse:6.76529                                                     \n",
      "[4]\tvalidation-rmse:6.45549                                                     \n",
      "[5]\tvalidation-rmse:6.21532                                                     \n",
      "[6]\tvalidation-rmse:6.03505                                                     \n",
      "[7]\tvalidation-rmse:5.89774                                                     \n",
      " 96%|█████████▌| 48/50 [00:33<00:01,  1.24trial/s, best loss: 5.093812380196987]"
     ]
    },
    {
     "name": "stderr",
     "output_type": "stream",
     "text": [
      "c:\\Users\\HP\\Desktop\\ML Projects\\ml zoomcap\\mlops-camp\\mlvenv\\Lib\\site-packages\\xgboost\\callback.py:386: UserWarning: [23:50:11] WARNING: C:\\actions-runner\\_work\\xgboost\\xgboost\\src\\objective\\regression_obj.cu:250: reg:linear is now deprecated in favor of reg:squarederror.\n",
      "  self.starting_round = model.num_boosted_rounds()\n",
      "\n"
     ]
    },
    {
     "name": "stdout",
     "output_type": "stream",
     "text": [
      "[8]\tvalidation-rmse:5.79226                                                     \n",
      "[9]\tvalidation-rmse:5.71371                                                     \n",
      "[10]\tvalidation-rmse:5.65391                                                    \n",
      "[11]\tvalidation-rmse:5.60434                                                    \n",
      "[12]\tvalidation-rmse:5.56055                                                    \n",
      "[13]\tvalidation-rmse:5.52458                                                    \n",
      "[14]\tvalidation-rmse:5.49691                                                    \n",
      "🏃 View run gregarious-mole-710 at: http://127.0.0.1:5000/#/experiments/596310372276179798/runs/992201bc9223450d89c61594c805d959\n",
      "\n",
      "🧪 View experiment at: http://127.0.0.1:5000/#/experiments/596310372276179798   \n",
      "\n",
      "[0]\tvalidation-rmse:6.34833                                                     \n",
      "[1]\tvalidation-rmse:5.69696                                                     \n",
      "[2]\tvalidation-rmse:5.50401                                                     \n",
      "[3]\tvalidation-rmse:5.44240                                                     \n",
      "[4]\tvalidation-rmse:5.40883                                                     \n",
      "[5]\tvalidation-rmse:5.38734                                                     \n",
      "[6]\tvalidation-rmse:5.34482                                                     \n",
      "[7]\tvalidation-rmse:5.32722                                                     \n",
      " 98%|█████████▊| 49/50 [00:33<00:00,  1.20trial/s, best loss: 5.093812380196987]"
     ]
    },
    {
     "name": "stderr",
     "output_type": "stream",
     "text": [
      "c:\\Users\\HP\\Desktop\\ML Projects\\ml zoomcap\\mlops-camp\\mlvenv\\Lib\\site-packages\\xgboost\\callback.py:386: UserWarning: [23:50:11] WARNING: C:\\actions-runner\\_work\\xgboost\\xgboost\\src\\objective\\regression_obj.cu:250: reg:linear is now deprecated in favor of reg:squarederror.\n",
      "  self.starting_round = model.num_boosted_rounds()\n",
      "\n"
     ]
    },
    {
     "name": "stdout",
     "output_type": "stream",
     "text": [
      "[8]\tvalidation-rmse:5.32766                                                     \n",
      "[9]\tvalidation-rmse:5.30791                                                     \n",
      "[10]\tvalidation-rmse:5.29771                                                    \n",
      "[11]\tvalidation-rmse:5.28999                                                    \n",
      "[12]\tvalidation-rmse:5.28570                                                    \n",
      "[13]\tvalidation-rmse:5.27974                                                    \n",
      "[14]\tvalidation-rmse:5.26299                                                    \n",
      "🏃 View run receptive-snipe-644 at: http://127.0.0.1:5000/#/experiments/596310372276179798/runs/63f8de91b68f493e82015c3a7007570e\n",
      "\n",
      "🧪 View experiment at: http://127.0.0.1:5000/#/experiments/596310372276179798   \n",
      "\n",
      "100%|██████████| 50/50 [00:34<00:00,  1.44trial/s, best loss: 5.093812380196987]\n"
     ]
    }
   ],
   "source": [
    "search_space={\n",
    "    'max_depth':scope.int(hp.uniform('max_depth',3, 10)),\n",
    "    'learning_rate':hp.loguniform('learning_rate',-3,0),\n",
    "    'reg_alpha':hp.loguniform('reg_alpha',-5,-1),\n",
    "    'reg_lambda':hp.loguniform('reg_lambda',-6,-1),\n",
    "    'min_child_weight':hp.loguniform('min_child_weight',-1,3),\n",
    "    'objective':'reg:linear',\n",
    "    'seed':42\n",
    "}\n",
    "\n",
    "best_results= fmin(fn=objective,\n",
    "        space=search_space,\n",
    "        algo=tpe.suggest,\n",
    "        max_evals=50,\n",
    "        trials=Trials())"
   ]
  },
  {
   "cell_type": "markdown",
   "id": "7217c58b",
   "metadata": {},
   "source": [
    "# Log the model"
   ]
  },
  {
   "cell_type": "code",
   "execution_count": null,
   "id": "dbadd3ad",
   "metadata": {},
   "outputs": [
    {
     "name": "stdout",
     "output_type": "stream",
     "text": [
      "[0]\tvalidation-rmse:7.73499\n",
      "[1]\tvalidation-rmse:6.82008\n",
      "[2]\tvalidation-rmse:6.22154\n",
      "[3]\tvalidation-rmse:5.83803\n",
      "[4]\tvalidation-rmse:5.59543\n",
      "[5]\tvalidation-rmse:5.43222\n",
      "[6]\tvalidation-rmse:5.33321\n",
      "[7]\tvalidation-rmse:5.27198\n",
      "[8]\tvalidation-rmse:5.22532\n",
      "[9]\tvalidation-rmse:5.19313\n",
      "[10]\tvalidation-rmse:5.16584\n",
      "[11]\tvalidation-rmse:5.14921\n",
      "[12]\tvalidation-rmse:5.12501\n",
      "[13]\tvalidation-rmse:5.11836\n",
      "[14]\tvalidation-rmse:5.11178\n"
     ]
    },
    {
     "name": "stderr",
     "output_type": "stream",
     "text": [
      "/home/codespace/.python/current/lib/python3.12/site-packages/xgboost/callback.py:386: UserWarning: [21:16:16] WARNING: /workspace/src/objective/regression_obj.cu:250: reg:linear is now deprecated in favor of reg:squarederror.\n",
      "  self.starting_round = model.num_boosted_rounds()\n",
      "/home/codespace/.python/current/lib/python3.12/site-packages/mlflow/xgboost/__init__.py:168: UserWarning: [21:16:16] WARNING: /workspace/src/c_api/c_api.cc:1427: Saving model in the UBJSON format as default.  You can use file extension: `json`, `ubj` or `deprecated` to choose between formats.\n",
      "  xgb_model.save_model(model_data_path)\n",
      "\u001b[31m2025/05/19 21:16:21 WARNING mlflow.models.model: Model logged without a signature and input example. Please set `input_example` parameter when logging the model to auto infer the model signature.\u001b[0m\n"
     ]
    },
    {
     "name": "stdout",
     "output_type": "stream",
     "text": [
      "🏃 View run respected-rook-697 at: http://127.0.0.1:5000/#/experiments/596310372276179798/runs/91419e79ba5c44abbf611c3eb438e6c6\n",
      "🧪 View experiment at: http://127.0.0.1:5000/#/experiments/596310372276179798\n"
     ]
    }
   ],
   "source": [
    "import mlflow.xgboost\n",
    "\n",
    "\n",
    "with mlflow.start_run():\n",
    "    \n",
    "    best_params={'reg_lambda':0.007269041257774687,\n",
    "    'min_child_weight':3.7097356295703907,\n",
    "    'learning_rate':0.24288674966558005,\n",
    "    'objective':'reg:linear',\n",
    "    'seed':42,\n",
    "    'reg_alpha':0.009307293737791112,\n",
    "    'max_depth':9}\n",
    "    \n",
    "    mlflow.log_params(best_params)\n",
    "\n",
    "    booster=xgb.train(\n",
    "            params=best_params,\n",
    "            dtrain=dtrain,\n",
    "            num_boost_round=15,\n",
    "            evals=[(dvalid,\"validation\")],\n",
    "            early_stopping_rounds=10\n",
    "        )\n",
    "    y_pred=booster.predict(dvalid)\n",
    "    rmse=mean_squared_error(y_valid,y_pred)\n",
    "    rmse_=np.sqrt(rmse)\n",
    "    mlflow.log_metric(\"rmse\",rmse_)\n",
    "    \n",
    "    with open('models/preprocessor.bin','wb') as f_out:\n",
    "        pickle.dump(dv,f_out)\n",
    "\n",
    "    mlflow.log_artifact(local_path='models/preprocessor.bin',artifact_path='preprocessor')\n",
    "    mlflow.xgboost.log_model(booster,artifact_path='xgb_best_model')\n"
   ]
  },
  {
   "cell_type": "markdown",
   "id": "0a97a4be",
   "metadata": {},
   "source": [
    "## Load our Model"
   ]
  },
  {
   "cell_type": "code",
   "execution_count": 39,
   "id": "855eda28",
   "metadata": {},
   "outputs": [
    {
     "name": "stderr",
     "output_type": "stream",
     "text": [
      "c:\\Users\\HP\\Desktop\\ML Projects\\ml zoomcap\\mlops-camp\\mlvenv\\Lib\\site-packages\\tqdm\\auto.py:21: TqdmWarning: IProgress not found. Please update jupyter and ipywidgets. See https://ipywidgets.readthedocs.io/en/stable/user_install.html\n",
      "  from .autonotebook import tqdm as notebook_tqdm\n",
      "Downloading artifacts: 100%|██████████| 5/5 [00:00<00:00, 16.54it/s]\n",
      "2025/05/19 23:50:39 WARNING mlflow.utils.requirements_utils: Detected one or more mismatches between the model's dependencies and the current Python environment:\n",
      " - numpy (current: 2.2.6, required: numpy==2.2.4)\n",
      " - scipy (current: 1.15.3, required: scipy==1.15.2)\n",
      " - xgboost (current: 3.0.1, required: xgboost==3.0.0)\n",
      "To fix the mismatches, call `mlflow.pyfunc.get_model_dependencies(model_uri)` to fetch the model's environment and install dependencies using the resulting environment file.\n",
      "Downloading artifacts: 100%|██████████| 5/5 [00:00<00:00, 46.29it/s]\n"
     ]
    },
    {
     "data": {
      "text/plain": [
       "<xgboost.core.Booster at 0x24d78847d40>"
      ]
     },
     "execution_count": 39,
     "metadata": {},
     "output_type": "execute_result"
    }
   ],
   "source": [
    "import mlflow.xgboost\n",
    "\n",
    "\n",
    "logged_model='runs:/abc0a51ceb364d6ca613379530bd18ad/xgb_best_model'\n",
    "\n",
    "load_model=mlflow.pyfunc.load_model(logged_model)\n",
    "xgboost_model=mlflow.xgboost.load_model(logged_model)\n",
    "load_model\n",
    "xgboost_model"
   ]
  },
  {
   "cell_type": "code",
   "execution_count": 40,
   "id": "270d5305",
   "metadata": {},
   "outputs": [],
   "source": [
    "dvalid10=xgb.DMatrix(X_val[0:10])\n",
    "preds=xgboost_model.predict(dvalid10)"
   ]
  },
  {
   "cell_type": "markdown",
   "id": "d80c6c78",
   "metadata": {},
   "source": [
    " # let's use random forest and linear to reg our models differently"
   ]
  },
  {
   "cell_type": "code",
   "execution_count": 42,
   "id": "80cb4619",
   "metadata": {},
   "outputs": [
    {
     "data": {
      "text/plain": [
       "np.float64(8.590970401949107)"
      ]
     },
     "execution_count": 42,
     "metadata": {},
     "output_type": "execute_result"
    }
   ],
   "source": [
    "\n",
    "\n",
    "params = {\n",
    "    \"n_estimators\": 10,\n",
    "    \"max_depth\": 4,\n",
    "    \"min_samples_split\": 5,\n",
    "    \"learning_rate\": 0.01,\n",
    "    \"loss\": \"squared_error\",\n",
    "}\n",
    "Gb_r= GradientBoostingRegressor(**params)\n",
    "Gb_r.fit(X_train,y_train)\n",
    "y_pred=Gb_r.predict(X_val)\n",
    "mse=mean_squared_error(y_valid,y_pred)\n",
    "rmse=np.sqrt(mse)\n",
    "rmse"
   ]
  },
  {
   "cell_type": "code",
   "execution_count": null,
   "id": "076d3a2a",
   "metadata": {},
   "outputs": [],
   "source": [
    "def Grad_boost(params):\n",
    "    \n",
    "    with mlflow.start_run():\n",
    "        mlflow.set_tag(\"GB_model\",\"GradientBoost\") ## tage what we have\n",
    "        mlflow.log_params(params) ## this will log params\n",
    "\n",
    "        Gb_r= GradientBoostingRegressor(**params)\n",
    "        Gb_r.fit(X_train,y_train)\n",
    "        y_pred=Gb_r.predict(X_val)\n",
    "        mse=mean_squared_error(y_valid,y_pred)\n",
    "        rmse=np.sqrt(mse)\n",
    "\n",
    "        mlflow.log_metric(\"rmse\",rmse)\n",
    "    return {\"loss\":rmse,'status':STATUS_OK}\n",
    "\n"
   ]
  },
  {
   "cell_type": "code",
   "execution_count": null,
   "id": "a1f4e3e2",
   "metadata": {},
   "outputs": [
    {
     "name": "stdout",
     "output_type": "stream",
     "text": [
      "  0%|          | 0/15 [00:00<?, ?trial/s, best loss=?]"
     ]
    },
    {
     "name": "stderr",
     "output_type": "stream",
     "text": [
      "INFO:hyperopt.tpe:build_posterior_wrapper took 0.002721 seconds\n",
      "INFO:hyperopt.tpe:TPE using 0 trials\n"
     ]
    },
    {
     "name": "stdout",
     "output_type": "stream",
     "text": [
      "🏃 View run gifted-newt-967 at: http://127.0.0.1:5000/#/experiments/596310372276179798/runs/f115e52391994edb8eca99cf21ac20f6\n",
      "\n",
      "🧪 View experiment at: http://127.0.0.1:5000/#/experiments/596310372276179798\n",
      "\n",
      "  7%|▋         | 1/15 [00:09<02:15,  9.70s/trial, best loss: 5.28919245706254]"
     ]
    },
    {
     "name": "stderr",
     "output_type": "stream",
     "text": [
      "INFO:hyperopt.tpe:build_posterior_wrapper took 0.001016 seconds\n",
      "INFO:hyperopt.tpe:TPE using 1/1 trials with best loss 5.289192\n"
     ]
    },
    {
     "name": "stdout",
     "output_type": "stream",
     "text": [
      "🏃 View run skillful-trout-204 at: http://127.0.0.1:5000/#/experiments/596310372276179798/runs/3c4c3e4e99dd439a969070d2727a90d9\n",
      "\n",
      "🧪 View experiment at: http://127.0.0.1:5000/#/experiments/596310372276179798 \n",
      "\n",
      " 13%|█▎        | 2/15 [00:21<02:22, 10.97s/trial, best loss: 5.114996995564982]"
     ]
    },
    {
     "name": "stderr",
     "output_type": "stream",
     "text": [
      "INFO:hyperopt.tpe:build_posterior_wrapper took 0.001211 seconds\n",
      "INFO:hyperopt.tpe:TPE using 2/2 trials with best loss 5.114997\n"
     ]
    },
    {
     "name": "stdout",
     "output_type": "stream",
     "text": [
      "🏃 View run hilarious-lamb-754 at: http://127.0.0.1:5000/#/experiments/596310372276179798/runs/9c3665958dce4867bb21a4de0fc305d3\n",
      "\n",
      "🧪 View experiment at: http://127.0.0.1:5000/#/experiments/596310372276179798  \n",
      "\n",
      " 20%|██        | 3/15 [00:26<01:36,  8.07s/trial, best loss: 5.114996995564982]"
     ]
    },
    {
     "name": "stderr",
     "output_type": "stream",
     "text": [
      "INFO:hyperopt.tpe:build_posterior_wrapper took 0.001450 seconds\n",
      "INFO:hyperopt.tpe:TPE using 3/3 trials with best loss 5.114997\n"
     ]
    },
    {
     "name": "stdout",
     "output_type": "stream",
     "text": [
      "🏃 View run luminous-crab-249 at: http://127.0.0.1:5000/#/experiments/596310372276179798/runs/9c8c8e6442a4417e91ca96505d8203d5\n",
      "\n",
      "🧪 View experiment at: http://127.0.0.1:5000/#/experiments/596310372276179798  \n",
      "\n",
      " 27%|██▋       | 4/15 [00:33<01:26,  7.89s/trial, best loss: 5.114996995564982]"
     ]
    },
    {
     "name": "stderr",
     "output_type": "stream",
     "text": [
      "INFO:hyperopt.tpe:build_posterior_wrapper took 0.002028 seconds\n",
      "INFO:hyperopt.tpe:TPE using 4/4 trials with best loss 5.114997\n"
     ]
    },
    {
     "name": "stdout",
     "output_type": "stream",
     "text": [
      "🏃 View run bemused-donkey-966 at: http://127.0.0.1:5000/#/experiments/596310372276179798/runs/f484c4495814422b8fab55d1730f506e\n",
      "\n",
      "🧪 View experiment at: http://127.0.0.1:5000/#/experiments/596310372276179798  \n",
      "\n",
      " 33%|███▎      | 5/15 [00:38<01:08,  6.81s/trial, best loss: 5.114996995564982]"
     ]
    },
    {
     "name": "stderr",
     "output_type": "stream",
     "text": [
      "INFO:hyperopt.tpe:build_posterior_wrapper took 0.009364 seconds\n",
      "INFO:hyperopt.tpe:TPE using 5/5 trials with best loss 5.114997\n"
     ]
    },
    {
     "name": "stdout",
     "output_type": "stream",
     "text": [
      "🏃 View run incongruous-bass-92 at: http://127.0.0.1:5000/#/experiments/596310372276179798/runs/5efc5e6b3fa7431993cc31ed66e80b0b\n",
      "\n",
      "🧪 View experiment at: http://127.0.0.1:5000/#/experiments/596310372276179798  \n",
      "\n",
      " 40%|████      | 6/15 [00:44<00:57,  6.36s/trial, best loss: 5.114996995564982]"
     ]
    },
    {
     "name": "stderr",
     "output_type": "stream",
     "text": [
      "INFO:hyperopt.tpe:build_posterior_wrapper took 0.001982 seconds\n",
      "INFO:hyperopt.tpe:TPE using 6/6 trials with best loss 5.114997\n"
     ]
    },
    {
     "name": "stdout",
     "output_type": "stream",
     "text": [
      "🏃 View run popular-ray-512 at: http://127.0.0.1:5000/#/experiments/596310372276179798/runs/912d05c95e9e482bb46fecb68e51c9dd\n",
      "\n",
      "🧪 View experiment at: http://127.0.0.1:5000/#/experiments/596310372276179798  \n",
      "\n",
      " 47%|████▋     | 7/15 [00:49<00:47,  5.91s/trial, best loss: 5.114996995564982]"
     ]
    },
    {
     "name": "stderr",
     "output_type": "stream",
     "text": [
      "INFO:hyperopt.tpe:build_posterior_wrapper took 0.003281 seconds\n",
      "INFO:hyperopt.tpe:TPE using 7/7 trials with best loss 5.114997\n"
     ]
    },
    {
     "name": "stdout",
     "output_type": "stream",
     "text": [
      "🏃 View run enchanting-mole-779 at: http://127.0.0.1:5000/#/experiments/596310372276179798/runs/16be3cb8ed8d48a9ae427229f919e234\n",
      "\n",
      "🧪 View experiment at: http://127.0.0.1:5000/#/experiments/596310372276179798  \n",
      "\n",
      " 53%|█████▎    | 8/15 [01:03<01:00,  8.59s/trial, best loss: 5.0430327108826845]"
     ]
    },
    {
     "name": "stderr",
     "output_type": "stream",
     "text": [
      "INFO:hyperopt.tpe:build_posterior_wrapper took 0.001999 seconds\n",
      "INFO:hyperopt.tpe:TPE using 8/8 trials with best loss 5.043033\n"
     ]
    },
    {
     "name": "stdout",
     "output_type": "stream",
     "text": [
      "🏃 View run able-calf-172 at: http://127.0.0.1:5000/#/experiments/596310372276179798/runs/13d2c93b510947e5b56bdac3f7726494\n",
      "\n",
      "🧪 View experiment at: http://127.0.0.1:5000/#/experiments/596310372276179798   \n",
      "\n",
      " 60%|██████    | 9/15 [01:09<00:46,  7.80s/trial, best loss: 5.0430327108826845]"
     ]
    },
    {
     "name": "stderr",
     "output_type": "stream",
     "text": [
      "INFO:hyperopt.tpe:build_posterior_wrapper took 0.002512 seconds\n",
      "INFO:hyperopt.tpe:TPE using 9/9 trials with best loss 5.043033\n"
     ]
    },
    {
     "name": "stdout",
     "output_type": "stream",
     "text": [
      "🏃 View run spiffy-pug-618 at: http://127.0.0.1:5000/#/experiments/596310372276179798/runs/55eaa3fa41df4cf088f0186aec4f26db\n",
      "\n",
      "🧪 View experiment at: http://127.0.0.1:5000/#/experiments/596310372276179798   \n",
      "\n",
      " 67%|██████▋   | 10/15 [01:16<00:38,  7.63s/trial, best loss: 5.0430327108826845]"
     ]
    },
    {
     "name": "stderr",
     "output_type": "stream",
     "text": [
      "INFO:hyperopt.tpe:build_posterior_wrapper took 0.000969 seconds\n",
      "INFO:hyperopt.tpe:TPE using 10/10 trials with best loss 5.043033\n"
     ]
    },
    {
     "name": "stdout",
     "output_type": "stream",
     "text": [
      "🏃 View run popular-owl-441 at: http://127.0.0.1:5000/#/experiments/596310372276179798/runs/c26e3a1961cf409f8ac06f4ee16f05f1\n",
      "\n",
      "🧪 View experiment at: http://127.0.0.1:5000/#/experiments/596310372276179798    \n",
      "\n",
      " 73%|███████▎  | 11/15 [01:26<00:33,  8.41s/trial, best loss: 5.0430327108826845]"
     ]
    },
    {
     "name": "stderr",
     "output_type": "stream",
     "text": [
      "INFO:hyperopt.tpe:build_posterior_wrapper took 0.002044 seconds\n",
      "INFO:hyperopt.tpe:TPE using 11/11 trials with best loss 5.043033\n"
     ]
    },
    {
     "name": "stdout",
     "output_type": "stream",
     "text": [
      "🏃 View run masked-koi-461 at: http://127.0.0.1:5000/#/experiments/596310372276179798/runs/d0488acd2dd842e8b6cd441700e722b6\n",
      "\n",
      "🧪 View experiment at: http://127.0.0.1:5000/#/experiments/596310372276179798    \n",
      "\n",
      " 80%|████████  | 12/15 [01:31<00:21,  7.27s/trial, best loss: 5.0430327108826845]"
     ]
    },
    {
     "name": "stderr",
     "output_type": "stream",
     "text": [
      "INFO:hyperopt.tpe:build_posterior_wrapper took 0.002236 seconds\n",
      "INFO:hyperopt.tpe:TPE using 12/12 trials with best loss 5.043033\n"
     ]
    },
    {
     "name": "stdout",
     "output_type": "stream",
     "text": [
      "🏃 View run indecisive-mare-94 at: http://127.0.0.1:5000/#/experiments/596310372276179798/runs/09984f7b9bc9421390e298342681e31f\n",
      "\n",
      "🧪 View experiment at: http://127.0.0.1:5000/#/experiments/596310372276179798    \n",
      "\n",
      " 87%|████████▋ | 13/15 [01:38<00:14,  7.16s/trial, best loss: 5.0430327108826845]"
     ]
    },
    {
     "name": "stderr",
     "output_type": "stream",
     "text": [
      "INFO:hyperopt.tpe:build_posterior_wrapper took 0.001316 seconds\n",
      "INFO:hyperopt.tpe:TPE using 13/13 trials with best loss 5.043033\n"
     ]
    },
    {
     "name": "stdout",
     "output_type": "stream",
     "text": [
      "🏃 View run stylish-squid-407 at: http://127.0.0.1:5000/#/experiments/596310372276179798/runs/4810afb220404ee8b333788b8fb9e718\n",
      "\n",
      "🧪 View experiment at: http://127.0.0.1:5000/#/experiments/596310372276179798    \n",
      "\n",
      " 93%|█████████▎| 14/15 [01:43<00:06,  6.55s/trial, best loss: 5.0430327108826845]"
     ]
    },
    {
     "name": "stderr",
     "output_type": "stream",
     "text": [
      "INFO:hyperopt.tpe:build_posterior_wrapper took 0.002790 seconds\n",
      "INFO:hyperopt.tpe:TPE using 14/14 trials with best loss 5.043033\n"
     ]
    },
    {
     "name": "stdout",
     "output_type": "stream",
     "text": [
      "🏃 View run nervous-mare-176 at: http://127.0.0.1:5000/#/experiments/596310372276179798/runs/18667c4ea21549e18153e909839766a3\n",
      "\n",
      "🧪 View experiment at: http://127.0.0.1:5000/#/experiments/596310372276179798    \n",
      "\n",
      "100%|██████████| 15/15 [01:51<00:00,  7.46s/trial, best loss: 5.0430327108826845]\n"
     ]
    }
   ],
   "source": [
    "from hyperopt import fmin,tpe,hp,STATUS_OK,Trials\n",
    "from hyperopt.pyll import scope\n",
    "\n",
    "search_space = {\n",
    "    'max_depth': scope.int(hp.uniform('max_depth', 3, 10)),\n",
    "    'learning_rate': hp.loguniform('learning_rate', -3, 0),\n",
    "    'min_samples_split': scope.int(hp.quniform('min_samples_split', 2, 20, 1)),\n",
    "    'min_samples_leaf': scope.int(hp.quniform('min_samples_leaf', 1, 20, 1)),\n",
    "    'subsample': hp.uniform('subsample', 0.5, 1.0)\n",
    "}\n",
    "\n",
    "best_gb=fmin(\n",
    "    fn=Grad_boost,\n",
    "    space=search_space,\n",
    "    algo=tpe.suggest,\n",
    "    max_evals=15,\n",
    "    trials=Trials()\n",
    ")"
   ]
  },
  {
   "cell_type": "code",
   "execution_count": 47,
   "id": "3f4944b2",
   "metadata": {},
   "outputs": [
    {
     "data": {
      "text/plain": [
       "{'learning_rate': np.float64(0.16740419617304556),\n",
       " 'max_depth': np.float64(9.861401583898397),\n",
       " 'min_samples_leaf': np.float64(7.0),\n",
       " 'min_samples_split': np.float64(15.0),\n",
       " 'subsample': np.float64(0.7245377045257941)}"
      ]
     },
     "execution_count": 47,
     "metadata": {},
     "output_type": "execute_result"
    }
   ],
   "source": [
    "best_gb"
   ]
  },
  {
   "cell_type": "code",
   "execution_count": 49,
   "id": "361eef68",
   "metadata": {},
   "outputs": [
    {
     "name": "stderr",
     "output_type": "stream",
     "text": [
      "2025/05/20 00:24:38 WARNING mlflow.models.model: Model logged without a signature and input example. Please set `input_example` parameter when logging the model to auto infer the model signature.\n",
      "Successfully registered model 'sk-learn-gradient-reg-model'.\n",
      "2025/05/20 00:24:38 INFO mlflow.store.model_registry.abstract_store: Waiting up to 300 seconds for model version to finish creation. Model name: sk-learn-gradient-reg-model, version 1\n"
     ]
    },
    {
     "name": "stdout",
     "output_type": "stream",
     "text": [
      "🏃 View run best_gb_model at: http://127.0.0.1:5000/#/experiments/596310372276179798/runs/e0d7512371554f29805d400f475f9cb2\n",
      "🧪 View experiment at: http://127.0.0.1:5000/#/experiments/596310372276179798\n"
     ]
    },
    {
     "name": "stderr",
     "output_type": "stream",
     "text": [
      "Created version '1' of model 'sk-learn-gradient-reg-model'.\n"
     ]
    }
   ],
   "source": [
    "import mlflow.sklearn\n",
    "import mlflow.sklearn\n",
    "\n",
    "\n",
    "best_gb['max_depth']=int(best_gb['max_depth'])\n",
    "best_gb['min_samples_leaf']=int(best_gb['min_samples_leaf'])\n",
    "best_gb['min_samples_split']=int(best_gb['min_samples_split'])\n",
    "\n",
    "final_model=GradientBoostingRegressor(**best_gb)\n",
    "final_model.fit(X_train,y_train)\n",
    "\n",
    "with mlflow.start_run(run_name=\"best_gb_model\"):\n",
    "    mlflow.set_tag(\"stage\",\"competitor\")\n",
    "    mlflow.log_params(best_gb)\n",
    "\n",
    "    y_pred=final_model.predict(X_val)\n",
    "    mse=mean_squared_error(y_valid,y_pred)\n",
    "    rmse=np.sqrt(rmse)\n",
    "    mlflow.log_metric(\"rmse\",rmse)\n",
    "\n",
    "    mlflow.sklearn.log_model(final_model,\"gb_model\",registered_model_name=\"sk-learn-gradient-reg-model\")"
   ]
  }
 ],
 "metadata": {
  "kernelspec": {
   "display_name": "mlvenv",
   "language": "python",
   "name": "python3"
  },
  "language_info": {
   "codemirror_mode": {
    "name": "ipython",
    "version": 3
   },
   "file_extension": ".py",
   "mimetype": "text/x-python",
   "name": "python",
   "nbconvert_exporter": "python",
   "pygments_lexer": "ipython3",
   "version": "3.12.3"
  }
 },
 "nbformat": 4,
 "nbformat_minor": 5
}
