{
 "cells": [
  {
   "cell_type": "markdown",
   "id": "c180091e",
   "metadata": {},
   "source": [
    "# Scenario 1\n",
    "##### a. Tracking Server: no\n",
    "##### b. Backend store: localfilesystem\n",
    "##### a. Artifact store : localfilesystem"
   ]
  },
  {
   "cell_type": "code",
   "execution_count": 1,
   "id": "760d3dba",
   "metadata": {},
   "outputs": [],
   "source": [
    "import mlflow"
   ]
  },
  {
   "cell_type": "code",
   "execution_count": 2,
   "id": "88e46200",
   "metadata": {},
   "outputs": [
    {
     "name": "stdout",
     "output_type": "stream",
     "text": [
      "file:///c:/Users/HP/Desktop/ML%20Projects/ml%20zoomcap/mlops-camp/02.mlflow/mlflow%20practice/mlruns\n"
     ]
    }
   ],
   "source": [
    "print(mlflow.get_tracking_uri())"
   ]
  },
  {
   "cell_type": "code",
   "execution_count": 3,
   "id": "40374e99",
   "metadata": {},
   "outputs": [
    {
     "data": {
      "text/plain": [
       "[<Experiment: artifact_location='file:///c:/Users/HP/Desktop/ML%20Projects/ml%20zoomcap/mlops-camp/02.mlflow/mlflow%20practice/mlruns/0', creation_time=1747871711614, experiment_id='0', last_update_time=1747871711614, lifecycle_stage='active', name='Default', tags={}>]"
      ]
     },
     "execution_count": 3,
     "metadata": {},
     "output_type": "execute_result"
    }
   ],
   "source": [
    "mlflow.search_experiments()"
   ]
  },
  {
   "cell_type": "markdown",
   "id": "95e5a99e",
   "metadata": {},
   "source": [
    "## Create and experiment and log  a new run"
   ]
  },
  {
   "cell_type": "code",
   "execution_count": 1,
   "id": "e8a97c7b",
   "metadata": {},
   "outputs": [
    {
     "name": "stderr",
     "output_type": "stream",
     "text": [
      "2025/05/22 01:15:30 INFO mlflow.tracking.fluent: Experiment with name 'scenario-1-exp' does not exist. Creating a new experiment.\n",
      "2025/05/22 01:15:43 WARNING mlflow.models.model: Model logged without a signature and input example. Please set `input_example` parameter when logging the model to auto infer the model signature.\n"
     ]
    },
    {
     "name": "stdout",
     "output_type": "stream",
     "text": [
      "artifact_path: file:///c:/Users/HP/Desktop/ML%20Projects/ml%20zoomcap/mlops-camp/02.mlflow/mlflow%20practice/mlruns/448395601097644772/68afe7412e794ac0b74eb725eb539fb1/artifacts\n"
     ]
    }
   ],
   "source": [
    "import mlflow.sklearn\n",
    "from sklearn.linear_model import LogisticRegression\n",
    "from sklearn.datasets  import load_iris\n",
    "from sklearn.metrics import accuracy_score\n",
    "\n",
    "\n",
    "mlflow.set_experiment('scenario-1-exp')\n",
    "\n",
    "with mlflow.start_run():\n",
    "    X,y=load_iris(return_X_y=True)\n",
    "\n",
    "    params={\n",
    "        \"C\":0.2,\n",
    "        \"random_state\":42\n",
    "    }\n",
    "\n",
    "    mlflow.log_params(params)\n",
    "\n",
    "    lr=LogisticRegression(**params)\n",
    "    lr.fit(X,y)\n",
    "    y_pred=lr.predict(X)\n",
    "    accuracy_sc=accuracy_score(y,y_pred)\n",
    "    mlflow.log_metric(\"accuracy\",accuracy_sc)\n",
    "    mlflow.sklearn.log_model(lr,artifact_path=\"model\")\n",
    "    print(f\"artifact_path: {mlflow.get_artifact_uri()}\")\n",
    "\n",
    "\n",
    "     "
   ]
  },
  {
   "cell_type": "code",
   "execution_count": 2,
   "id": "5e80dac4",
   "metadata": {},
   "outputs": [
    {
     "data": {
      "text/plain": [
       "[<Experiment: artifact_location='file:///c:/Users/HP/Desktop/ML%20Projects/ml%20zoomcap/mlops-camp/02.mlflow/mlflow%20practice/mlruns/448395601097644772', creation_time=1747872930988, experiment_id='448395601097644772', last_update_time=1747872930988, lifecycle_stage='active', name='scenario-1-exp', tags={}>,\n",
       " <Experiment: artifact_location='file:///c:/Users/HP/Desktop/ML%20Projects/ml%20zoomcap/mlops-camp/02.mlflow/mlflow%20practice/mlruns/0', creation_time=1747871711614, experiment_id='0', last_update_time=1747871711614, lifecycle_stage='active', name='Default', tags={}>]"
      ]
     },
     "execution_count": 2,
     "metadata": {},
     "output_type": "execute_result"
    }
   ],
   "source": [
    "mlflow.search_experiments()"
   ]
  },
  {
   "cell_type": "code",
   "execution_count": 3,
   "id": "dd619d3e",
   "metadata": {},
   "outputs": [],
   "source": [
    "from mlflow.tracking import MlflowClient\n",
    "\n",
    "client=MlflowClient()"
   ]
  },
  {
   "cell_type": "code",
   "execution_count": null,
   "id": "b5306d09",
   "metadata": {},
   "outputs": [],
   "source": [
    "client.search_registered_models()"
   ]
  }
 ],
 "metadata": {
  "kernelspec": {
   "display_name": "mlvenv",
   "language": "python",
   "name": "python3"
  },
  "language_info": {
   "codemirror_mode": {
    "name": "ipython",
    "version": 3
   },
   "file_extension": ".py",
   "mimetype": "text/x-python",
   "name": "python",
   "nbconvert_exporter": "python",
   "pygments_lexer": "ipython3",
   "version": "3.12.3"
  }
 },
 "nbformat": 4,
 "nbformat_minor": 5
}
