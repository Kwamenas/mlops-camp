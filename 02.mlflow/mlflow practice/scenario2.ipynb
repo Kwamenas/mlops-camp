{
 "cells": [
  {
   "cell_type": "markdown",
   "id": "1477b3f0",
   "metadata": {},
   "source": [
    "# Scenario 2: A cross-functional team with one data scientist working on an ML model\n",
    "### MLflow setup:\n",
    "\n",
    "##### tracking server: yes, local server\n",
    "##### backend store: sqlite database\n",
    "##### artifacts store: local filesystem\n",
    "##### The experiments can be explored locally by accessing the local tracking server."
   ]
  },
  {
   "cell_type": "code",
   "execution_count": 2,
   "id": "a3a2497f",
   "metadata": {},
   "outputs": [
    {
     "name": "stdout",
     "output_type": "stream",
     "text": [
      "Tracking URI:http://127.0.0.1:5000\n"
     ]
    }
   ],
   "source": [
    "import mlflow\n",
    "\n",
    "mlflow.set_tracking_uri('http://127.0.0.1:5000')\n",
    "\n",
    "print(f\"Tracking URI:{mlflow.get_tracking_uri()}\")"
   ]
  },
  {
   "cell_type": "code",
   "execution_count": 3,
   "id": "c3fdbe00",
   "metadata": {},
   "outputs": [
    {
     "data": {
      "text/plain": [
       "[<Experiment: artifact_location=('file:///C:/Users/HP/Desktop/ML Projects/ml '\n",
       "  'zoomcap/mlops-camp/mlartifacts/artifacts_local/0'), creation_time=1748035756066, experiment_id='0', last_update_time=1748035756066, lifecycle_stage='active', name='Default', tags={}>]"
      ]
     },
     "execution_count": 3,
     "metadata": {},
     "output_type": "execute_result"
    }
   ],
   "source": [
    "mlflow.search_experiments()"
   ]
  },
  {
   "cell_type": "code",
   "execution_count": 4,
   "id": "a8f7e0dc",
   "metadata": {},
   "outputs": [
    {
     "name": "stderr",
     "output_type": "stream",
     "text": [
      "2025/05/23 22:37:16 INFO mlflow.tracking.fluent: Experiment with name 'scenario-2-exp' does not exist. Creating a new experiment.\n",
      "2025/05/23 22:37:26 WARNING mlflow.models.model: Model logged without a signature and input example. Please set `input_example` parameter when logging the model to auto infer the model signature.\n"
     ]
    },
    {
     "name": "stdout",
     "output_type": "stream",
     "text": [
      "artifact_path: file:///C:/Users/HP/Desktop/ML Projects/ml zoomcap/mlops-camp/mlartifacts/artifacts_local/1/ee30dcf56ab34005ba0951cdde56b0fa/artifacts\n",
      "🏃 View run nosy-flea-391 at: http://127.0.0.1:5000/#/experiments/1/runs/ee30dcf56ab34005ba0951cdde56b0fa\n",
      "🧪 View experiment at: http://127.0.0.1:5000/#/experiments/1\n"
     ]
    }
   ],
   "source": [
    "import mlflow.sklearn\n",
    "from sklearn.linear_model import LogisticRegression\n",
    "from sklearn.datasets  import load_iris\n",
    "from sklearn.metrics import accuracy_score\n",
    "\n",
    "\n",
    "mlflow.set_experiment('scenario-2-exp')\n",
    "\n",
    "with mlflow.start_run():\n",
    "    X,y=load_iris(return_X_y=True)\n",
    "\n",
    "    params={\n",
    "        \"C\":0.2,\n",
    "        \"random_state\":42\n",
    "    }\n",
    "\n",
    "    mlflow.log_params(params)\n",
    "\n",
    "    lr=LogisticRegression(**params)\n",
    "    lr.fit(X,y)\n",
    "    y_pred=lr.predict(X)\n",
    "    accuracy_sc=accuracy_score(y,y_pred)\n",
    "    mlflow.log_metric(\"accuracy\",accuracy_sc)\n",
    "    mlflow.sklearn.log_model(lr,artifact_path=\"model\")\n",
    "    print(f\"artifact_path: {mlflow.get_artifact_uri()}\")\n"
   ]
  },
  {
   "cell_type": "code",
   "execution_count": 5,
   "id": "5fc3797e",
   "metadata": {},
   "outputs": [
    {
     "data": {
      "text/plain": [
       "[<Experiment: artifact_location=('file:///C:/Users/HP/Desktop/ML Projects/ml '\n",
       "  'zoomcap/mlops-camp/mlartifacts/artifacts_local/1'), creation_time=1748036236384, experiment_id='1', last_update_time=1748036236384, lifecycle_stage='active', name='scenario-2-exp', tags={}>,\n",
       " <Experiment: artifact_location=('file:///C:/Users/HP/Desktop/ML Projects/ml '\n",
       "  'zoomcap/mlops-camp/mlartifacts/artifacts_local/0'), creation_time=1748035756066, experiment_id='0', last_update_time=1748035756066, lifecycle_stage='active', name='Default', tags={}>]"
      ]
     },
     "execution_count": 5,
     "metadata": {},
     "output_type": "execute_result"
    }
   ],
   "source": [
    "mlflow.search_experiments()"
   ]
  },
  {
   "cell_type": "code",
   "execution_count": 16,
   "id": "83a640af",
   "metadata": {},
   "outputs": [
    {
     "name": "stdout",
     "output_type": "stream",
     "text": [
      "exp_id:1\n",
      "exp_id:0\n"
     ]
    },
    {
     "name": "stderr",
     "output_type": "stream",
     "text": [
      "Successfully registered model 'toy_model'.\n",
      "2025/05/23 22:58:18 INFO mlflow.store.model_registry.abstract_store: Waiting up to 300 seconds for model version to finish creation. Model name: toy_model, version 1\n",
      "Created version '1' of model 'toy_model'.\n"
     ]
    },
    {
     "data": {
      "text/plain": [
       "<ModelVersion: aliases=[], creation_timestamp=1748037498821, current_stage='None', description='', last_updated_timestamp=1748037498821, name='toy_model', run_id='ee30dcf56ab34005ba0951cdde56b0fa', run_link='', source=('file:///C:/Users/HP/Desktop/ML Projects/ml '\n",
       " 'zoomcap/mlops-camp/mlartifacts/artifacts_local/1/ee30dcf56ab34005ba0951cdde56b0fa/artifacts/Lr_model'), status='READY', status_message=None, tags={}, user_id='', version='1'>"
      ]
     },
     "execution_count": 16,
     "metadata": {},
     "output_type": "execute_result"
    }
   ],
   "source": [
    "from mlflow.tracking import MlflowClient\n",
    "\n",
    "client=MlflowClient()\n",
    "\n",
    "experiments=mlflow.search_experiments()\n",
    "\n",
    "for exp in experiments:\n",
    "    print(f\"exp_id:{exp.experiment_id}\")\n",
    "\n",
    "exp_id=1\n",
    "\n",
    "runs=client.search_runs(experiment_ids=exp_id)\n",
    "\n",
    "for run in runs:\n",
    "    run_id=run.info.run_id\n",
    "\n",
    "\n",
    "\n",
    "run_id\n",
    "artifact_path='Lr_model'\n",
    "model_uri=f\"runs:/{run_id}/{artifact_path}\"\n",
    "\n",
    "model_name='toy_model'\n",
    "\n",
    "mlflow.register_model(model_uri,model_name)"
   ]
  }
 ],
 "metadata": {
  "kernelspec": {
   "display_name": "mlvenv",
   "language": "python",
   "name": "python3"
  },
  "language_info": {
   "codemirror_mode": {
    "name": "ipython",
    "version": 3
   },
   "file_extension": ".py",
   "mimetype": "text/x-python",
   "name": "python",
   "nbconvert_exporter": "python",
   "pygments_lexer": "ipython3",
   "version": "3.12.3"
  }
 },
 "nbformat": 4,
 "nbformat_minor": 5
}
