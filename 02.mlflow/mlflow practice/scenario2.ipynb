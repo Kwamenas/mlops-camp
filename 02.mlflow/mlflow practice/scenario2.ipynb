{
 "cells": [
  {
   "cell_type": "markdown",
   "id": "1477b3f0",
   "metadata": {},
   "source": [
    "# Scenario 2: A cross-functional team with one data scientist working on an ML model\n",
    "### MLflow setup:\n",
    "\n",
    "##### tracking server: yes, local server\n",
    "##### backend store: sqlite database\n",
    "##### artifacts store: local filesystem\n",
    "##### The experiments can be explored locally by accessing the local tracking server."
   ]
  },
  {
   "cell_type": "code",
   "execution_count": null,
   "id": "a3a2497f",
   "metadata": {
    "vscode": {
     "languageId": "plaintext"
    }
   },
   "outputs": [],
   "source": []
  }
 ],
 "metadata": {
  "language_info": {
   "name": "python"
  }
 },
 "nbformat": 4,
 "nbformat_minor": 5
}
